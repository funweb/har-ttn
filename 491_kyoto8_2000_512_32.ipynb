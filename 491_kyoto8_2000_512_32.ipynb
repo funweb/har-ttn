{
 "cells": [
  {
   "cell_type": "markdown",
   "metadata": {
    "pycharm": {
     "name": "#%% md\n"
    }
   },
   "source": [
    "# file name meaning\n",
    "\n",
    "eg. 100_cairo_2000_1024_32.ipynb\n",
    "\n",
    "`[tag]_[dataset_name]_[epochs/maxIters]_[data_length/seq_len]_[batch_size]`"
   ]
  },
  {
   "cell_type": "code",
   "execution_count": 1,
   "metadata": {
    "pycharm": {
     "name": "#%%\n"
    }
   },
   "outputs": [
    {
     "name": "stderr",
     "output_type": "stream",
     "text": [
      "/home/musk/anaconda3/envs/HARedit/lib/python3.6/site-packages/tensorflow/python/framework/dtypes.py:523: FutureWarning: Passing (type, 1) or '1type' as a synonym of type is deprecated; in a future version of numpy, it will be understood as (type, (1,)) / '(1,)type'.\n",
      "  _np_qint8 = np.dtype([(\"qint8\", np.int8, 1)])\n",
      "/home/musk/anaconda3/envs/HARedit/lib/python3.6/site-packages/tensorflow/python/framework/dtypes.py:524: FutureWarning: Passing (type, 1) or '1type' as a synonym of type is deprecated; in a future version of numpy, it will be understood as (type, (1,)) / '(1,)type'.\n",
      "  _np_quint8 = np.dtype([(\"quint8\", np.uint8, 1)])\n",
      "/home/musk/anaconda3/envs/HARedit/lib/python3.6/site-packages/tensorflow/python/framework/dtypes.py:525: FutureWarning: Passing (type, 1) or '1type' as a synonym of type is deprecated; in a future version of numpy, it will be understood as (type, (1,)) / '(1,)type'.\n",
      "  _np_qint16 = np.dtype([(\"qint16\", np.int16, 1)])\n",
      "/home/musk/anaconda3/envs/HARedit/lib/python3.6/site-packages/tensorflow/python/framework/dtypes.py:526: FutureWarning: Passing (type, 1) or '1type' as a synonym of type is deprecated; in a future version of numpy, it will be understood as (type, (1,)) / '(1,)type'.\n",
      "  _np_quint16 = np.dtype([(\"quint16\", np.uint16, 1)])\n",
      "/home/musk/anaconda3/envs/HARedit/lib/python3.6/site-packages/tensorflow/python/framework/dtypes.py:527: FutureWarning: Passing (type, 1) or '1type' as a synonym of type is deprecated; in a future version of numpy, it will be understood as (type, (1,)) / '(1,)type'.\n",
      "  _np_qint32 = np.dtype([(\"qint32\", np.int32, 1)])\n",
      "/home/musk/anaconda3/envs/HARedit/lib/python3.6/site-packages/tensorflow/python/framework/dtypes.py:532: FutureWarning: Passing (type, 1) or '1type' as a synonym of type is deprecated; in a future version of numpy, it will be understood as (type, (1,)) / '(1,)type'.\n",
      "  np_resource = np.dtype([(\"resource\", np.ubyte, 1)])\n"
     ]
    }
   ],
   "source": [
    "from train_network_synthetic import train_ttn\n",
    "\n",
    "from configuration import general\n",
    "import os\n",
    "from configuration.configure import JUPYTER_TOKEN\n",
    "\n",
    "\n",
    "nb_name_file = general.ipy_nb_name(JUPYTER_TOKEN[\"token_lists\"])"
   ]
  },
  {
   "cell_type": "code",
   "execution_count": 2,
   "metadata": {
    "pycharm": {
     "name": "#%%\n"
    }
   },
   "outputs": [
    {
     "data": {
      "text/plain": [
       "{'num': '491',\n",
       " 'dataset_name': 'kyoto8',\n",
       " 'maxIters': 2000,\n",
       " 'seq_len': 512,\n",
       " 'batch_size': 32}"
      ]
     },
     "metadata": {},
     "output_type": "display_data"
    }
   ],
   "source": [
    "theNotebook = nb_name_file.split('_')\n",
    "assert len(theNotebook) == 5, 'The number of parameters should be 5'\n",
    "\n",
    "global title_param\n",
    "title_param = {\n",
    "    'num': theNotebook[0],\n",
    "    'dataset_name': theNotebook[1],\n",
    "    'maxIters': int(theNotebook[2]),\n",
    "    'seq_len': int(theNotebook[3]),\n",
    "    'batch_size': int(theNotebook[4]),\n",
    "}\n",
    "\n",
    "# assert title_param['dataset'] in ['cairo', 'milan', 'kyoto7', 'kyoto8', 'kyoto11'], 'Please correct the dataset name！'\n",
    "# assert title_param['model_name'] in ['WCNN','LSTM'], 'The method is wrong. Please correct it！'\n",
    "# assert title_param['optimizer'] in ['rms', 'adagrad'], 'The optimizer is wrong. Please correct it！'\n",
    "# assert title_param['calculation_unit'] in ['0', '1', '2'], 'Error in calculation unit selection, please correct！'\n",
    "\n",
    "display(title_param)"
   ]
  },
  {
   "cell_type": "code",
   "execution_count": 3,
   "metadata": {
    "pycharm": {
     "name": "#%%\n"
    }
   },
   "outputs": [
    {
     "data": {
      "text/plain": [
       "{'dataset_name': 'kyoto8',\n",
       " 'maxIters': 2000,\n",
       " 'seq_len': 512,\n",
       " 'batch_size': 32,\n",
       " 'num': '491'}"
      ]
     },
     "execution_count": 3,
     "metadata": {},
     "output_type": "execute_result"
    }
   ],
   "source": [
    "dict_cus = {\n",
    "    \"dataset_name\": \"\",\n",
    "    \"maxIters\": \"\",  # 100000\n",
    "    \"seq_len\": \"\",\n",
    "    \"batch_size\": \"\",\n",
    "}\n",
    "\n",
    "dict_cus = general.Merge(dict_cus, title_param)\n",
    "dict_cus"
   ]
  },
  {
   "cell_type": "code",
   "execution_count": 4,
   "metadata": {
    "pycharm": {
     "name": "#%%\n"
    }
   },
   "outputs": [
    {
     "name": "stdout",
     "output_type": "stream",
     "text": [
      "GPU used: [70, 0], final choose: 1\n"
     ]
    }
   ],
   "source": [
    "import tensorflow as tf\n",
    "\n",
    "calculation_unit = general.getAvailableId()\n",
    "os.environ[\"CUDA_VISIBLE_DEVICES\"] = calculation_unit\n",
    "\n",
    "if calculation_unit != \"-1\":\n",
    "    config = tf.ConfigProto()\n",
    "    config.gpu_options.allow_growth = True\n",
    "    session = tf.Session(config=config)\n",
    "\n",
    "os.environ['TF_CPP_MIN_LOG_LEVEL'] = '3'"
   ]
  },
  {
   "cell_type": "code",
   "execution_count": null,
   "metadata": {
    "pycharm": {
     "name": "#%%\n"
    }
   },
   "outputs": [],
   "source": []
  },
  {
   "cell_type": "markdown",
   "metadata": {
    "pycharm": {
     "name": "#%% md\n"
    }
   },
   "source": [
    "[origin](#origin)\n",
    "\n",
    "[C](#constrain)\n",
    "\n",
    "[CS_1](#constrain_1)\n",
    "\n",
    "[CS_2](#constrain_2)\n",
    "\n",
    "[CS_3](#constrain_3)\n",
    "\n",
    "[CS_4](#constrain_4)\n",
    "\n",
    "[CS_5](#constrain_5)\n",
    "\n",
    "[statics](#statics)"
   ]
  },
  {
   "cell_type": "markdown",
   "metadata": {
    "pycharm": {
     "name": "#%% md\n"
    }
   },
   "source": [
    "# <a id='origin'>origin</a>"
   ]
  },
  {
   "cell_type": "code",
   "execution_count": null,
   "metadata": {
    "pycharm": {
     "name": "#%%\n"
    }
   },
   "outputs": [
    {
     "name": "stdout",
     "output_type": "stream",
     "text": [
      "✅ data_x_path: ../datasets/casas/ende/kyoto8/9999/npy/3/kyoto8-train-x-0.npy\n",
      "WARNING:tensorflow:From /home/musk/project/paperEdit/haredit-ttn/network_ttn_synthetic.py:31: calling reduce_mean (from tensorflow.python.ops.math_ops) with keep_dims is deprecated and will be removed in a future version.\n",
      "Instructions for updating:\n",
      "keep_dims is deprecated, use keepdims instead\n",
      "WARNING:tensorflow:From /home/musk/project/paperEdit/haredit-ttn/network_ttn_synthetic.py:32: calling reduce_sum (from tensorflow.python.ops.math_ops) with keep_dims is deprecated and will be removed in a future version.\n",
      "Instructions for updating:\n",
      "keep_dims is deprecated, use keepdims instead\n",
      "WARNING:tensorflow:From /home/musk/project/paperEdit/haredit-ttn/network_ttn_synthetic.py:78: softmax_cross_entropy_with_logits (from tensorflow.python.ops.nn_ops) is deprecated and will be removed in a future version.\n",
      "Instructions for updating:\n",
      "\n",
      "Future major versions of TensorFlow will allow gradients to flow\n",
      "into the labels input on backprop by default.\n",
      "\n",
      "See `tf.nn.softmax_cross_entropy_with_logits_v2`.\n",
      "\n",
      "WARNING:tensorflow:From /home/musk/anaconda3/envs/HARedit/lib/python3.6/site-packages/tensorflow/python/util/tf_should_use.py:189: initialize_all_variables (from tensorflow.python.ops.variables) is deprecated and will be removed after 2017-03-02.\n",
      "Instructions for updating:\n",
      "Use `tf.global_variables_initializer` instead.\n",
      "k: 0\tstep: 0/86000, loss_value: 1.6099050045013428\n",
      "Create subdir directory: ../datasets/casas/results/ttn/kyoto8/2000_32_512/9999/0...\n",
      "\u001b[34m\u001b[1mmodel saved at: ../datasets/casas/results/ttn/kyoto8/2000_32_512/9999/0/0_0_gaussians_github_ttn_1.609905\u001b[0m\n",
      "✅ data_x_path: ../datasets/casas/ende/kyoto8/9999/npy/3/kyoto8-train-x-0.npy\n",
      "INFO:tensorflow:Restoring parameters from ../datasets/casas/results/ttn/kyoto8/2000_32_512/9999/0/0_0_gaussians_github_ttn_1.609905\n",
      "Accuracy: 0.18938307030129126\n",
      "\n",
      "\n",
      "\u001b[34m\u001b[1mmodel saved at: ../datasets/casas/results/ttn/kyoto8/2000_32_512/9999/0/0_best_model\u001b[0m\n",
      "✅ data_x_path: ../datasets/casas/ende/kyoto8/9999/npy/3/kyoto8-train-x-0.npy\n",
      "INFO:tensorflow:Restoring parameters from ../datasets/casas/results/ttn/kyoto8/2000_32_512/9999/0/0_best_model\n",
      "Accuracy: 0.1994261119081779\n",
      "\n",
      "\n",
      "k: 0\tstep: 1000/86000, loss_value: 1.206763505935669\n",
      "k: 0\tstep: 2000/86000, loss_value: 1.0274182558059692\n",
      "k: 0\tstep: 3000/86000, loss_value: 1.1363539695739746\n",
      "k: 0\tstep: 4000/86000, loss_value: 1.010961890220642\n",
      "\u001b[34m\u001b[1mmodel saved at: ../datasets/casas/results/ttn/kyoto8/2000_32_512/9999/0/0_4300_gaussians_github_ttn_1.2696372\u001b[0m\n",
      "✅ data_x_path: ../datasets/casas/ende/kyoto8/9999/npy/3/kyoto8-train-x-0.npy\n",
      "INFO:tensorflow:Restoring parameters from ../datasets/casas/results/ttn/kyoto8/2000_32_512/9999/0/0_4300_gaussians_github_ttn_1.2696372\n",
      "Accuracy: 0.5667144906743186\n",
      "\n",
      "\n",
      "\u001b[34m\u001b[1mmodel saved at: ../datasets/casas/results/ttn/kyoto8/2000_32_512/9999/0/0_best_model\u001b[0m\n",
      "✅ data_x_path: ../datasets/casas/ende/kyoto8/9999/npy/3/kyoto8-train-x-0.npy\n",
      "INFO:tensorflow:Restoring parameters from ../datasets/casas/results/ttn/kyoto8/2000_32_512/9999/0/0_best_model\n",
      "Accuracy: 0.5753228120516499\n",
      "\n",
      "\n",
      "k: 0\tstep: 5000/86000, loss_value: 1.056502342224121\n",
      "k: 0\tstep: 6000/86000, loss_value: 1.239396572113037\n",
      "k: 0\tstep: 7000/86000, loss_value: 1.1765449047088623\n",
      "k: 0\tstep: 8000/86000, loss_value: 0.7704702615737915\n",
      "\u001b[34m\u001b[1mmodel saved at: ../datasets/casas/results/ttn/kyoto8/2000_32_512/9999/0/0_8600_gaussians_github_ttn_0.99879867\u001b[0m\n",
      "✅ data_x_path: ../datasets/casas/ende/kyoto8/9999/npy/3/kyoto8-train-x-0.npy\n",
      "INFO:tensorflow:Restoring parameters from ../datasets/casas/results/ttn/kyoto8/2000_32_512/9999/0/0_8600_gaussians_github_ttn_0.99879867\n",
      "Accuracy: 0.6068866571018652\n",
      "\n",
      "\n",
      "\u001b[34m\u001b[1mmodel saved at: ../datasets/casas/results/ttn/kyoto8/2000_32_512/9999/0/0_best_model\u001b[0m\n",
      "✅ data_x_path: ../datasets/casas/ende/kyoto8/9999/npy/3/kyoto8-train-x-0.npy\n",
      "INFO:tensorflow:Restoring parameters from ../datasets/casas/results/ttn/kyoto8/2000_32_512/9999/0/0_best_model\n",
      "Accuracy: 0.6083213773314203\n",
      "\n",
      "\n",
      "k: 0\tstep: 9000/86000, loss_value: 0.9641669988632202\n",
      "k: 0\tstep: 10000/86000, loss_value: 0.9966924786567688\n",
      "k: 0\tstep: 11000/86000, loss_value: 0.9190388917922974\n",
      "k: 0\tstep: 12000/86000, loss_value: 0.9747829437255859\n",
      "\u001b[34m\u001b[1mmodel saved at: ../datasets/casas/results/ttn/kyoto8/2000_32_512/9999/0/0_12900_gaussians_github_ttn_0.8860096\u001b[0m\n",
      "✅ data_x_path: ../datasets/casas/ende/kyoto8/9999/npy/3/kyoto8-train-x-0.npy\n",
      "INFO:tensorflow:Restoring parameters from ../datasets/casas/results/ttn/kyoto8/2000_32_512/9999/0/0_12900_gaussians_github_ttn_0.8860096\n",
      "Accuracy: 0.6111908177905309\n",
      "\n",
      "\n",
      "\u001b[34m\u001b[1mmodel saved at: ../datasets/casas/results/ttn/kyoto8/2000_32_512/9999/0/0_best_model\u001b[0m\n",
      "✅ data_x_path: ../datasets/casas/ende/kyoto8/9999/npy/3/kyoto8-train-x-0.npy\n",
      "INFO:tensorflow:Restoring parameters from ../datasets/casas/results/ttn/kyoto8/2000_32_512/9999/0/0_best_model\n",
      "Accuracy: 0.6126255380200861\n",
      "\n",
      "\n",
      "k: 0\tstep: 13000/86000, loss_value: 0.9942321181297302\n",
      "k: 0\tstep: 14000/86000, loss_value: 0.8185944557189941\n",
      "k: 0\tstep: 15000/86000, loss_value: 1.1028120517730713\n",
      "k: 0\tstep: 16000/86000, loss_value: 0.8884763717651367\n",
      "k: 0\tstep: 17000/86000, loss_value: 0.8856474757194519\n",
      "\u001b[34m\u001b[1mmodel saved at: ../datasets/casas/results/ttn/kyoto8/2000_32_512/9999/0/0_17200_gaussians_github_ttn_0.7254729\u001b[0m\n",
      "✅ data_x_path: ../datasets/casas/ende/kyoto8/9999/npy/3/kyoto8-train-x-0.npy\n",
      "INFO:tensorflow:Restoring parameters from ../datasets/casas/results/ttn/kyoto8/2000_32_512/9999/0/0_17200_gaussians_github_ttn_0.7254729\n",
      "Accuracy: 0.6126255380200861\n",
      "\n",
      "\n",
      "\u001b[34m\u001b[1mmodel saved at: ../datasets/casas/results/ttn/kyoto8/2000_32_512/9999/0/0_best_model\u001b[0m\n",
      "✅ data_x_path: ../datasets/casas/ende/kyoto8/9999/npy/3/kyoto8-train-x-0.npy\n",
      "INFO:tensorflow:Restoring parameters from ../datasets/casas/results/ttn/kyoto8/2000_32_512/9999/0/0_best_model\n",
      "Accuracy: 0.5968436154949784\n",
      "\n",
      "\n",
      "k: 0\tstep: 18000/86000, loss_value: 0.9786555767059326\n",
      "k: 0\tstep: 19000/86000, loss_value: 1.0963586568832397\n",
      "k: 0\tstep: 20000/86000, loss_value: 1.0090879201889038\n",
      "k: 0\tstep: 21000/86000, loss_value: 0.7094473838806152\n",
      "\u001b[34m\u001b[1mmodel saved at: ../datasets/casas/results/ttn/kyoto8/2000_32_512/9999/0/0_21500_gaussians_github_ttn_1.1098983\u001b[0m\n",
      "✅ data_x_path: ../datasets/casas/ende/kyoto8/9999/npy/3/kyoto8-train-x-0.npy\n",
      "INFO:tensorflow:Restoring parameters from ../datasets/casas/results/ttn/kyoto8/2000_32_512/9999/0/0_21500_gaussians_github_ttn_1.1098983\n",
      "Accuracy: 0.6040172166427547\n",
      "\n",
      "\n",
      "\u001b[34m\u001b[1mmodel saved at: ../datasets/casas/results/ttn/kyoto8/2000_32_512/9999/0/0_best_model\u001b[0m\n",
      "✅ data_x_path: ../datasets/casas/ende/kyoto8/9999/npy/3/kyoto8-train-x-0.npy\n",
      "INFO:tensorflow:Restoring parameters from ../datasets/casas/results/ttn/kyoto8/2000_32_512/9999/0/0_best_model\n",
      "Accuracy: 0.6040172166427547\n",
      "\n",
      "\n",
      "k: 0\tstep: 22000/86000, loss_value: 0.9855678677558899\n",
      "k: 0\tstep: 23000/86000, loss_value: 0.9008932113647461\n",
      "k: 0\tstep: 24000/86000, loss_value: 0.8804447054862976\n",
      "k: 0\tstep: 25000/86000, loss_value: 0.8448415994644165\n",
      "\u001b[34m\u001b[1mmodel saved at: ../datasets/casas/results/ttn/kyoto8/2000_32_512/9999/0/0_25800_gaussians_github_ttn_0.93154085\u001b[0m\n",
      "✅ data_x_path: ../datasets/casas/ende/kyoto8/9999/npy/3/kyoto8-train-x-0.npy\n",
      "INFO:tensorflow:Restoring parameters from ../datasets/casas/results/ttn/kyoto8/2000_32_512/9999/0/0_25800_gaussians_github_ttn_0.93154085\n",
      "Accuracy: 0.5882352941176471\n",
      "\n",
      "\n",
      "\u001b[34m\u001b[1mmodel saved at: ../datasets/casas/results/ttn/kyoto8/2000_32_512/9999/0/0_best_model\u001b[0m\n",
      "✅ data_x_path: ../datasets/casas/ende/kyoto8/9999/npy/3/kyoto8-train-x-0.npy\n",
      "INFO:tensorflow:Restoring parameters from ../datasets/casas/results/ttn/kyoto8/2000_32_512/9999/0/0_best_model\n",
      "Accuracy: 0.5954088952654233\n",
      "\n",
      "\n",
      "k: 0\tstep: 26000/86000, loss_value: 0.7981323599815369\n",
      "k: 0\tstep: 27000/86000, loss_value: 0.9350959062576294\n",
      "k: 0\tstep: 28000/86000, loss_value: 0.7893654108047485\n",
      "k: 0\tstep: 29000/86000, loss_value: 0.8108497858047485\n",
      "k: 0\tstep: 30000/86000, loss_value: 0.8147377967834473\n",
      "\u001b[34m\u001b[1mmodel saved at: ../datasets/casas/results/ttn/kyoto8/2000_32_512/9999/0/0_30100_gaussians_github_ttn_1.0176384\u001b[0m\n",
      "✅ data_x_path: ../datasets/casas/ende/kyoto8/9999/npy/3/kyoto8-train-x-0.npy\n",
      "INFO:tensorflow:Restoring parameters from ../datasets/casas/results/ttn/kyoto8/2000_32_512/9999/0/0_30100_gaussians_github_ttn_1.0176384\n"
     ]
    },
    {
     "name": "stdout",
     "output_type": "stream",
     "text": [
      "Accuracy: 0.5925394548063128\n",
      "\n",
      "\n",
      "\u001b[34m\u001b[1mmodel saved at: ../datasets/casas/results/ttn/kyoto8/2000_32_512/9999/0/0_best_model\u001b[0m\n",
      "✅ data_x_path: ../datasets/casas/ende/kyoto8/9999/npy/3/kyoto8-train-x-0.npy\n",
      "INFO:tensorflow:Restoring parameters from ../datasets/casas/results/ttn/kyoto8/2000_32_512/9999/0/0_best_model\n",
      "Accuracy: 0.5896700143472023\n",
      "\n",
      "\n",
      "k: 0\tstep: 31000/86000, loss_value: 0.8812171220779419\n",
      "k: 0\tstep: 32000/86000, loss_value: 0.8634772300720215\n",
      "k: 0\tstep: 33000/86000, loss_value: 0.8179404139518738\n",
      "k: 0\tstep: 34000/86000, loss_value: 0.87235027551651\n",
      "\u001b[34m\u001b[1mmodel saved at: ../datasets/casas/results/ttn/kyoto8/2000_32_512/9999/0/0_34400_gaussians_github_ttn_0.67125416\u001b[0m\n",
      "✅ data_x_path: ../datasets/casas/ende/kyoto8/9999/npy/3/kyoto8-train-x-0.npy\n",
      "INFO:tensorflow:Restoring parameters from ../datasets/casas/results/ttn/kyoto8/2000_32_512/9999/0/0_34400_gaussians_github_ttn_0.67125416\n",
      "Accuracy: 0.5853658536585366\n",
      "\n",
      "\n",
      "\u001b[34m\u001b[1mmodel saved at: ../datasets/casas/results/ttn/kyoto8/2000_32_512/9999/0/0_best_model\u001b[0m\n",
      "✅ data_x_path: ../datasets/casas/ende/kyoto8/9999/npy/3/kyoto8-train-x-0.npy\n",
      "INFO:tensorflow:Restoring parameters from ../datasets/casas/results/ttn/kyoto8/2000_32_512/9999/0/0_best_model\n",
      "Accuracy: 0.5868005738880918\n",
      "\n",
      "\n",
      "k: 0\tstep: 35000/86000, loss_value: 0.8218342065811157\n",
      "k: 0\tstep: 36000/86000, loss_value: 1.097768783569336\n",
      "k: 0\tstep: 37000/86000, loss_value: 0.8284903168678284\n",
      "k: 0\tstep: 38000/86000, loss_value: 0.8972166776657104\n",
      "\u001b[34m\u001b[1mmodel saved at: ../datasets/casas/results/ttn/kyoto8/2000_32_512/9999/0/0_38700_gaussians_github_ttn_0.74638194\u001b[0m\n",
      "✅ data_x_path: ../datasets/casas/ende/kyoto8/9999/npy/3/kyoto8-train-x-0.npy\n",
      "INFO:tensorflow:Restoring parameters from ../datasets/casas/results/ttn/kyoto8/2000_32_512/9999/0/0_38700_gaussians_github_ttn_0.74638194\n",
      "Accuracy: 0.5824964131994261\n",
      "\n",
      "\n",
      "\u001b[34m\u001b[1mmodel saved at: ../datasets/casas/results/ttn/kyoto8/2000_32_512/9999/0/0_best_model\u001b[0m\n",
      "✅ data_x_path: ../datasets/casas/ende/kyoto8/9999/npy/3/kyoto8-train-x-0.npy\n",
      "INFO:tensorflow:Restoring parameters from ../datasets/casas/results/ttn/kyoto8/2000_32_512/9999/0/0_best_model\n",
      "Accuracy: 0.5896700143472023\n",
      "\n",
      "\n",
      "k: 0\tstep: 39000/86000, loss_value: 0.7948839664459229\n",
      "k: 0\tstep: 40000/86000, loss_value: 0.8223286867141724\n",
      "k: 0\tstep: 41000/86000, loss_value: 0.776012659072876\n",
      "k: 0\tstep: 42000/86000, loss_value: 0.8749721050262451\n",
      "k: 0\tstep: 43000/86000, loss_value: 0.7538636922836304\n",
      "\u001b[34m\u001b[1mmodel saved at: ../datasets/casas/results/ttn/kyoto8/2000_32_512/9999/0/0_43000_gaussians_github_ttn_0.7538637\u001b[0m\n",
      "✅ data_x_path: ../datasets/casas/ende/kyoto8/9999/npy/3/kyoto8-train-x-0.npy\n",
      "INFO:tensorflow:Restoring parameters from ../datasets/casas/results/ttn/kyoto8/2000_32_512/9999/0/0_43000_gaussians_github_ttn_0.7538637\n",
      "Accuracy: 0.5781922525107605\n",
      "\n",
      "\n",
      "\u001b[34m\u001b[1mmodel saved at: ../datasets/casas/results/ttn/kyoto8/2000_32_512/9999/0/0_best_model\u001b[0m\n",
      "✅ data_x_path: ../datasets/casas/ende/kyoto8/9999/npy/3/kyoto8-train-x-0.npy\n",
      "INFO:tensorflow:Restoring parameters from ../datasets/casas/results/ttn/kyoto8/2000_32_512/9999/0/0_best_model\n",
      "Accuracy: 0.5724533715925395\n",
      "\n",
      "\n",
      "k: 0\tstep: 44000/86000, loss_value: 0.9851036667823792\n",
      "k: 0\tstep: 45000/86000, loss_value: 0.94652259349823\n",
      "k: 0\tstep: 46000/86000, loss_value: 0.8423900604248047\n",
      "k: 0\tstep: 47000/86000, loss_value: 1.0286939144134521\n",
      "\u001b[34m\u001b[1mmodel saved at: ../datasets/casas/results/ttn/kyoto8/2000_32_512/9999/0/0_47300_gaussians_github_ttn_0.8656731\u001b[0m\n",
      "✅ data_x_path: ../datasets/casas/ende/kyoto8/9999/npy/3/kyoto8-train-x-0.npy\n",
      "INFO:tensorflow:Restoring parameters from ../datasets/casas/results/ttn/kyoto8/2000_32_512/9999/0/0_47300_gaussians_github_ttn_0.8656731\n",
      "Accuracy: 0.5767575322812052\n",
      "\n",
      "\n",
      "\u001b[34m\u001b[1mmodel saved at: ../datasets/casas/results/ttn/kyoto8/2000_32_512/9999/0/0_best_model\u001b[0m\n",
      "✅ data_x_path: ../datasets/casas/ende/kyoto8/9999/npy/3/kyoto8-train-x-0.npy\n",
      "INFO:tensorflow:Restoring parameters from ../datasets/casas/results/ttn/kyoto8/2000_32_512/9999/0/0_best_model\n",
      "Accuracy: 0.5781922525107605\n",
      "\n",
      "\n",
      "k: 0\tstep: 48000/86000, loss_value: 0.7108743190765381\n",
      "k: 0\tstep: 49000/86000, loss_value: 0.6443920135498047\n",
      "k: 0\tstep: 50000/86000, loss_value: 0.8046748042106628\n",
      "k: 0\tstep: 51000/86000, loss_value: 0.8095499277114868\n",
      "\u001b[34m\u001b[1mmodel saved at: ../datasets/casas/results/ttn/kyoto8/2000_32_512/9999/0/0_51600_gaussians_github_ttn_0.7571301\u001b[0m\n",
      "✅ data_x_path: ../datasets/casas/ende/kyoto8/9999/npy/3/kyoto8-train-x-0.npy\n",
      "INFO:tensorflow:Restoring parameters from ../datasets/casas/results/ttn/kyoto8/2000_32_512/9999/0/0_51600_gaussians_github_ttn_0.7571301\n",
      "Accuracy: 0.569583931133429\n",
      "\n",
      "\n",
      "\u001b[34m\u001b[1mmodel saved at: ../datasets/casas/results/ttn/kyoto8/2000_32_512/9999/0/0_best_model\u001b[0m\n",
      "✅ data_x_path: ../datasets/casas/ende/kyoto8/9999/npy/3/kyoto8-train-x-0.npy\n",
      "INFO:tensorflow:Restoring parameters from ../datasets/casas/results/ttn/kyoto8/2000_32_512/9999/0/0_best_model\n",
      "Accuracy: 0.5767575322812052\n",
      "\n",
      "\n",
      "k: 0\tstep: 52000/86000, loss_value: 0.6010941863059998\n",
      "k: 0\tstep: 53000/86000, loss_value: 0.8377295732498169\n",
      "k: 0\tstep: 54000/86000, loss_value: 0.5856471061706543\n",
      "k: 0\tstep: 55000/86000, loss_value: 0.8938159942626953\n",
      "\u001b[34m\u001b[1mmodel saved at: ../datasets/casas/results/ttn/kyoto8/2000_32_512/9999/0/0_55900_gaussians_github_ttn_0.65316427\u001b[0m\n",
      "✅ data_x_path: ../datasets/casas/ende/kyoto8/9999/npy/3/kyoto8-train-x-0.npy\n",
      "INFO:tensorflow:Restoring parameters from ../datasets/casas/results/ttn/kyoto8/2000_32_512/9999/0/0_55900_gaussians_github_ttn_0.65316427\n",
      "Accuracy: 0.5681492109038737\n",
      "\n",
      "\n",
      "\u001b[34m\u001b[1mmodel saved at: ../datasets/casas/results/ttn/kyoto8/2000_32_512/9999/0/0_best_model\u001b[0m\n",
      "✅ data_x_path: ../datasets/casas/ende/kyoto8/9999/npy/3/kyoto8-train-x-0.npy\n",
      "INFO:tensorflow:Restoring parameters from ../datasets/casas/results/ttn/kyoto8/2000_32_512/9999/0/0_best_model\n",
      "Accuracy: 0.5652797704447633\n",
      "\n",
      "\n",
      "k: 0\tstep: 56000/86000, loss_value: 0.7425334453582764\n"
     ]
    }
   ],
   "source": [
    "%%time\n",
    "dict_cus[\"distance_int\"] = 9999\n",
    "train_ttn(dict_cus)"
   ]
  },
  {
   "cell_type": "markdown",
   "metadata": {
    "pycharm": {
     "name": "#%% md\n"
    }
   },
   "source": [
    "```bash\n",
    "\n",
    "```"
   ]
  },
  {
   "cell_type": "code",
   "execution_count": null,
   "metadata": {
    "pycharm": {
     "name": "#%%\n"
    }
   },
   "outputs": [],
   "source": []
  },
  {
   "cell_type": "markdown",
   "metadata": {
    "pycharm": {
     "name": "#%% md\n"
    }
   },
   "source": [
    "# <a id='C'>C</a>"
   ]
  },
  {
   "cell_type": "code",
   "execution_count": null,
   "metadata": {
    "pycharm": {
     "name": "#%%\n"
    }
   },
   "outputs": [],
   "source": [
    "%%time\n",
    "dict_cus[\"distance_int\"] = 999\n",
    "train_ttn(dict_cus)"
   ]
  },
  {
   "cell_type": "markdown",
   "metadata": {
    "pycharm": {
     "name": "#%% md\n"
    }
   },
   "source": [
    "```bash\n",
    "\n",
    "```"
   ]
  },
  {
   "cell_type": "code",
   "execution_count": null,
   "metadata": {
    "pycharm": {
     "name": "#%%\n"
    }
   },
   "outputs": [],
   "source": []
  },
  {
   "cell_type": "markdown",
   "metadata": {
    "pycharm": {
     "name": "#%% md\n"
    }
   },
   "source": [
    "# <a id='constrain_1'>CS_1</a>"
   ]
  },
  {
   "cell_type": "code",
   "execution_count": null,
   "metadata": {
    "pycharm": {
     "name": "#%%\n"
    }
   },
   "outputs": [],
   "source": [
    "%%time\n",
    "dict_cus[\"distance_int\"] = 1\n",
    "train_ttn(dict_cus)"
   ]
  },
  {
   "cell_type": "markdown",
   "metadata": {
    "pycharm": {
     "name": "#%% md\n"
    }
   },
   "source": [
    "```bash\n",
    "\n",
    "```"
   ]
  },
  {
   "cell_type": "code",
   "execution_count": null,
   "metadata": {
    "pycharm": {
     "name": "#%%\n"
    }
   },
   "outputs": [],
   "source": []
  },
  {
   "cell_type": "code",
   "execution_count": null,
   "metadata": {
    "pycharm": {
     "name": "#%%\n"
    }
   },
   "outputs": [],
   "source": [
    "# <a id='constrain_2'>CS_2</a>"
   ]
  },
  {
   "cell_type": "code",
   "execution_count": null,
   "metadata": {
    "pycharm": {
     "name": "#%%\n"
    }
   },
   "outputs": [],
   "source": [
    "%%time\n",
    "dict_cus[\"distance_int\"] = 2\n",
    "train_ttn(dict_cus)"
   ]
  },
  {
   "cell_type": "markdown",
   "metadata": {
    "pycharm": {
     "name": "#%% md\n"
    }
   },
   "source": [
    "```bash\n",
    "\n",
    "```"
   ]
  },
  {
   "cell_type": "code",
   "execution_count": null,
   "metadata": {
    "pycharm": {
     "name": "#%%\n"
    }
   },
   "outputs": [],
   "source": []
  },
  {
   "cell_type": "code",
   "execution_count": null,
   "metadata": {
    "pycharm": {
     "name": "#%%\n"
    }
   },
   "outputs": [],
   "source": [
    "# <a id='constrain_3'>CS_3</a>"
   ]
  },
  {
   "cell_type": "code",
   "execution_count": null,
   "metadata": {
    "pycharm": {
     "name": "#%%\n"
    }
   },
   "outputs": [],
   "source": [
    "%%time\n",
    "dict_cus[\"distance_int\"] = 3\n",
    "train_ttn(dict_cus)"
   ]
  },
  {
   "cell_type": "markdown",
   "metadata": {
    "pycharm": {
     "name": "#%% md\n"
    }
   },
   "source": [
    "```bash\n",
    "\n",
    "```"
   ]
  },
  {
   "cell_type": "code",
   "execution_count": null,
   "metadata": {
    "pycharm": {
     "name": "#%%\n"
    }
   },
   "outputs": [],
   "source": []
  },
  {
   "cell_type": "code",
   "execution_count": null,
   "metadata": {
    "pycharm": {
     "name": "#%%\n"
    }
   },
   "outputs": [],
   "source": [
    "# <a id='constrain_4'>CS_4</a>"
   ]
  },
  {
   "cell_type": "code",
   "execution_count": null,
   "metadata": {
    "pycharm": {
     "name": "#%%\n"
    }
   },
   "outputs": [],
   "source": [
    "%%time\n",
    "dict_cus[\"distance_int\"] = 4\n",
    "train_ttn(dict_cus)"
   ]
  },
  {
   "cell_type": "markdown",
   "metadata": {
    "pycharm": {
     "name": "#%% md\n"
    }
   },
   "source": [
    "```bash\n",
    "\n",
    "```"
   ]
  },
  {
   "cell_type": "code",
   "execution_count": null,
   "metadata": {
    "pycharm": {
     "name": "#%%\n"
    }
   },
   "outputs": [],
   "source": []
  },
  {
   "cell_type": "code",
   "execution_count": null,
   "metadata": {
    "pycharm": {
     "name": "#%%\n"
    }
   },
   "outputs": [],
   "source": [
    "# <a id='constrain_5'>CS_5</a>"
   ]
  },
  {
   "cell_type": "code",
   "execution_count": null,
   "metadata": {
    "pycharm": {
     "name": "#%%\n"
    }
   },
   "outputs": [],
   "source": [
    "%%time\n",
    "dict_cus[\"distance_int\"] = 5\n",
    "train_ttn(dict_cus)"
   ]
  },
  {
   "cell_type": "markdown",
   "metadata": {
    "pycharm": {
     "name": "#%% md\n"
    }
   },
   "source": [
    "```bash\n",
    "\n",
    "```"
   ]
  },
  {
   "cell_type": "code",
   "execution_count": null,
   "metadata": {
    "pycharm": {
     "name": "#%%\n"
    }
   },
   "outputs": [],
   "source": []
  },
  {
   "cell_type": "markdown",
   "metadata": {
    "pycharm": {
     "name": "#%% md\n"
    }
   },
   "source": [
    "# <a id='statics'>statics</a>"
   ]
  },
  {
   "cell_type": "code",
   "execution_count": null,
   "metadata": {
    "pycharm": {
     "name": "#%%\n"
    }
   },
   "outputs": [],
   "source": [
    "dict_cus[\"num_classes\"] = 0\n",
    "dict_cus[\"num_train\"] = 0\n",
    "\n",
    "from configuration import configure\n",
    "configure.parameters_dict = general.Merge(configure.parameters_dict, dict_cus)\n",
    "weights_dir = general.getWeightsDir(configure.parameters_dict, 2)\n",
    "general.showResult(weights_dir)"
   ]
  },
  {
   "cell_type": "code",
   "execution_count": null,
   "metadata": {
    "pycharm": {
     "name": "#%%\n"
    }
   },
   "outputs": [],
   "source": []
  }
 ],
 "metadata": {
  "kernelspec": {
   "display_name": "Python 3",
   "language": "python",
   "name": "python3"
  },
  "language_info": {
   "codemirror_mode": {
    "name": "ipython",
    "version": 3
   },
   "file_extension": ".py",
   "mimetype": "text/x-python",
   "name": "python",
   "nbconvert_exporter": "python",
   "pygments_lexer": "ipython3",
   "version": "3.6.13"
  }
 },
 "nbformat": 4,
 "nbformat_minor": 1
}
