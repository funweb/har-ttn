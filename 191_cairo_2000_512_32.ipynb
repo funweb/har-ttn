{
 "cells": [
  {
   "cell_type": "markdown",
   "metadata": {
    "pycharm": {
     "name": "#%% md\n"
    }
   },
   "source": [
    "# file name meaning\n",
    "\n",
    "eg. 100_cairo_2000_1024_32.ipynb\n",
    "\n",
    "`[tag]_[dataset_name]_[epochs/maxIters]_[data_length/seq_len]_[batch_size]`"
   ]
  },
  {
   "cell_type": "code",
   "execution_count": 1,
   "metadata": {
    "pycharm": {
     "name": "#%%\n"
    }
   },
   "outputs": [
    {
     "name": "stderr",
     "output_type": "stream",
     "text": [
      "/home/musk/anaconda3/envs/HARedit/lib/python3.6/site-packages/tensorflow/python/framework/dtypes.py:523: FutureWarning: Passing (type, 1) or '1type' as a synonym of type is deprecated; in a future version of numpy, it will be understood as (type, (1,)) / '(1,)type'.\n",
      "  _np_qint8 = np.dtype([(\"qint8\", np.int8, 1)])\n",
      "/home/musk/anaconda3/envs/HARedit/lib/python3.6/site-packages/tensorflow/python/framework/dtypes.py:524: FutureWarning: Passing (type, 1) or '1type' as a synonym of type is deprecated; in a future version of numpy, it will be understood as (type, (1,)) / '(1,)type'.\n",
      "  _np_quint8 = np.dtype([(\"quint8\", np.uint8, 1)])\n",
      "/home/musk/anaconda3/envs/HARedit/lib/python3.6/site-packages/tensorflow/python/framework/dtypes.py:525: FutureWarning: Passing (type, 1) or '1type' as a synonym of type is deprecated; in a future version of numpy, it will be understood as (type, (1,)) / '(1,)type'.\n",
      "  _np_qint16 = np.dtype([(\"qint16\", np.int16, 1)])\n",
      "/home/musk/anaconda3/envs/HARedit/lib/python3.6/site-packages/tensorflow/python/framework/dtypes.py:526: FutureWarning: Passing (type, 1) or '1type' as a synonym of type is deprecated; in a future version of numpy, it will be understood as (type, (1,)) / '(1,)type'.\n",
      "  _np_quint16 = np.dtype([(\"quint16\", np.uint16, 1)])\n",
      "/home/musk/anaconda3/envs/HARedit/lib/python3.6/site-packages/tensorflow/python/framework/dtypes.py:527: FutureWarning: Passing (type, 1) or '1type' as a synonym of type is deprecated; in a future version of numpy, it will be understood as (type, (1,)) / '(1,)type'.\n",
      "  _np_qint32 = np.dtype([(\"qint32\", np.int32, 1)])\n",
      "/home/musk/anaconda3/envs/HARedit/lib/python3.6/site-packages/tensorflow/python/framework/dtypes.py:532: FutureWarning: Passing (type, 1) or '1type' as a synonym of type is deprecated; in a future version of numpy, it will be understood as (type, (1,)) / '(1,)type'.\n",
      "  np_resource = np.dtype([(\"resource\", np.ubyte, 1)])\n"
     ]
    }
   ],
   "source": [
    "from train_network_synthetic import train_ttn\n",
    "\n",
    "from configuration import general\n",
    "import os\n",
    "from configuration.configure import JUPYTER_TOKEN\n",
    "\n",
    "\n",
    "nb_name_file = general.ipy_nb_name(JUPYTER_TOKEN[\"token_lists\"])"
   ]
  },
  {
   "cell_type": "code",
   "execution_count": 2,
   "metadata": {
    "pycharm": {
     "name": "#%%\n"
    }
   },
   "outputs": [
    {
     "data": {
      "text/plain": [
       "{'num': '191',\n",
       " 'dataset_name': 'cairo',\n",
       " 'maxIters': 2000,\n",
       " 'seq_len': 512,\n",
       " 'batch_size': 32}"
      ]
     },
     "metadata": {},
     "output_type": "display_data"
    }
   ],
   "source": [
    "theNotebook = nb_name_file.split('_')\n",
    "assert len(theNotebook) == 5, 'The number of parameters should be 5'\n",
    "\n",
    "global title_param\n",
    "title_param = {\n",
    "    'num': theNotebook[0],\n",
    "    'dataset_name': theNotebook[1],\n",
    "    'maxIters': int(theNotebook[2]),\n",
    "    'seq_len': int(theNotebook[3]),\n",
    "    'batch_size': int(theNotebook[4]),\n",
    "}\n",
    "\n",
    "# assert title_param['dataset'] in ['cairo', 'milan', 'kyoto7', 'kyoto8', 'kyoto11'], 'Please correct the dataset name！'\n",
    "# assert title_param['model_name'] in ['WCNN','LSTM'], 'The method is wrong. Please correct it！'\n",
    "# assert title_param['optimizer'] in ['rms', 'adagrad'], 'The optimizer is wrong. Please correct it！'\n",
    "# assert title_param['calculation_unit'] in ['0', '1', '2'], 'Error in calculation unit selection, please correct！'\n",
    "\n",
    "display(title_param)"
   ]
  },
  {
   "cell_type": "code",
   "execution_count": 3,
   "metadata": {
    "pycharm": {
     "name": "#%%\n"
    }
   },
   "outputs": [
    {
     "data": {
      "text/plain": [
       "{'dataset_name': 'cairo',\n",
       " 'maxIters': 2000,\n",
       " 'seq_len': 512,\n",
       " 'batch_size': 32,\n",
       " 'num': '191'}"
      ]
     },
     "execution_count": 3,
     "metadata": {},
     "output_type": "execute_result"
    }
   ],
   "source": [
    "dict_cus = {\n",
    "    \"dataset_name\": \"\",\n",
    "    \"maxIters\": \"\",  # 100000\n",
    "    \"seq_len\": \"\",\n",
    "    \"batch_size\": \"\",\n",
    "}\n",
    "\n",
    "dict_cus = general.Merge(dict_cus, title_param)\n",
    "dict_cus"
   ]
  },
  {
   "cell_type": "code",
   "execution_count": 4,
   "metadata": {
    "pycharm": {
     "name": "#%%\n"
    }
   },
   "outputs": [
    {
     "name": "stdout",
     "output_type": "stream",
     "text": [
      "GPU used: [0, 0], final choose: 0\n"
     ]
    }
   ],
   "source": [
    "import tensorflow as tf\n",
    "\n",
    "calculation_unit = general.getAvailableId()\n",
    "os.environ[\"CUDA_VISIBLE_DEVICES\"] = calculation_unit\n",
    "\n",
    "if calculation_unit != \"-1\":\n",
    "    config = tf.ConfigProto()\n",
    "    config.gpu_options.allow_growth = True\n",
    "    session = tf.Session(config=config)\n",
    "\n",
    "os.environ['TF_CPP_MIN_LOG_LEVEL'] = '3'"
   ]
  },
  {
   "cell_type": "code",
   "execution_count": null,
   "metadata": {
    "pycharm": {
     "name": "#%%\n"
    }
   },
   "outputs": [],
   "source": []
  },
  {
   "cell_type": "markdown",
   "metadata": {
    "pycharm": {
     "name": "#%% md\n"
    }
   },
   "source": [
    "[origin](#origin)\n",
    "\n",
    "[C](#constrain)\n",
    "\n",
    "[CS_1](#constrain_1)\n",
    "\n",
    "[CS_2](#constrain_2)\n",
    "\n",
    "[CS_3](#constrain_3)\n",
    "\n",
    "[CS_4](#constrain_4)\n",
    "\n",
    "[CS_5](#constrain_5)\n",
    "\n",
    "[statics](#statics)"
   ]
  },
  {
   "cell_type": "markdown",
   "metadata": {
    "pycharm": {
     "name": "#%% md\n"
    }
   },
   "source": [
    "# <a id='origin'>origin</a>"
   ]
  },
  {
   "cell_type": "code",
   "execution_count": null,
   "metadata": {
    "pycharm": {
     "name": "#%%\n"
    }
   },
   "outputs": [
    {
     "name": "stdout",
     "output_type": "stream",
     "text": [
      "✅ data_x_path: ../datasets/casas/ende/cairo/9999/npy/3/cairo-train-x-0.npy\n",
      "WARNING:tensorflow:From /home/musk/project/paperEdit/haredit-ttn/network_ttn_synthetic.py:31: calling reduce_mean (from tensorflow.python.ops.math_ops) with keep_dims is deprecated and will be removed in a future version.\n",
      "Instructions for updating:\n",
      "keep_dims is deprecated, use keepdims instead\n",
      "WARNING:tensorflow:From /home/musk/project/paperEdit/haredit-ttn/network_ttn_synthetic.py:32: calling reduce_sum (from tensorflow.python.ops.math_ops) with keep_dims is deprecated and will be removed in a future version.\n",
      "Instructions for updating:\n",
      "keep_dims is deprecated, use keepdims instead\n",
      "WARNING:tensorflow:From /home/musk/project/paperEdit/haredit-ttn/network_ttn_synthetic.py:78: softmax_cross_entropy_with_logits (from tensorflow.python.ops.nn_ops) is deprecated and will be removed in a future version.\n",
      "Instructions for updating:\n",
      "\n",
      "Future major versions of TensorFlow will allow gradients to flow\n",
      "into the labels input on backprop by default.\n",
      "\n",
      "See `tf.nn.softmax_cross_entropy_with_logits_v2`.\n",
      "\n",
      "WARNING:tensorflow:From /home/musk/anaconda3/envs/HARedit/lib/python3.6/site-packages/tensorflow/python/util/tf_should_use.py:189: initialize_all_variables (from tensorflow.python.ops.variables) is deprecated and will be removed after 2017-03-02.\n",
      "Instructions for updating:\n",
      "Use `tf.global_variables_initializer` instead.\n",
      "k: 0\tstep: 0/48000, loss_value: 1.9774620532989502\n",
      "Create subdir directory: ../datasets/casas/results/ttn/cairo/2000_32_512/9999/0...\n",
      "\u001b[34m\u001b[1mmodel saved at: ../datasets/casas/results/ttn/cairo/2000_32_512/9999/0/0_0_gaussians_github_ttn_1.977462\u001b[0m\n",
      "✅ data_x_path: ../datasets/casas/ende/cairo/9999/npy/3/cairo-train-x-0.npy\n",
      "INFO:tensorflow:Restoring parameters from ../datasets/casas/results/ttn/cairo/2000_32_512/9999/0/0_0_gaussians_github_ttn_1.977462\n",
      "Accuracy: 0.10459183673469388\n",
      "\n",
      "\n",
      "\u001b[34m\u001b[1mmodel saved at: ../datasets/casas/results/ttn/cairo/2000_32_512/9999/0/0_best_model\u001b[0m\n",
      "✅ data_x_path: ../datasets/casas/ende/cairo/9999/npy/3/cairo-train-x-0.npy\n",
      "INFO:tensorflow:Restoring parameters from ../datasets/casas/results/ttn/cairo/2000_32_512/9999/0/0_best_model\n",
      "Accuracy: 0.10459183673469388\n",
      "\n",
      "\n",
      "k: 0\tstep: 1000/48000, loss_value: 1.4785680770874023\n",
      "k: 0\tstep: 2000/48000, loss_value: 1.3444175720214844\n",
      "\u001b[34m\u001b[1mmodel saved at: ../datasets/casas/results/ttn/cairo/2000_32_512/9999/0/0_2400_gaussians_github_ttn_1.743925\u001b[0m\n",
      "✅ data_x_path: ../datasets/casas/ende/cairo/9999/npy/3/cairo-train-x-0.npy\n",
      "INFO:tensorflow:Restoring parameters from ../datasets/casas/results/ttn/cairo/2000_32_512/9999/0/0_2400_gaussians_github_ttn_1.743925\n",
      "Accuracy: 0.5586734693877551\n",
      "\n",
      "\n",
      "\u001b[34m\u001b[1mmodel saved at: ../datasets/casas/results/ttn/cairo/2000_32_512/9999/0/0_best_model\u001b[0m\n",
      "✅ data_x_path: ../datasets/casas/ende/cairo/9999/npy/3/cairo-train-x-0.npy\n",
      "INFO:tensorflow:Restoring parameters from ../datasets/casas/results/ttn/cairo/2000_32_512/9999/0/0_best_model\n",
      "Accuracy: 0.5663265306122449\n",
      "\n",
      "\n",
      "k: 0\tstep: 3000/48000, loss_value: 1.2501322031021118\n",
      "k: 0\tstep: 4000/48000, loss_value: 1.201401710510254\n",
      "\u001b[34m\u001b[1mmodel saved at: ../datasets/casas/results/ttn/cairo/2000_32_512/9999/0/0_4800_gaussians_github_ttn_1.3264878\u001b[0m\n",
      "✅ data_x_path: ../datasets/casas/ende/cairo/9999/npy/3/cairo-train-x-0.npy\n",
      "INFO:tensorflow:Restoring parameters from ../datasets/casas/results/ttn/cairo/2000_32_512/9999/0/0_4800_gaussians_github_ttn_1.3264878\n",
      "Accuracy: 0.5841836734693877\n",
      "\n",
      "\n",
      "\u001b[34m\u001b[1mmodel saved at: ../datasets/casas/results/ttn/cairo/2000_32_512/9999/0/0_best_model\u001b[0m\n",
      "✅ data_x_path: ../datasets/casas/ende/cairo/9999/npy/3/cairo-train-x-0.npy\n",
      "INFO:tensorflow:Restoring parameters from ../datasets/casas/results/ttn/cairo/2000_32_512/9999/0/0_best_model\n",
      "Accuracy: 0.5816326530612245\n",
      "\n",
      "\n",
      "k: 0\tstep: 5000/48000, loss_value: 1.1515448093414307\n",
      "k: 0\tstep: 6000/48000, loss_value: 1.0535368919372559\n",
      "k: 0\tstep: 7000/48000, loss_value: 1.3025438785552979\n",
      "\u001b[34m\u001b[1mmodel saved at: ../datasets/casas/results/ttn/cairo/2000_32_512/9999/0/0_7200_gaussians_github_ttn_1.2189814\u001b[0m\n",
      "✅ data_x_path: ../datasets/casas/ende/cairo/9999/npy/3/cairo-train-x-0.npy\n",
      "INFO:tensorflow:Restoring parameters from ../datasets/casas/results/ttn/cairo/2000_32_512/9999/0/0_7200_gaussians_github_ttn_1.2189814\n",
      "Accuracy: 0.5943877551020408\n",
      "\n",
      "\n",
      "\u001b[34m\u001b[1mmodel saved at: ../datasets/casas/results/ttn/cairo/2000_32_512/9999/0/0_best_model\u001b[0m\n",
      "✅ data_x_path: ../datasets/casas/ende/cairo/9999/npy/3/cairo-train-x-0.npy\n",
      "INFO:tensorflow:Restoring parameters from ../datasets/casas/results/ttn/cairo/2000_32_512/9999/0/0_best_model\n",
      "Accuracy: 0.5918367346938775\n",
      "\n",
      "\n",
      "k: 0\tstep: 8000/48000, loss_value: 1.1444101333618164\n",
      "k: 0\tstep: 9000/48000, loss_value: 1.1981480121612549\n",
      "\u001b[34m\u001b[1mmodel saved at: ../datasets/casas/results/ttn/cairo/2000_32_512/9999/0/0_9600_gaussians_github_ttn_1.2284359\u001b[0m\n",
      "✅ data_x_path: ../datasets/casas/ende/cairo/9999/npy/3/cairo-train-x-0.npy\n",
      "INFO:tensorflow:Restoring parameters from ../datasets/casas/results/ttn/cairo/2000_32_512/9999/0/0_9600_gaussians_github_ttn_1.2284359\n",
      "Accuracy: 0.6045918367346939\n",
      "\n",
      "\n",
      "\u001b[34m\u001b[1mmodel saved at: ../datasets/casas/results/ttn/cairo/2000_32_512/9999/0/0_best_model\u001b[0m\n",
      "✅ data_x_path: ../datasets/casas/ende/cairo/9999/npy/3/cairo-train-x-0.npy\n",
      "INFO:tensorflow:Restoring parameters from ../datasets/casas/results/ttn/cairo/2000_32_512/9999/0/0_best_model\n",
      "Accuracy: 0.6045918367346939\n",
      "\n",
      "\n",
      "k: 0\tstep: 10000/48000, loss_value: 1.1431927680969238\n",
      "k: 0\tstep: 11000/48000, loss_value: 0.9831691980361938\n",
      "k: 0\tstep: 12000/48000, loss_value: 1.1702332496643066\n",
      "\u001b[34m\u001b[1mmodel saved at: ../datasets/casas/results/ttn/cairo/2000_32_512/9999/0/0_12000_gaussians_github_ttn_1.1702332\u001b[0m\n",
      "✅ data_x_path: ../datasets/casas/ende/cairo/9999/npy/3/cairo-train-x-0.npy\n",
      "INFO:tensorflow:Restoring parameters from ../datasets/casas/results/ttn/cairo/2000_32_512/9999/0/0_12000_gaussians_github_ttn_1.1702332\n",
      "Accuracy: 0.6224489795918368\n",
      "\n",
      "\n",
      "\u001b[34m\u001b[1mmodel saved at: ../datasets/casas/results/ttn/cairo/2000_32_512/9999/0/0_best_model\u001b[0m\n",
      "✅ data_x_path: ../datasets/casas/ende/cairo/9999/npy/3/cairo-train-x-0.npy\n",
      "INFO:tensorflow:Restoring parameters from ../datasets/casas/results/ttn/cairo/2000_32_512/9999/0/0_best_model\n",
      "Accuracy: 0.6122448979591837\n",
      "\n",
      "\n",
      "k: 0\tstep: 13000/48000, loss_value: 1.1069527864456177\n",
      "k: 0\tstep: 14000/48000, loss_value: 1.0559918880462646\n",
      "\u001b[34m\u001b[1mmodel saved at: ../datasets/casas/results/ttn/cairo/2000_32_512/9999/0/0_14400_gaussians_github_ttn_0.99306065\u001b[0m\n",
      "✅ data_x_path: ../datasets/casas/ende/cairo/9999/npy/3/cairo-train-x-0.npy\n",
      "INFO:tensorflow:Restoring parameters from ../datasets/casas/results/ttn/cairo/2000_32_512/9999/0/0_14400_gaussians_github_ttn_0.99306065\n",
      "Accuracy: 0.6301020408163265\n",
      "\n",
      "\n",
      "\u001b[34m\u001b[1mmodel saved at: ../datasets/casas/results/ttn/cairo/2000_32_512/9999/0/0_best_model\u001b[0m\n",
      "✅ data_x_path: ../datasets/casas/ende/cairo/9999/npy/3/cairo-train-x-0.npy\n",
      "INFO:tensorflow:Restoring parameters from ../datasets/casas/results/ttn/cairo/2000_32_512/9999/0/0_best_model\n",
      "Accuracy: 0.6403061224489796\n",
      "\n",
      "\n",
      "k: 0\tstep: 15000/48000, loss_value: 1.292456030845642\n",
      "k: 0\tstep: 16000/48000, loss_value: 0.9369544386863708\n",
      "\u001b[34m\u001b[1mmodel saved at: ../datasets/casas/results/ttn/cairo/2000_32_512/9999/0/0_16800_gaussians_github_ttn_0.79701805\u001b[0m\n",
      "✅ data_x_path: ../datasets/casas/ende/cairo/9999/npy/3/cairo-train-x-0.npy\n",
      "INFO:tensorflow:Restoring parameters from ../datasets/casas/results/ttn/cairo/2000_32_512/9999/0/0_16800_gaussians_github_ttn_0.79701805\n",
      "Accuracy: 0.6403061224489796\n",
      "\n",
      "\n",
      "\u001b[34m\u001b[1mmodel saved at: ../datasets/casas/results/ttn/cairo/2000_32_512/9999/0/0_best_model\u001b[0m\n",
      "✅ data_x_path: ../datasets/casas/ende/cairo/9999/npy/3/cairo-train-x-0.npy\n",
      "INFO:tensorflow:Restoring parameters from ../datasets/casas/results/ttn/cairo/2000_32_512/9999/0/0_best_model\n",
      "Accuracy: 0.6428571428571429\n",
      "\n",
      "\n",
      "k: 0\tstep: 17000/48000, loss_value: 0.9306601285934448\n",
      "k: 0\tstep: 18000/48000, loss_value: 0.9300692677497864\n",
      "k: 0\tstep: 19000/48000, loss_value: 0.9565553665161133\n",
      "\u001b[34m\u001b[1mmodel saved at: ../datasets/casas/results/ttn/cairo/2000_32_512/9999/0/0_19200_gaussians_github_ttn_0.86224836\u001b[0m\n",
      "✅ data_x_path: ../datasets/casas/ende/cairo/9999/npy/3/cairo-train-x-0.npy\n",
      "INFO:tensorflow:Restoring parameters from ../datasets/casas/results/ttn/cairo/2000_32_512/9999/0/0_19200_gaussians_github_ttn_0.86224836\n"
     ]
    },
    {
     "name": "stdout",
     "output_type": "stream",
     "text": [
      "Accuracy: 0.6479591836734694\n",
      "\n",
      "\n",
      "\u001b[34m\u001b[1mmodel saved at: ../datasets/casas/results/ttn/cairo/2000_32_512/9999/0/0_best_model\u001b[0m\n",
      "✅ data_x_path: ../datasets/casas/ende/cairo/9999/npy/3/cairo-train-x-0.npy\n",
      "INFO:tensorflow:Restoring parameters from ../datasets/casas/results/ttn/cairo/2000_32_512/9999/0/0_best_model\n",
      "Accuracy: 0.6479591836734694\n",
      "\n",
      "\n",
      "k: 0\tstep: 20000/48000, loss_value: 0.7326747179031372\n",
      "k: 0\tstep: 21000/48000, loss_value: 0.6427395939826965\n",
      "\u001b[34m\u001b[1mmodel saved at: ../datasets/casas/results/ttn/cairo/2000_32_512/9999/0/0_21600_gaussians_github_ttn_0.7204244\u001b[0m\n",
      "✅ data_x_path: ../datasets/casas/ende/cairo/9999/npy/3/cairo-train-x-0.npy\n",
      "INFO:tensorflow:Restoring parameters from ../datasets/casas/results/ttn/cairo/2000_32_512/9999/0/0_21600_gaussians_github_ttn_0.7204244\n",
      "Accuracy: 0.6505102040816326\n",
      "\n",
      "\n",
      "\u001b[34m\u001b[1mmodel saved at: ../datasets/casas/results/ttn/cairo/2000_32_512/9999/0/0_best_model\u001b[0m\n",
      "✅ data_x_path: ../datasets/casas/ende/cairo/9999/npy/3/cairo-train-x-0.npy\n",
      "INFO:tensorflow:Restoring parameters from ../datasets/casas/results/ttn/cairo/2000_32_512/9999/0/0_best_model\n",
      "Accuracy: 0.6428571428571429\n",
      "\n",
      "\n",
      "k: 0\tstep: 22000/48000, loss_value: 0.9063138961791992\n",
      "k: 0\tstep: 23000/48000, loss_value: 0.6307955980300903\n",
      "k: 0\tstep: 24000/48000, loss_value: 0.8450250625610352\n",
      "\u001b[34m\u001b[1mmodel saved at: ../datasets/casas/results/ttn/cairo/2000_32_512/9999/0/0_24000_gaussians_github_ttn_0.84502506\u001b[0m\n",
      "✅ data_x_path: ../datasets/casas/ende/cairo/9999/npy/3/cairo-train-x-0.npy\n",
      "INFO:tensorflow:Restoring parameters from ../datasets/casas/results/ttn/cairo/2000_32_512/9999/0/0_24000_gaussians_github_ttn_0.84502506\n",
      "Accuracy: 0.6607142857142857\n",
      "\n",
      "\n",
      "\u001b[34m\u001b[1mmodel saved at: ../datasets/casas/results/ttn/cairo/2000_32_512/9999/0/0_best_model\u001b[0m\n",
      "✅ data_x_path: ../datasets/casas/ende/cairo/9999/npy/3/cairo-train-x-0.npy\n",
      "INFO:tensorflow:Restoring parameters from ../datasets/casas/results/ttn/cairo/2000_32_512/9999/0/0_best_model\n",
      "Accuracy: 0.6632653061224489\n",
      "\n",
      "\n",
      "k: 0\tstep: 25000/48000, loss_value: 0.6722491979598999\n",
      "k: 0\tstep: 26000/48000, loss_value: 0.8886503577232361\n",
      "\u001b[34m\u001b[1mmodel saved at: ../datasets/casas/results/ttn/cairo/2000_32_512/9999/0/0_26400_gaussians_github_ttn_0.8090985\u001b[0m\n",
      "✅ data_x_path: ../datasets/casas/ende/cairo/9999/npy/3/cairo-train-x-0.npy\n",
      "INFO:tensorflow:Restoring parameters from ../datasets/casas/results/ttn/cairo/2000_32_512/9999/0/0_26400_gaussians_github_ttn_0.8090985\n",
      "Accuracy: 0.6581632653061225\n",
      "\n",
      "\n",
      "\u001b[34m\u001b[1mmodel saved at: ../datasets/casas/results/ttn/cairo/2000_32_512/9999/0/0_best_model\u001b[0m\n",
      "✅ data_x_path: ../datasets/casas/ende/cairo/9999/npy/3/cairo-train-x-0.npy\n",
      "INFO:tensorflow:Restoring parameters from ../datasets/casas/results/ttn/cairo/2000_32_512/9999/0/0_best_model\n",
      "Accuracy: 0.6581632653061225\n",
      "\n",
      "\n",
      "k: 0\tstep: 27000/48000, loss_value: 0.6901770234107971\n",
      "k: 0\tstep: 28000/48000, loss_value: 0.6321979761123657\n",
      "\u001b[34m\u001b[1mmodel saved at: ../datasets/casas/results/ttn/cairo/2000_32_512/9999/0/0_28800_gaussians_github_ttn_0.8597393\u001b[0m\n",
      "✅ data_x_path: ../datasets/casas/ende/cairo/9999/npy/3/cairo-train-x-0.npy\n",
      "INFO:tensorflow:Restoring parameters from ../datasets/casas/results/ttn/cairo/2000_32_512/9999/0/0_28800_gaussians_github_ttn_0.8597393\n",
      "Accuracy: 0.6683673469387755\n",
      "\n",
      "\n",
      "\u001b[34m\u001b[1mmodel saved at: ../datasets/casas/results/ttn/cairo/2000_32_512/9999/0/0_best_model\u001b[0m\n",
      "✅ data_x_path: ../datasets/casas/ende/cairo/9999/npy/3/cairo-train-x-0.npy\n",
      "INFO:tensorflow:Restoring parameters from ../datasets/casas/results/ttn/cairo/2000_32_512/9999/0/0_best_model\n",
      "Accuracy: 0.6658163265306123\n",
      "\n",
      "\n",
      "k: 0\tstep: 29000/48000, loss_value: 0.5082589387893677\n",
      "k: 0\tstep: 30000/48000, loss_value: 0.6463416814804077\n",
      "k: 0\tstep: 31000/48000, loss_value: 0.612743616104126\n",
      "\u001b[34m\u001b[1mmodel saved at: ../datasets/casas/results/ttn/cairo/2000_32_512/9999/0/0_31200_gaussians_github_ttn_0.8103727\u001b[0m\n",
      "✅ data_x_path: ../datasets/casas/ende/cairo/9999/npy/3/cairo-train-x-0.npy\n",
      "INFO:tensorflow:Restoring parameters from ../datasets/casas/results/ttn/cairo/2000_32_512/9999/0/0_31200_gaussians_github_ttn_0.8103727\n",
      "Accuracy: 0.6556122448979592\n",
      "\n",
      "\n",
      "\u001b[34m\u001b[1mmodel saved at: ../datasets/casas/results/ttn/cairo/2000_32_512/9999/0/0_best_model\u001b[0m\n",
      "✅ data_x_path: ../datasets/casas/ende/cairo/9999/npy/3/cairo-train-x-0.npy\n",
      "INFO:tensorflow:Restoring parameters from ../datasets/casas/results/ttn/cairo/2000_32_512/9999/0/0_best_model\n",
      "Accuracy: 0.6581632653061225\n",
      "\n",
      "\n",
      "k: 0\tstep: 32000/48000, loss_value: 1.0253944396972656\n",
      "k: 0\tstep: 33000/48000, loss_value: 0.8592351675033569\n",
      "\u001b[34m\u001b[1mmodel saved at: ../datasets/casas/results/ttn/cairo/2000_32_512/9999/0/0_33600_gaussians_github_ttn_0.68505466\u001b[0m\n",
      "✅ data_x_path: ../datasets/casas/ende/cairo/9999/npy/3/cairo-train-x-0.npy\n",
      "INFO:tensorflow:Restoring parameters from ../datasets/casas/results/ttn/cairo/2000_32_512/9999/0/0_33600_gaussians_github_ttn_0.68505466\n",
      "Accuracy: 0.6581632653061225\n",
      "\n",
      "\n",
      "\u001b[34m\u001b[1mmodel saved at: ../datasets/casas/results/ttn/cairo/2000_32_512/9999/0/0_best_model\u001b[0m\n",
      "✅ data_x_path: ../datasets/casas/ende/cairo/9999/npy/3/cairo-train-x-0.npy\n",
      "INFO:tensorflow:Restoring parameters from ../datasets/casas/results/ttn/cairo/2000_32_512/9999/0/0_best_model\n",
      "Accuracy: 0.6607142857142857\n",
      "\n",
      "\n",
      "k: 0\tstep: 34000/48000, loss_value: 0.768718957901001\n",
      "k: 0\tstep: 35000/48000, loss_value: 0.5972211956977844\n",
      "k: 0\tstep: 36000/48000, loss_value: 0.607011079788208\n",
      "\u001b[34m\u001b[1mmodel saved at: ../datasets/casas/results/ttn/cairo/2000_32_512/9999/0/0_36000_gaussians_github_ttn_0.6070111\u001b[0m\n",
      "✅ data_x_path: ../datasets/casas/ende/cairo/9999/npy/3/cairo-train-x-0.npy\n",
      "INFO:tensorflow:Restoring parameters from ../datasets/casas/results/ttn/cairo/2000_32_512/9999/0/0_36000_gaussians_github_ttn_0.6070111\n",
      "Accuracy: 0.6683673469387755\n",
      "\n",
      "\n",
      "\u001b[34m\u001b[1mmodel saved at: ../datasets/casas/results/ttn/cairo/2000_32_512/9999/0/0_best_model\u001b[0m\n",
      "✅ data_x_path: ../datasets/casas/ende/cairo/9999/npy/3/cairo-train-x-0.npy\n",
      "INFO:tensorflow:Restoring parameters from ../datasets/casas/results/ttn/cairo/2000_32_512/9999/0/0_best_model\n",
      "Accuracy: 0.6607142857142857\n",
      "\n",
      "\n",
      "k: 0\tstep: 37000/48000, loss_value: 0.8879684209823608\n",
      "k: 0\tstep: 38000/48000, loss_value: 0.47718125581741333\n",
      "\u001b[34m\u001b[1mmodel saved at: ../datasets/casas/results/ttn/cairo/2000_32_512/9999/0/0_38400_gaussians_github_ttn_0.7182704\u001b[0m\n",
      "✅ data_x_path: ../datasets/casas/ende/cairo/9999/npy/3/cairo-train-x-0.npy\n",
      "INFO:tensorflow:Restoring parameters from ../datasets/casas/results/ttn/cairo/2000_32_512/9999/0/0_38400_gaussians_github_ttn_0.7182704\n",
      "Accuracy: 0.6530612244897959\n",
      "\n",
      "\n",
      "\u001b[34m\u001b[1mmodel saved at: ../datasets/casas/results/ttn/cairo/2000_32_512/9999/0/0_best_model\u001b[0m\n",
      "✅ data_x_path: ../datasets/casas/ende/cairo/9999/npy/3/cairo-train-x-0.npy\n",
      "INFO:tensorflow:Restoring parameters from ../datasets/casas/results/ttn/cairo/2000_32_512/9999/0/0_best_model\n",
      "Accuracy: 0.6785714285714286\n",
      "\n",
      "\n",
      "k: 0\tstep: 39000/48000, loss_value: 0.7128446102142334\n",
      "k: 0\tstep: 40000/48000, loss_value: 0.5521851181983948\n",
      "\u001b[34m\u001b[1mmodel saved at: ../datasets/casas/results/ttn/cairo/2000_32_512/9999/0/0_40800_gaussians_github_ttn_0.47369748\u001b[0m\n",
      "✅ data_x_path: ../datasets/casas/ende/cairo/9999/npy/3/cairo-train-x-0.npy\n",
      "INFO:tensorflow:Restoring parameters from ../datasets/casas/results/ttn/cairo/2000_32_512/9999/0/0_40800_gaussians_github_ttn_0.47369748\n",
      "Accuracy: 0.6505102040816326\n",
      "\n",
      "\n",
      "\u001b[34m\u001b[1mmodel saved at: ../datasets/casas/results/ttn/cairo/2000_32_512/9999/0/0_best_model\u001b[0m\n",
      "✅ data_x_path: ../datasets/casas/ende/cairo/9999/npy/3/cairo-train-x-0.npy\n",
      "INFO:tensorflow:Restoring parameters from ../datasets/casas/results/ttn/cairo/2000_32_512/9999/0/0_best_model\n",
      "Accuracy: 0.6556122448979592\n",
      "\n",
      "\n",
      "k: 0\tstep: 41000/48000, loss_value: 0.6402677893638611\n",
      "k: 0\tstep: 42000/48000, loss_value: 0.779542088508606\n",
      "k: 0\tstep: 43000/48000, loss_value: 0.4509958028793335\n",
      "\u001b[34m\u001b[1mmodel saved at: ../datasets/casas/results/ttn/cairo/2000_32_512/9999/0/0_43200_gaussians_github_ttn_0.6230429\u001b[0m\n",
      "✅ data_x_path: ../datasets/casas/ende/cairo/9999/npy/3/cairo-train-x-0.npy\n",
      "INFO:tensorflow:Restoring parameters from ../datasets/casas/results/ttn/cairo/2000_32_512/9999/0/0_43200_gaussians_github_ttn_0.6230429\n",
      "Accuracy: 0.6632653061224489\n",
      "\n",
      "\n",
      "\u001b[34m\u001b[1mmodel saved at: ../datasets/casas/results/ttn/cairo/2000_32_512/9999/0/0_best_model\u001b[0m\n",
      "✅ data_x_path: ../datasets/casas/ende/cairo/9999/npy/3/cairo-train-x-0.npy\n",
      "INFO:tensorflow:Restoring parameters from ../datasets/casas/results/ttn/cairo/2000_32_512/9999/0/0_best_model\n"
     ]
    },
    {
     "name": "stdout",
     "output_type": "stream",
     "text": [
      "Accuracy: 0.6658163265306123\n",
      "\n",
      "\n",
      "k: 0\tstep: 44000/48000, loss_value: 0.5371237993240356\n",
      "k: 0\tstep: 45000/48000, loss_value: 0.1924874484539032\n",
      "\u001b[34m\u001b[1mmodel saved at: ../datasets/casas/results/ttn/cairo/2000_32_512/9999/0/0_45600_gaussians_github_ttn_0.416167\u001b[0m\n",
      "✅ data_x_path: ../datasets/casas/ende/cairo/9999/npy/3/cairo-train-x-0.npy\n",
      "INFO:tensorflow:Restoring parameters from ../datasets/casas/results/ttn/cairo/2000_32_512/9999/0/0_45600_gaussians_github_ttn_0.416167\n",
      "Accuracy: 0.6709183673469388\n",
      "\n",
      "\n",
      "\u001b[34m\u001b[1mmodel saved at: ../datasets/casas/results/ttn/cairo/2000_32_512/9999/0/0_best_model\u001b[0m\n",
      "✅ data_x_path: ../datasets/casas/ende/cairo/9999/npy/3/cairo-train-x-0.npy\n",
      "INFO:tensorflow:Restoring parameters from ../datasets/casas/results/ttn/cairo/2000_32_512/9999/0/0_best_model\n",
      "Accuracy: 0.6836734693877551\n",
      "\n",
      "\n",
      "k: 0\tstep: 46000/48000, loss_value: 0.6714438199996948\n",
      "k: 0\tstep: 47000/48000, loss_value: 0.5605217218399048\n",
      "k: 0\tstep: 48000/48000, loss_value: 0.4610844552516937\n",
      "\u001b[34m\u001b[1mmodel saved at: ../datasets/casas/results/ttn/cairo/2000_32_512/9999/0/0_48000_gaussians_github_ttn_0.46108446\u001b[0m\n",
      "✅ data_x_path: ../datasets/casas/ende/cairo/9999/npy/3/cairo-train-x-0.npy\n",
      "INFO:tensorflow:Restoring parameters from ../datasets/casas/results/ttn/cairo/2000_32_512/9999/0/0_48000_gaussians_github_ttn_0.46108446\n",
      "Accuracy: 0.6607142857142857\n",
      "\n",
      "\n",
      "\u001b[34m\u001b[1mmodel saved at: ../datasets/casas/results/ttn/cairo/2000_32_512/9999/0/0_best_model\u001b[0m\n",
      "✅ data_x_path: ../datasets/casas/ende/cairo/9999/npy/3/cairo-train-x-0.npy\n",
      "INFO:tensorflow:Restoring parameters from ../datasets/casas/results/ttn/cairo/2000_32_512/9999/0/0_best_model\n",
      "Accuracy: 0.6607142857142857\n",
      "\n",
      "\n",
      "\u001b[34m\u001b[1mmodel saved at: ../datasets/casas/results/ttn/cairo/2000_32_512/9999/0/0_last_model\u001b[0m\n",
      "✅ data_x_path: ../datasets/casas/ende/cairo/9999/npy/3/cairo-train-x-0.npy\n",
      "INFO:tensorflow:Restoring parameters from ../datasets/casas/results/ttn/cairo/2000_32_512/9999/0/0_last_model\n",
      "Accuracy: 0.6505102040816326\n",
      "\n",
      "\n",
      "\u001b[34m\u001b[1mval_acc_json saved at: ../datasets/casas/results/ttn/cairo/2000_32_512/9999/0/0_val_acc.json\u001b[0m\n",
      "\u001b[34m\u001b[1mlog saved at: ../datasets/casas/results/ttn/cairo/2000_32_512/9999/0/0_train_loss.txt\u001b[0m\n",
      "✅ data_x_path: ../datasets/casas/ende/cairo/9999/npy/3/cairo-train-x-1.npy\n",
      "k: 1\tstep: 0/48000, loss_value: 1.9629242420196533\n",
      "Create subdir directory: ../datasets/casas/results/ttn/cairo/2000_32_512/9999/1...\n",
      "\u001b[34m\u001b[1mmodel saved at: ../datasets/casas/results/ttn/cairo/2000_32_512/9999/1/1_0_gaussians_github_ttn_1.9629242\u001b[0m\n",
      "✅ data_x_path: ../datasets/casas/ende/cairo/9999/npy/3/cairo-train-x-1.npy\n",
      "INFO:tensorflow:Restoring parameters from ../datasets/casas/results/ttn/cairo/2000_32_512/9999/1/1_0_gaussians_github_ttn_1.9629242\n",
      "Accuracy: 0.11508951406649616\n",
      "\n",
      "\n",
      "\u001b[34m\u001b[1mmodel saved at: ../datasets/casas/results/ttn/cairo/2000_32_512/9999/1/1_best_model\u001b[0m\n",
      "✅ data_x_path: ../datasets/casas/ende/cairo/9999/npy/3/cairo-train-x-1.npy\n",
      "INFO:tensorflow:Restoring parameters from ../datasets/casas/results/ttn/cairo/2000_32_512/9999/1/1_best_model\n",
      "Accuracy: 0.10741687979539642\n",
      "\n",
      "\n",
      "k: 1\tstep: 1000/48000, loss_value: 1.603481650352478\n",
      "k: 1\tstep: 2000/48000, loss_value: 1.6004902124404907\n",
      "\u001b[34m\u001b[1mmodel saved at: ../datasets/casas/results/ttn/cairo/2000_32_512/9999/1/1_2400_gaussians_github_ttn_1.572679\u001b[0m\n",
      "✅ data_x_path: ../datasets/casas/ende/cairo/9999/npy/3/cairo-train-x-1.npy\n",
      "INFO:tensorflow:Restoring parameters from ../datasets/casas/results/ttn/cairo/2000_32_512/9999/1/1_2400_gaussians_github_ttn_1.572679\n",
      "Accuracy: 0.5831202046035806\n",
      "\n",
      "\n",
      "\u001b[34m\u001b[1mmodel saved at: ../datasets/casas/results/ttn/cairo/2000_32_512/9999/1/1_best_model\u001b[0m\n",
      "✅ data_x_path: ../datasets/casas/ende/cairo/9999/npy/3/cairo-train-x-1.npy\n",
      "INFO:tensorflow:Restoring parameters from ../datasets/casas/results/ttn/cairo/2000_32_512/9999/1/1_best_model\n",
      "Accuracy: 0.5728900255754475\n",
      "\n",
      "\n",
      "k: 1\tstep: 3000/48000, loss_value: 1.5791070461273193\n",
      "k: 1\tstep: 4000/48000, loss_value: 1.18471360206604\n",
      "\u001b[34m\u001b[1mmodel saved at: ../datasets/casas/results/ttn/cairo/2000_32_512/9999/1/1_4800_gaussians_github_ttn_1.3091683\u001b[0m\n",
      "✅ data_x_path: ../datasets/casas/ende/cairo/9999/npy/3/cairo-train-x-1.npy\n",
      "INFO:tensorflow:Restoring parameters from ../datasets/casas/results/ttn/cairo/2000_32_512/9999/1/1_4800_gaussians_github_ttn_1.3091683\n",
      "Accuracy: 0.5907928388746803\n",
      "\n",
      "\n",
      "\u001b[34m\u001b[1mmodel saved at: ../datasets/casas/results/ttn/cairo/2000_32_512/9999/1/1_best_model\u001b[0m\n",
      "✅ data_x_path: ../datasets/casas/ende/cairo/9999/npy/3/cairo-train-x-1.npy\n",
      "INFO:tensorflow:Restoring parameters from ../datasets/casas/results/ttn/cairo/2000_32_512/9999/1/1_best_model\n",
      "Accuracy: 0.5831202046035806\n",
      "\n",
      "\n",
      "k: 1\tstep: 5000/48000, loss_value: 1.1542271375656128\n",
      "k: 1\tstep: 6000/48000, loss_value: 1.4501417875289917\n",
      "k: 1\tstep: 7000/48000, loss_value: 1.0550076961517334\n",
      "\u001b[34m\u001b[1mmodel saved at: ../datasets/casas/results/ttn/cairo/2000_32_512/9999/1/1_7200_gaussians_github_ttn_1.0374869\u001b[0m\n",
      "✅ data_x_path: ../datasets/casas/ende/cairo/9999/npy/3/cairo-train-x-1.npy\n",
      "INFO:tensorflow:Restoring parameters from ../datasets/casas/results/ttn/cairo/2000_32_512/9999/1/1_7200_gaussians_github_ttn_1.0374869\n",
      "Accuracy: 0.6112531969309463\n",
      "\n",
      "\n",
      "\u001b[34m\u001b[1mmodel saved at: ../datasets/casas/results/ttn/cairo/2000_32_512/9999/1/1_best_model\u001b[0m\n",
      "✅ data_x_path: ../datasets/casas/ende/cairo/9999/npy/3/cairo-train-x-1.npy\n",
      "INFO:tensorflow:Restoring parameters from ../datasets/casas/results/ttn/cairo/2000_32_512/9999/1/1_best_model\n",
      "Accuracy: 0.6061381074168798\n",
      "\n",
      "\n",
      "k: 1\tstep: 8000/48000, loss_value: 1.0444493293762207\n",
      "k: 1\tstep: 9000/48000, loss_value: 0.9798545837402344\n",
      "\u001b[34m\u001b[1mmodel saved at: ../datasets/casas/results/ttn/cairo/2000_32_512/9999/1/1_9600_gaussians_github_ttn_1.3027647\u001b[0m\n",
      "✅ data_x_path: ../datasets/casas/ende/cairo/9999/npy/3/cairo-train-x-1.npy\n",
      "INFO:tensorflow:Restoring parameters from ../datasets/casas/results/ttn/cairo/2000_32_512/9999/1/1_9600_gaussians_github_ttn_1.3027647\n",
      "Accuracy: 0.6317135549872123\n",
      "\n",
      "\n",
      "\u001b[34m\u001b[1mmodel saved at: ../datasets/casas/results/ttn/cairo/2000_32_512/9999/1/1_best_model\u001b[0m\n",
      "✅ data_x_path: ../datasets/casas/ende/cairo/9999/npy/3/cairo-train-x-1.npy\n",
      "INFO:tensorflow:Restoring parameters from ../datasets/casas/results/ttn/cairo/2000_32_512/9999/1/1_best_model\n",
      "Accuracy: 0.6419437340153452\n",
      "\n",
      "\n",
      "k: 1\tstep: 10000/48000, loss_value: 1.1239864826202393\n",
      "k: 1\tstep: 11000/48000, loss_value: 1.138664960861206\n",
      "k: 1\tstep: 12000/48000, loss_value: 0.8506765961647034\n",
      "\u001b[34m\u001b[1mmodel saved at: ../datasets/casas/results/ttn/cairo/2000_32_512/9999/1/1_12000_gaussians_github_ttn_0.8506766\u001b[0m\n",
      "✅ data_x_path: ../datasets/casas/ende/cairo/9999/npy/3/cairo-train-x-1.npy\n",
      "INFO:tensorflow:Restoring parameters from ../datasets/casas/results/ttn/cairo/2000_32_512/9999/1/1_12000_gaussians_github_ttn_0.8506766\n",
      "Accuracy: 0.649616368286445\n",
      "\n",
      "\n",
      "\u001b[34m\u001b[1mmodel saved at: ../datasets/casas/results/ttn/cairo/2000_32_512/9999/1/1_best_model\u001b[0m\n",
      "✅ data_x_path: ../datasets/casas/ende/cairo/9999/npy/3/cairo-train-x-1.npy\n",
      "INFO:tensorflow:Restoring parameters from ../datasets/casas/results/ttn/cairo/2000_32_512/9999/1/1_best_model\n",
      "Accuracy: 0.649616368286445\n",
      "\n",
      "\n",
      "k: 1\tstep: 13000/48000, loss_value: 1.216947317123413\n",
      "k: 1\tstep: 14000/48000, loss_value: 1.1255362033843994\n",
      "\u001b[34m\u001b[1mmodel saved at: ../datasets/casas/results/ttn/cairo/2000_32_512/9999/1/1_14400_gaussians_github_ttn_0.69939446\u001b[0m\n",
      "✅ data_x_path: ../datasets/casas/ende/cairo/9999/npy/3/cairo-train-x-1.npy\n",
      "INFO:tensorflow:Restoring parameters from ../datasets/casas/results/ttn/cairo/2000_32_512/9999/1/1_14400_gaussians_github_ttn_0.69939446\n",
      "Accuracy: 0.659846547314578\n",
      "\n",
      "\n",
      "\u001b[34m\u001b[1mmodel saved at: ../datasets/casas/results/ttn/cairo/2000_32_512/9999/1/1_best_model\u001b[0m\n",
      "✅ data_x_path: ../datasets/casas/ende/cairo/9999/npy/3/cairo-train-x-1.npy\n",
      "INFO:tensorflow:Restoring parameters from ../datasets/casas/results/ttn/cairo/2000_32_512/9999/1/1_best_model\n",
      "Accuracy: 0.6649616368286445\n",
      "\n",
      "\n",
      "k: 1\tstep: 15000/48000, loss_value: 0.8161709308624268\n",
      "k: 1\tstep: 16000/48000, loss_value: 1.02414870262146\n",
      "\u001b[34m\u001b[1mmodel saved at: ../datasets/casas/results/ttn/cairo/2000_32_512/9999/1/1_16800_gaussians_github_ttn_0.8854134\u001b[0m\n",
      "✅ data_x_path: ../datasets/casas/ende/cairo/9999/npy/3/cairo-train-x-1.npy\n",
      "INFO:tensorflow:Restoring parameters from ../datasets/casas/results/ttn/cairo/2000_32_512/9999/1/1_16800_gaussians_github_ttn_0.8854134\n"
     ]
    },
    {
     "name": "stdout",
     "output_type": "stream",
     "text": [
      "Accuracy: 0.6572890025575447\n",
      "\n",
      "\n",
      "\u001b[34m\u001b[1mmodel saved at: ../datasets/casas/results/ttn/cairo/2000_32_512/9999/1/1_best_model\u001b[0m\n",
      "✅ data_x_path: ../datasets/casas/ende/cairo/9999/npy/3/cairo-train-x-1.npy\n",
      "INFO:tensorflow:Restoring parameters from ../datasets/casas/results/ttn/cairo/2000_32_512/9999/1/1_best_model\n",
      "Accuracy: 0.6726342710997443\n",
      "\n",
      "\n",
      "k: 1\tstep: 17000/48000, loss_value: 0.8890236020088196\n",
      "k: 1\tstep: 18000/48000, loss_value: 1.0360928773880005\n",
      "k: 1\tstep: 19000/48000, loss_value: 0.8282322287559509\n",
      "\u001b[34m\u001b[1mmodel saved at: ../datasets/casas/results/ttn/cairo/2000_32_512/9999/1/1_19200_gaussians_github_ttn_0.9365419\u001b[0m\n",
      "✅ data_x_path: ../datasets/casas/ende/cairo/9999/npy/3/cairo-train-x-1.npy\n",
      "INFO:tensorflow:Restoring parameters from ../datasets/casas/results/ttn/cairo/2000_32_512/9999/1/1_19200_gaussians_github_ttn_0.9365419\n",
      "Accuracy: 0.6649616368286445\n",
      "\n",
      "\n",
      "\u001b[34m\u001b[1mmodel saved at: ../datasets/casas/results/ttn/cairo/2000_32_512/9999/1/1_best_model\u001b[0m\n",
      "✅ data_x_path: ../datasets/casas/ende/cairo/9999/npy/3/cairo-train-x-1.npy\n",
      "INFO:tensorflow:Restoring parameters from ../datasets/casas/results/ttn/cairo/2000_32_512/9999/1/1_best_model\n",
      "Accuracy: 0.6624040920716112\n",
      "\n",
      "\n",
      "k: 1\tstep: 20000/48000, loss_value: 0.7360652685165405\n",
      "k: 1\tstep: 21000/48000, loss_value: 0.6496381759643555\n",
      "\u001b[34m\u001b[1mmodel saved at: ../datasets/casas/results/ttn/cairo/2000_32_512/9999/1/1_21600_gaussians_github_ttn_0.67017645\u001b[0m\n",
      "✅ data_x_path: ../datasets/casas/ende/cairo/9999/npy/3/cairo-train-x-1.npy\n",
      "INFO:tensorflow:Restoring parameters from ../datasets/casas/results/ttn/cairo/2000_32_512/9999/1/1_21600_gaussians_github_ttn_0.67017645\n",
      "Accuracy: 0.6726342710997443\n",
      "\n",
      "\n",
      "\u001b[34m\u001b[1mmodel saved at: ../datasets/casas/results/ttn/cairo/2000_32_512/9999/1/1_best_model\u001b[0m\n",
      "✅ data_x_path: ../datasets/casas/ende/cairo/9999/npy/3/cairo-train-x-1.npy\n",
      "INFO:tensorflow:Restoring parameters from ../datasets/casas/results/ttn/cairo/2000_32_512/9999/1/1_best_model\n",
      "Accuracy: 0.6572890025575447\n",
      "\n",
      "\n"
     ]
    }
   ],
   "source": [
    "%%time\n",
    "dict_cus[\"distance_int\"] = 9999\n",
    "train_ttn(dict_cus)"
   ]
  },
  {
   "cell_type": "markdown",
   "metadata": {
    "pycharm": {
     "name": "#%% md\n"
    }
   },
   "source": [
    "```bash\n",
    "\n",
    "```"
   ]
  },
  {
   "cell_type": "code",
   "execution_count": null,
   "metadata": {
    "pycharm": {
     "name": "#%%\n"
    }
   },
   "outputs": [],
   "source": []
  },
  {
   "cell_type": "markdown",
   "metadata": {
    "pycharm": {
     "name": "#%% md\n"
    }
   },
   "source": [
    "# <a id='C'>C</a>"
   ]
  },
  {
   "cell_type": "code",
   "execution_count": null,
   "metadata": {
    "pycharm": {
     "name": "#%%\n"
    }
   },
   "outputs": [],
   "source": [
    "%%time\n",
    "dict_cus[\"distance_int\"] = 999\n",
    "train_ttn(dict_cus)"
   ]
  },
  {
   "cell_type": "markdown",
   "metadata": {
    "pycharm": {
     "name": "#%% md\n"
    }
   },
   "source": [
    "```bash\n",
    "\n",
    "```"
   ]
  },
  {
   "cell_type": "code",
   "execution_count": null,
   "metadata": {
    "pycharm": {
     "name": "#%%\n"
    }
   },
   "outputs": [],
   "source": []
  },
  {
   "cell_type": "markdown",
   "metadata": {
    "pycharm": {
     "name": "#%% md\n"
    }
   },
   "source": [
    "# <a id='constrain_1'>CS_1</a>"
   ]
  },
  {
   "cell_type": "code",
   "execution_count": null,
   "metadata": {
    "pycharm": {
     "name": "#%%\n"
    }
   },
   "outputs": [],
   "source": [
    "%%time\n",
    "dict_cus[\"distance_int\"] = 1\n",
    "train_ttn(dict_cus)"
   ]
  },
  {
   "cell_type": "markdown",
   "metadata": {
    "pycharm": {
     "name": "#%% md\n"
    }
   },
   "source": [
    "```bash\n",
    "\n",
    "```"
   ]
  },
  {
   "cell_type": "code",
   "execution_count": null,
   "metadata": {
    "pycharm": {
     "name": "#%%\n"
    }
   },
   "outputs": [],
   "source": []
  },
  {
   "cell_type": "markdown",
   "metadata": {
    "pycharm": {
     "name": "#%% md\n"
    }
   },
   "source": [
    "# <a id='constrain_2'>CS_2</a>"
   ]
  },
  {
   "cell_type": "code",
   "execution_count": null,
   "metadata": {
    "pycharm": {
     "name": "#%%\n"
    }
   },
   "outputs": [],
   "source": [
    "%%time\n",
    "dict_cus[\"distance_int\"] = 2\n",
    "train_ttn(dict_cus)"
   ]
  },
  {
   "cell_type": "markdown",
   "metadata": {
    "pycharm": {
     "name": "#%% md\n"
    }
   },
   "source": [
    "```bash\n",
    "\n",
    "```"
   ]
  },
  {
   "cell_type": "code",
   "execution_count": null,
   "metadata": {
    "pycharm": {
     "name": "#%%\n"
    }
   },
   "outputs": [],
   "source": []
  },
  {
   "cell_type": "markdown",
   "metadata": {
    "pycharm": {
     "name": "#%% md\n"
    }
   },
   "source": [
    "# <a id='constrain_3'>CS_3</a>"
   ]
  },
  {
   "cell_type": "code",
   "execution_count": null,
   "metadata": {
    "pycharm": {
     "name": "#%%\n"
    }
   },
   "outputs": [],
   "source": [
    "%%time\n",
    "dict_cus[\"distance_int\"] = 3\n",
    "train_ttn(dict_cus)"
   ]
  },
  {
   "cell_type": "markdown",
   "metadata": {
    "pycharm": {
     "name": "#%% md\n"
    }
   },
   "source": [
    "```bash\n",
    "\n",
    "```"
   ]
  },
  {
   "cell_type": "code",
   "execution_count": null,
   "metadata": {
    "pycharm": {
     "name": "#%%\n"
    }
   },
   "outputs": [],
   "source": []
  },
  {
   "cell_type": "code",
   "execution_count": null,
   "metadata": {
    "pycharm": {
     "name": "#%%\n"
    }
   },
   "outputs": [],
   "source": [
    "# <a id='constrain_4'>CS_4</a>"
   ]
  },
  {
   "cell_type": "code",
   "execution_count": null,
   "metadata": {
    "pycharm": {
     "name": "#%%\n"
    }
   },
   "outputs": [],
   "source": [
    "%%time\n",
    "dict_cus[\"distance_int\"] = 4\n",
    "train_ttn(dict_cus)"
   ]
  },
  {
   "cell_type": "markdown",
   "metadata": {
    "pycharm": {
     "name": "#%% md\n"
    }
   },
   "source": [
    "```bash\n",
    "\n",
    "```"
   ]
  },
  {
   "cell_type": "code",
   "execution_count": null,
   "metadata": {
    "pycharm": {
     "name": "#%%\n"
    }
   },
   "outputs": [],
   "source": []
  },
  {
   "cell_type": "markdown",
   "metadata": {
    "pycharm": {
     "name": "#%% md\n"
    }
   },
   "source": [
    "# <a id='constrain_5'>CS_5</a>"
   ]
  },
  {
   "cell_type": "code",
   "execution_count": null,
   "metadata": {
    "pycharm": {
     "name": "#%%\n"
    }
   },
   "outputs": [],
   "source": [
    "%%time\n",
    "dict_cus[\"distance_int\"] = 5\n",
    "train_ttn(dict_cus)"
   ]
  },
  {
   "cell_type": "markdown",
   "metadata": {
    "pycharm": {
     "name": "#%% md\n"
    }
   },
   "source": [
    "```bash\n",
    "\n",
    "```"
   ]
  },
  {
   "cell_type": "code",
   "execution_count": null,
   "metadata": {
    "pycharm": {
     "name": "#%%\n"
    }
   },
   "outputs": [],
   "source": []
  },
  {
   "cell_type": "markdown",
   "metadata": {
    "pycharm": {
     "name": "#%% md\n"
    }
   },
   "source": [
    "# <a id='statics'>statics</a>"
   ]
  },
  {
   "cell_type": "code",
   "execution_count": null,
   "metadata": {
    "pycharm": {
     "name": "#%%\n"
    }
   },
   "outputs": [],
   "source": [
    "dict_cus[\"num_classes\"] = 0\n",
    "dict_cus[\"num_train\"] = 0\n",
    "\n",
    "from configuration import configure\n",
    "configure.parameters_dict = general.Merge(configure.parameters_dict, dict_cus)\n",
    "weights_dir = general.getWeightsDir(configure.parameters_dict, 2)\n",
    "general.showResult(weights_dir)"
   ]
  },
  {
   "cell_type": "code",
   "execution_count": null,
   "metadata": {
    "pycharm": {
     "name": "#%%\n"
    }
   },
   "outputs": [],
   "source": []
  }
 ],
 "metadata": {
  "kernelspec": {
   "display_name": "Python 3",
   "language": "python",
   "name": "python3"
  },
  "language_info": {
   "codemirror_mode": {
    "name": "ipython",
    "version": 3
   },
   "file_extension": ".py",
   "mimetype": "text/x-python",
   "name": "python",
   "nbconvert_exporter": "python",
   "pygments_lexer": "ipython3",
   "version": "3.6.13"
  }
 },
 "nbformat": 4,
 "nbformat_minor": 1
}
