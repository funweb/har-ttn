{
 "cells": [
  {
   "cell_type": "markdown",
   "metadata": {
    "pycharm": {
     "name": "#%% md\n"
    }
   },
   "source": [
    "# file name meaning\n",
    "\n",
    "eg. 100_cairo_2000_1024_32.ipynb\n",
    "\n",
    "`[tag]_[dataset_name]_[epochs/maxIters]_[data_length/seq_len]_[batch_size]`"
   ]
  },
  {
   "cell_type": "code",
   "execution_count": 1,
   "metadata": {
    "pycharm": {
     "name": "#%%\n"
    }
   },
   "outputs": [
    {
     "name": "stderr",
     "output_type": "stream",
     "text": [
      "/home/musk/anaconda3/envs/HARedit/lib/python3.6/site-packages/tensorflow/python/framework/dtypes.py:523: FutureWarning: Passing (type, 1) or '1type' as a synonym of type is deprecated; in a future version of numpy, it will be understood as (type, (1,)) / '(1,)type'.\n",
      "  _np_qint8 = np.dtype([(\"qint8\", np.int8, 1)])\n",
      "/home/musk/anaconda3/envs/HARedit/lib/python3.6/site-packages/tensorflow/python/framework/dtypes.py:524: FutureWarning: Passing (type, 1) or '1type' as a synonym of type is deprecated; in a future version of numpy, it will be understood as (type, (1,)) / '(1,)type'.\n",
      "  _np_quint8 = np.dtype([(\"quint8\", np.uint8, 1)])\n",
      "/home/musk/anaconda3/envs/HARedit/lib/python3.6/site-packages/tensorflow/python/framework/dtypes.py:525: FutureWarning: Passing (type, 1) or '1type' as a synonym of type is deprecated; in a future version of numpy, it will be understood as (type, (1,)) / '(1,)type'.\n",
      "  _np_qint16 = np.dtype([(\"qint16\", np.int16, 1)])\n",
      "/home/musk/anaconda3/envs/HARedit/lib/python3.6/site-packages/tensorflow/python/framework/dtypes.py:526: FutureWarning: Passing (type, 1) or '1type' as a synonym of type is deprecated; in a future version of numpy, it will be understood as (type, (1,)) / '(1,)type'.\n",
      "  _np_quint16 = np.dtype([(\"quint16\", np.uint16, 1)])\n",
      "/home/musk/anaconda3/envs/HARedit/lib/python3.6/site-packages/tensorflow/python/framework/dtypes.py:527: FutureWarning: Passing (type, 1) or '1type' as a synonym of type is deprecated; in a future version of numpy, it will be understood as (type, (1,)) / '(1,)type'.\n",
      "  _np_qint32 = np.dtype([(\"qint32\", np.int32, 1)])\n",
      "/home/musk/anaconda3/envs/HARedit/lib/python3.6/site-packages/tensorflow/python/framework/dtypes.py:532: FutureWarning: Passing (type, 1) or '1type' as a synonym of type is deprecated; in a future version of numpy, it will be understood as (type, (1,)) / '(1,)type'.\n",
      "  np_resource = np.dtype([(\"resource\", np.ubyte, 1)])\n"
     ]
    }
   ],
   "source": [
    "from train_network_synthetic import train_ttn\n",
    "\n",
    "from configuration import general\n",
    "import os\n",
    "from configuration.configure import JUPYTER_TOKEN\n",
    "\n",
    "\n",
    "nb_name_file = general.ipy_nb_name(JUPYTER_TOKEN[\"token_lists\"])"
   ]
  },
  {
   "cell_type": "code",
   "execution_count": 2,
   "metadata": {
    "pycharm": {
     "name": "#%%\n"
    }
   },
   "outputs": [
    {
     "data": {
      "text/plain": [
       "{'num': '391',\n",
       " 'dataset_name': 'kyoto7',\n",
       " 'maxIters': 2000,\n",
       " 'seq_len': 512,\n",
       " 'batch_size': 32}"
      ]
     },
     "metadata": {},
     "output_type": "display_data"
    }
   ],
   "source": [
    "theNotebook = nb_name_file.split('_')\n",
    "assert len(theNotebook) == 5, 'The number of parameters should be 5'\n",
    "\n",
    "global title_param\n",
    "title_param = {\n",
    "    'num': theNotebook[0],\n",
    "    'dataset_name': theNotebook[1],\n",
    "    'maxIters': int(theNotebook[2]),\n",
    "    'seq_len': int(theNotebook[3]),\n",
    "    'batch_size': int(theNotebook[4]),\n",
    "}\n",
    "\n",
    "# assert title_param['dataset'] in ['cairo', 'milan', 'kyoto7', 'kyoto8', 'kyoto11'], 'Please correct the dataset name！'\n",
    "# assert title_param['model_name'] in ['WCNN','LSTM'], 'The method is wrong. Please correct it！'\n",
    "# assert title_param['optimizer'] in ['rms', 'adagrad'], 'The optimizer is wrong. Please correct it！'\n",
    "# assert title_param['calculation_unit'] in ['0', '1', '2'], 'Error in calculation unit selection, please correct！'\n",
    "\n",
    "display(title_param)"
   ]
  },
  {
   "cell_type": "code",
   "execution_count": 3,
   "metadata": {
    "pycharm": {
     "name": "#%%\n"
    }
   },
   "outputs": [
    {
     "data": {
      "text/plain": [
       "{'dataset_name': 'kyoto7',\n",
       " 'maxIters': 2000,\n",
       " 'seq_len': 512,\n",
       " 'batch_size': 32,\n",
       " 'num': '391'}"
      ]
     },
     "execution_count": 3,
     "metadata": {},
     "output_type": "execute_result"
    }
   ],
   "source": [
    "dict_cus = {\n",
    "    \"dataset_name\": \"\",\n",
    "    \"maxIters\": \"\",  # 100000\n",
    "    \"seq_len\": \"\",\n",
    "    \"batch_size\": \"\",\n",
    "}\n",
    "\n",
    "dict_cus = general.Merge(dict_cus, title_param)\n",
    "dict_cus"
   ]
  },
  {
   "cell_type": "code",
   "execution_count": 4,
   "metadata": {
    "pycharm": {
     "name": "#%%\n"
    }
   },
   "outputs": [
    {
     "name": "stdout",
     "output_type": "stream",
     "text": [
      "GPU used: [8, 0], final choose: 1\n"
     ]
    }
   ],
   "source": [
    "import tensorflow as tf\n",
    "\n",
    "calculation_unit = general.getAvailableId()\n",
    "os.environ[\"CUDA_VISIBLE_DEVICES\"] = calculation_unit\n",
    "\n",
    "if calculation_unit != \"-1\":\n",
    "    config = tf.ConfigProto()\n",
    "    config.gpu_options.allow_growth = True\n",
    "    session = tf.Session(config=config)\n",
    "\n",
    "os.environ['TF_CPP_MIN_LOG_LEVEL'] = '3'"
   ]
  },
  {
   "cell_type": "code",
   "execution_count": null,
   "metadata": {
    "pycharm": {
     "name": "#%%\n"
    }
   },
   "outputs": [],
   "source": []
  },
  {
   "cell_type": "markdown",
   "metadata": {
    "pycharm": {
     "name": "#%% md\n"
    }
   },
   "source": [
    "[origin](#origin)\n",
    "\n",
    "[C](#constrain)\n",
    "\n",
    "[CS_1](#constrain_1)\n",
    "\n",
    "[CS_2](#constrain_2)\n",
    "\n",
    "[CS_3](#constrain_3)\n",
    "\n",
    "[CS_4](#constrain_4)\n",
    "\n",
    "[CS_5](#constrain_5)\n",
    "\n",
    "[statics](#statics)"
   ]
  },
  {
   "cell_type": "markdown",
   "metadata": {
    "pycharm": {
     "name": "#%% md\n"
    }
   },
   "source": [
    "# <a id='origin'>origin</a>"
   ]
  },
  {
   "cell_type": "code",
   "execution_count": null,
   "metadata": {
    "pycharm": {
     "name": "#%%\n"
    },
    "scrolled": true
   },
   "outputs": [
    {
     "name": "stdout",
     "output_type": "stream",
     "text": [
      "✅ data_x_path: ../datasets/casas/ende/kyoto7/9999/npy/3/kyoto7-train-x-0.npy\n",
      "WARNING:tensorflow:From /home/musk/project/paperEdit/haredit-ttn/network_ttn_synthetic.py:31: calling reduce_mean (from tensorflow.python.ops.math_ops) with keep_dims is deprecated and will be removed in a future version.\n",
      "Instructions for updating:\n",
      "keep_dims is deprecated, use keepdims instead\n",
      "WARNING:tensorflow:From /home/musk/project/paperEdit/haredit-ttn/network_ttn_synthetic.py:32: calling reduce_sum (from tensorflow.python.ops.math_ops) with keep_dims is deprecated and will be removed in a future version.\n",
      "Instructions for updating:\n",
      "keep_dims is deprecated, use keepdims instead\n",
      "WARNING:tensorflow:From /home/musk/project/paperEdit/haredit-ttn/network_ttn_synthetic.py:78: softmax_cross_entropy_with_logits (from tensorflow.python.ops.nn_ops) is deprecated and will be removed in a future version.\n",
      "Instructions for updating:\n",
      "\n",
      "Future major versions of TensorFlow will allow gradients to flow\n",
      "into the labels input on backprop by default.\n",
      "\n",
      "See `tf.nn.softmax_cross_entropy_with_logits_v2`.\n",
      "\n",
      "WARNING:tensorflow:From /home/musk/anaconda3/envs/HARedit/lib/python3.6/site-packages/tensorflow/python/util/tf_should_use.py:189: initialize_all_variables (from tensorflow.python.ops.variables) is deprecated and will be removed after 2017-03-02.\n",
      "Instructions for updating:\n",
      "Use `tf.global_variables_initializer` instead.\n",
      "k: 0\tstep: 0/22000, loss_value: 1.9584460258483887\n",
      "Create subdir directory: ../datasets/casas/results/ttn/kyoto7/2000_32_512/9999/0...\n",
      "\u001b[34m\u001b[1mmodel saved at: ../datasets/casas/results/ttn/kyoto7/2000_32_512/9999/0/0_0_gaussians_github_ttn_1.958446\u001b[0m\n",
      "✅ data_x_path: ../datasets/casas/ende/kyoto7/9999/npy/3/kyoto7-train-x-0.npy\n",
      "INFO:tensorflow:Restoring parameters from ../datasets/casas/results/ttn/kyoto7/2000_32_512/9999/0/0_0_gaussians_github_ttn_1.958446\n",
      "Accuracy: 0.11049723756906077\n",
      "\n",
      "\n",
      "\u001b[34m\u001b[1mmodel saved at: ../datasets/casas/results/ttn/kyoto7/2000_32_512/9999/0/0_best_model\u001b[0m\n",
      "✅ data_x_path: ../datasets/casas/ende/kyoto7/9999/npy/3/kyoto7-train-x-0.npy\n",
      "INFO:tensorflow:Restoring parameters from ../datasets/casas/results/ttn/kyoto7/2000_32_512/9999/0/0_best_model\n",
      "Accuracy: 0.11602209944751381\n",
      "\n",
      "\n",
      "k: 0\tstep: 1000/22000, loss_value: 1.732975959777832\n",
      "\u001b[34m\u001b[1mmodel saved at: ../datasets/casas/results/ttn/kyoto7/2000_32_512/9999/0/0_1100_gaussians_github_ttn_1.5777776\u001b[0m\n",
      "✅ data_x_path: ../datasets/casas/ende/kyoto7/9999/npy/3/kyoto7-train-x-0.npy\n",
      "INFO:tensorflow:Restoring parameters from ../datasets/casas/results/ttn/kyoto7/2000_32_512/9999/0/0_1100_gaussians_github_ttn_1.5777776\n",
      "Accuracy: 0.3756906077348066\n",
      "\n",
      "\n",
      "\u001b[34m\u001b[1mmodel saved at: ../datasets/casas/results/ttn/kyoto7/2000_32_512/9999/0/0_best_model\u001b[0m\n",
      "✅ data_x_path: ../datasets/casas/ende/kyoto7/9999/npy/3/kyoto7-train-x-0.npy\n",
      "INFO:tensorflow:Restoring parameters from ../datasets/casas/results/ttn/kyoto7/2000_32_512/9999/0/0_best_model\n",
      "Accuracy: 0.4198895027624309\n",
      "\n",
      "\n",
      "k: 0\tstep: 2000/22000, loss_value: 1.7831997871398926\n",
      "\u001b[34m\u001b[1mmodel saved at: ../datasets/casas/results/ttn/kyoto7/2000_32_512/9999/0/0_2200_gaussians_github_ttn_1.5279342\u001b[0m\n",
      "✅ data_x_path: ../datasets/casas/ende/kyoto7/9999/npy/3/kyoto7-train-x-0.npy\n",
      "INFO:tensorflow:Restoring parameters from ../datasets/casas/results/ttn/kyoto7/2000_32_512/9999/0/0_2200_gaussians_github_ttn_1.5279342\n",
      "Accuracy: 0.4530386740331492\n",
      "\n",
      "\n",
      "\u001b[34m\u001b[1mmodel saved at: ../datasets/casas/results/ttn/kyoto7/2000_32_512/9999/0/0_best_model\u001b[0m\n",
      "✅ data_x_path: ../datasets/casas/ende/kyoto7/9999/npy/3/kyoto7-train-x-0.npy\n",
      "INFO:tensorflow:Restoring parameters from ../datasets/casas/results/ttn/kyoto7/2000_32_512/9999/0/0_best_model\n",
      "Accuracy: 0.46408839779005523\n",
      "\n",
      "\n",
      "k: 0\tstep: 3000/22000, loss_value: 1.4465274810791016\n",
      "\u001b[34m\u001b[1mmodel saved at: ../datasets/casas/results/ttn/kyoto7/2000_32_512/9999/0/0_3300_gaussians_github_ttn_1.4177456\u001b[0m\n",
      "✅ data_x_path: ../datasets/casas/ende/kyoto7/9999/npy/3/kyoto7-train-x-0.npy\n",
      "INFO:tensorflow:Restoring parameters from ../datasets/casas/results/ttn/kyoto7/2000_32_512/9999/0/0_3300_gaussians_github_ttn_1.4177456\n",
      "Accuracy: 0.4585635359116022\n",
      "\n",
      "\n",
      "\u001b[34m\u001b[1mmodel saved at: ../datasets/casas/results/ttn/kyoto7/2000_32_512/9999/0/0_best_model\u001b[0m\n",
      "✅ data_x_path: ../datasets/casas/ende/kyoto7/9999/npy/3/kyoto7-train-x-0.npy\n",
      "INFO:tensorflow:Restoring parameters from ../datasets/casas/results/ttn/kyoto7/2000_32_512/9999/0/0_best_model\n",
      "Accuracy: 0.4696132596685083\n",
      "\n",
      "\n",
      "k: 0\tstep: 4000/22000, loss_value: 1.1001049280166626\n",
      "\u001b[34m\u001b[1mmodel saved at: ../datasets/casas/results/ttn/kyoto7/2000_32_512/9999/0/0_4400_gaussians_github_ttn_1.4076452\u001b[0m\n",
      "✅ data_x_path: ../datasets/casas/ende/kyoto7/9999/npy/3/kyoto7-train-x-0.npy\n",
      "INFO:tensorflow:Restoring parameters from ../datasets/casas/results/ttn/kyoto7/2000_32_512/9999/0/0_4400_gaussians_github_ttn_1.4076452\n",
      "Accuracy: 0.43646408839779005\n",
      "\n",
      "\n",
      "\u001b[34m\u001b[1mmodel saved at: ../datasets/casas/results/ttn/kyoto7/2000_32_512/9999/0/0_best_model\u001b[0m\n",
      "✅ data_x_path: ../datasets/casas/ende/kyoto7/9999/npy/3/kyoto7-train-x-0.npy\n",
      "INFO:tensorflow:Restoring parameters from ../datasets/casas/results/ttn/kyoto7/2000_32_512/9999/0/0_best_model\n",
      "Accuracy: 0.44751381215469616\n",
      "\n",
      "\n",
      "k: 0\tstep: 5000/22000, loss_value: 1.3498952388763428\n",
      "\u001b[34m\u001b[1mmodel saved at: ../datasets/casas/results/ttn/kyoto7/2000_32_512/9999/0/0_5500_gaussians_github_ttn_1.3714145\u001b[0m\n",
      "✅ data_x_path: ../datasets/casas/ende/kyoto7/9999/npy/3/kyoto7-train-x-0.npy\n",
      "INFO:tensorflow:Restoring parameters from ../datasets/casas/results/ttn/kyoto7/2000_32_512/9999/0/0_5500_gaussians_github_ttn_1.3714145\n",
      "Accuracy: 0.4419889502762431\n",
      "\n",
      "\n",
      "\u001b[34m\u001b[1mmodel saved at: ../datasets/casas/results/ttn/kyoto7/2000_32_512/9999/0/0_best_model\u001b[0m\n",
      "✅ data_x_path: ../datasets/casas/ende/kyoto7/9999/npy/3/kyoto7-train-x-0.npy\n",
      "INFO:tensorflow:Restoring parameters from ../datasets/casas/results/ttn/kyoto7/2000_32_512/9999/0/0_best_model\n",
      "Accuracy: 0.425414364640884\n",
      "\n",
      "\n",
      "k: 0\tstep: 6000/22000, loss_value: 1.3033020496368408\n",
      "\u001b[34m\u001b[1mmodel saved at: ../datasets/casas/results/ttn/kyoto7/2000_32_512/9999/0/0_6600_gaussians_github_ttn_1.4365106\u001b[0m\n",
      "✅ data_x_path: ../datasets/casas/ende/kyoto7/9999/npy/3/kyoto7-train-x-0.npy\n",
      "INFO:tensorflow:Restoring parameters from ../datasets/casas/results/ttn/kyoto7/2000_32_512/9999/0/0_6600_gaussians_github_ttn_1.4365106\n",
      "Accuracy: 0.430939226519337\n",
      "\n",
      "\n",
      "\u001b[34m\u001b[1mmodel saved at: ../datasets/casas/results/ttn/kyoto7/2000_32_512/9999/0/0_best_model\u001b[0m\n",
      "✅ data_x_path: ../datasets/casas/ende/kyoto7/9999/npy/3/kyoto7-train-x-0.npy\n",
      "INFO:tensorflow:Restoring parameters from ../datasets/casas/results/ttn/kyoto7/2000_32_512/9999/0/0_best_model\n",
      "Accuracy: 0.4419889502762431\n",
      "\n",
      "\n",
      "k: 0\tstep: 7000/22000, loss_value: 1.2863681316375732\n",
      "\u001b[34m\u001b[1mmodel saved at: ../datasets/casas/results/ttn/kyoto7/2000_32_512/9999/0/0_7700_gaussians_github_ttn_1.2593665\u001b[0m\n",
      "✅ data_x_path: ../datasets/casas/ende/kyoto7/9999/npy/3/kyoto7-train-x-0.npy\n",
      "INFO:tensorflow:Restoring parameters from ../datasets/casas/results/ttn/kyoto7/2000_32_512/9999/0/0_7700_gaussians_github_ttn_1.2593665\n",
      "Accuracy: 0.4530386740331492\n",
      "\n",
      "\n",
      "\u001b[34m\u001b[1mmodel saved at: ../datasets/casas/results/ttn/kyoto7/2000_32_512/9999/0/0_best_model\u001b[0m\n",
      "✅ data_x_path: ../datasets/casas/ende/kyoto7/9999/npy/3/kyoto7-train-x-0.npy\n",
      "INFO:tensorflow:Restoring parameters from ../datasets/casas/results/ttn/kyoto7/2000_32_512/9999/0/0_best_model\n",
      "Accuracy: 0.43646408839779005\n",
      "\n",
      "\n",
      "k: 0\tstep: 8000/22000, loss_value: 1.3499221801757812\n",
      "\u001b[34m\u001b[1mmodel saved at: ../datasets/casas/results/ttn/kyoto7/2000_32_512/9999/0/0_8800_gaussians_github_ttn_1.2270895\u001b[0m\n",
      "✅ data_x_path: ../datasets/casas/ende/kyoto7/9999/npy/3/kyoto7-train-x-0.npy\n",
      "INFO:tensorflow:Restoring parameters from ../datasets/casas/results/ttn/kyoto7/2000_32_512/9999/0/0_8800_gaussians_github_ttn_1.2270895\n",
      "Accuracy: 0.425414364640884\n",
      "\n",
      "\n",
      "\u001b[34m\u001b[1mmodel saved at: ../datasets/casas/results/ttn/kyoto7/2000_32_512/9999/0/0_best_model\u001b[0m\n",
      "✅ data_x_path: ../datasets/casas/ende/kyoto7/9999/npy/3/kyoto7-train-x-0.npy\n",
      "INFO:tensorflow:Restoring parameters from ../datasets/casas/results/ttn/kyoto7/2000_32_512/9999/0/0_best_model\n",
      "Accuracy: 0.430939226519337\n",
      "\n",
      "\n",
      "k: 0\tstep: 9000/22000, loss_value: 1.5028576850891113\n",
      "\u001b[34m\u001b[1mmodel saved at: ../datasets/casas/results/ttn/kyoto7/2000_32_512/9999/0/0_9900_gaussians_github_ttn_1.3535616\u001b[0m\n",
      "✅ data_x_path: ../datasets/casas/ende/kyoto7/9999/npy/3/kyoto7-train-x-0.npy\n",
      "INFO:tensorflow:Restoring parameters from ../datasets/casas/results/ttn/kyoto7/2000_32_512/9999/0/0_9900_gaussians_github_ttn_1.3535616\n"
     ]
    },
    {
     "name": "stdout",
     "output_type": "stream",
     "text": [
      "Accuracy: 0.430939226519337\n",
      "\n",
      "\n",
      "\u001b[34m\u001b[1mmodel saved at: ../datasets/casas/results/ttn/kyoto7/2000_32_512/9999/0/0_best_model\u001b[0m\n",
      "✅ data_x_path: ../datasets/casas/ende/kyoto7/9999/npy/3/kyoto7-train-x-0.npy\n",
      "INFO:tensorflow:Restoring parameters from ../datasets/casas/results/ttn/kyoto7/2000_32_512/9999/0/0_best_model\n",
      "Accuracy: 0.4585635359116022\n",
      "\n",
      "\n",
      "k: 0\tstep: 10000/22000, loss_value: 1.1802966594696045\n",
      "k: 0\tstep: 11000/22000, loss_value: 1.1829462051391602\n",
      "\u001b[34m\u001b[1mmodel saved at: ../datasets/casas/results/ttn/kyoto7/2000_32_512/9999/0/0_11000_gaussians_github_ttn_1.1829462\u001b[0m\n",
      "✅ data_x_path: ../datasets/casas/ende/kyoto7/9999/npy/3/kyoto7-train-x-0.npy\n",
      "INFO:tensorflow:Restoring parameters from ../datasets/casas/results/ttn/kyoto7/2000_32_512/9999/0/0_11000_gaussians_github_ttn_1.1829462\n",
      "Accuracy: 0.430939226519337\n",
      "\n",
      "\n",
      "\u001b[34m\u001b[1mmodel saved at: ../datasets/casas/results/ttn/kyoto7/2000_32_512/9999/0/0_best_model\u001b[0m\n",
      "✅ data_x_path: ../datasets/casas/ende/kyoto7/9999/npy/3/kyoto7-train-x-0.npy\n",
      "INFO:tensorflow:Restoring parameters from ../datasets/casas/results/ttn/kyoto7/2000_32_512/9999/0/0_best_model\n",
      "Accuracy: 0.44751381215469616\n",
      "\n",
      "\n",
      "k: 0\tstep: 12000/22000, loss_value: 1.353220820426941\n",
      "\u001b[34m\u001b[1mmodel saved at: ../datasets/casas/results/ttn/kyoto7/2000_32_512/9999/0/0_12100_gaussians_github_ttn_1.1006074\u001b[0m\n",
      "✅ data_x_path: ../datasets/casas/ende/kyoto7/9999/npy/3/kyoto7-train-x-0.npy\n",
      "INFO:tensorflow:Restoring parameters from ../datasets/casas/results/ttn/kyoto7/2000_32_512/9999/0/0_12100_gaussians_github_ttn_1.1006074\n",
      "Accuracy: 0.4143646408839779\n",
      "\n",
      "\n",
      "\u001b[34m\u001b[1mmodel saved at: ../datasets/casas/results/ttn/kyoto7/2000_32_512/9999/0/0_best_model\u001b[0m\n",
      "✅ data_x_path: ../datasets/casas/ende/kyoto7/9999/npy/3/kyoto7-train-x-0.npy\n",
      "INFO:tensorflow:Restoring parameters from ../datasets/casas/results/ttn/kyoto7/2000_32_512/9999/0/0_best_model\n",
      "Accuracy: 0.43646408839779005\n",
      "\n",
      "\n",
      "k: 0\tstep: 13000/22000, loss_value: 1.1946227550506592\n",
      "\u001b[34m\u001b[1mmodel saved at: ../datasets/casas/results/ttn/kyoto7/2000_32_512/9999/0/0_13200_gaussians_github_ttn_1.286987\u001b[0m\n",
      "✅ data_x_path: ../datasets/casas/ende/kyoto7/9999/npy/3/kyoto7-train-x-0.npy\n",
      "INFO:tensorflow:Restoring parameters from ../datasets/casas/results/ttn/kyoto7/2000_32_512/9999/0/0_13200_gaussians_github_ttn_1.286987\n",
      "Accuracy: 0.4143646408839779\n",
      "\n",
      "\n",
      "\u001b[34m\u001b[1mmodel saved at: ../datasets/casas/results/ttn/kyoto7/2000_32_512/9999/0/0_best_model\u001b[0m\n",
      "✅ data_x_path: ../datasets/casas/ende/kyoto7/9999/npy/3/kyoto7-train-x-0.npy\n",
      "INFO:tensorflow:Restoring parameters from ../datasets/casas/results/ttn/kyoto7/2000_32_512/9999/0/0_best_model\n",
      "Accuracy: 0.425414364640884\n",
      "\n",
      "\n",
      "k: 0\tstep: 14000/22000, loss_value: 1.2205859422683716\n",
      "\u001b[34m\u001b[1mmodel saved at: ../datasets/casas/results/ttn/kyoto7/2000_32_512/9999/0/0_14300_gaussians_github_ttn_1.1881087\u001b[0m\n",
      "✅ data_x_path: ../datasets/casas/ende/kyoto7/9999/npy/3/kyoto7-train-x-0.npy\n",
      "INFO:tensorflow:Restoring parameters from ../datasets/casas/results/ttn/kyoto7/2000_32_512/9999/0/0_14300_gaussians_github_ttn_1.1881087\n",
      "Accuracy: 0.4585635359116022\n",
      "\n",
      "\n",
      "\u001b[34m\u001b[1mmodel saved at: ../datasets/casas/results/ttn/kyoto7/2000_32_512/9999/0/0_best_model\u001b[0m\n",
      "✅ data_x_path: ../datasets/casas/ende/kyoto7/9999/npy/3/kyoto7-train-x-0.npy\n",
      "INFO:tensorflow:Restoring parameters from ../datasets/casas/results/ttn/kyoto7/2000_32_512/9999/0/0_best_model\n",
      "Accuracy: 0.425414364640884\n",
      "\n",
      "\n",
      "k: 0\tstep: 15000/22000, loss_value: 1.1340410709381104\n",
      "\u001b[34m\u001b[1mmodel saved at: ../datasets/casas/results/ttn/kyoto7/2000_32_512/9999/0/0_15400_gaussians_github_ttn_1.157428\u001b[0m\n",
      "✅ data_x_path: ../datasets/casas/ende/kyoto7/9999/npy/3/kyoto7-train-x-0.npy\n",
      "INFO:tensorflow:Restoring parameters from ../datasets/casas/results/ttn/kyoto7/2000_32_512/9999/0/0_15400_gaussians_github_ttn_1.157428\n",
      "Accuracy: 0.425414364640884\n",
      "\n",
      "\n",
      "\u001b[34m\u001b[1mmodel saved at: ../datasets/casas/results/ttn/kyoto7/2000_32_512/9999/0/0_best_model\u001b[0m\n",
      "✅ data_x_path: ../datasets/casas/ende/kyoto7/9999/npy/3/kyoto7-train-x-0.npy\n",
      "INFO:tensorflow:Restoring parameters from ../datasets/casas/results/ttn/kyoto7/2000_32_512/9999/0/0_best_model\n",
      "Accuracy: 0.425414364640884\n",
      "\n",
      "\n",
      "k: 0\tstep: 16000/22000, loss_value: 1.0658977031707764\n",
      "\u001b[34m\u001b[1mmodel saved at: ../datasets/casas/results/ttn/kyoto7/2000_32_512/9999/0/0_16500_gaussians_github_ttn_1.1092292\u001b[0m\n",
      "✅ data_x_path: ../datasets/casas/ende/kyoto7/9999/npy/3/kyoto7-train-x-0.npy\n",
      "INFO:tensorflow:Restoring parameters from ../datasets/casas/results/ttn/kyoto7/2000_32_512/9999/0/0_16500_gaussians_github_ttn_1.1092292\n",
      "Accuracy: 0.43646408839779005\n",
      "\n",
      "\n",
      "\u001b[34m\u001b[1mmodel saved at: ../datasets/casas/results/ttn/kyoto7/2000_32_512/9999/0/0_best_model\u001b[0m\n",
      "✅ data_x_path: ../datasets/casas/ende/kyoto7/9999/npy/3/kyoto7-train-x-0.npy\n",
      "INFO:tensorflow:Restoring parameters from ../datasets/casas/results/ttn/kyoto7/2000_32_512/9999/0/0_best_model\n",
      "Accuracy: 0.43646408839779005\n",
      "\n",
      "\n",
      "k: 0\tstep: 17000/22000, loss_value: 1.1016098260879517\n",
      "\u001b[34m\u001b[1mmodel saved at: ../datasets/casas/results/ttn/kyoto7/2000_32_512/9999/0/0_17600_gaussians_github_ttn_1.2075843\u001b[0m\n",
      "✅ data_x_path: ../datasets/casas/ende/kyoto7/9999/npy/3/kyoto7-train-x-0.npy\n",
      "INFO:tensorflow:Restoring parameters from ../datasets/casas/results/ttn/kyoto7/2000_32_512/9999/0/0_17600_gaussians_github_ttn_1.2075843\n",
      "Accuracy: 0.4530386740331492\n",
      "\n",
      "\n",
      "\u001b[34m\u001b[1mmodel saved at: ../datasets/casas/results/ttn/kyoto7/2000_32_512/9999/0/0_best_model\u001b[0m\n",
      "✅ data_x_path: ../datasets/casas/ende/kyoto7/9999/npy/3/kyoto7-train-x-0.npy\n",
      "INFO:tensorflow:Restoring parameters from ../datasets/casas/results/ttn/kyoto7/2000_32_512/9999/0/0_best_model\n",
      "Accuracy: 0.4530386740331492\n",
      "\n",
      "\n",
      "k: 0\tstep: 18000/22000, loss_value: 1.124030590057373\n",
      "\u001b[34m\u001b[1mmodel saved at: ../datasets/casas/results/ttn/kyoto7/2000_32_512/9999/0/0_18700_gaussians_github_ttn_1.1769687\u001b[0m\n",
      "✅ data_x_path: ../datasets/casas/ende/kyoto7/9999/npy/3/kyoto7-train-x-0.npy\n",
      "INFO:tensorflow:Restoring parameters from ../datasets/casas/results/ttn/kyoto7/2000_32_512/9999/0/0_18700_gaussians_github_ttn_1.1769687\n",
      "Accuracy: 0.4530386740331492\n",
      "\n",
      "\n",
      "\u001b[34m\u001b[1mmodel saved at: ../datasets/casas/results/ttn/kyoto7/2000_32_512/9999/0/0_best_model\u001b[0m\n",
      "✅ data_x_path: ../datasets/casas/ende/kyoto7/9999/npy/3/kyoto7-train-x-0.npy\n",
      "INFO:tensorflow:Restoring parameters from ../datasets/casas/results/ttn/kyoto7/2000_32_512/9999/0/0_best_model\n",
      "Accuracy: 0.4198895027624309\n",
      "\n",
      "\n",
      "k: 0\tstep: 19000/22000, loss_value: 1.0210208892822266\n",
      "\u001b[34m\u001b[1mmodel saved at: ../datasets/casas/results/ttn/kyoto7/2000_32_512/9999/0/0_19800_gaussians_github_ttn_1.0922673\u001b[0m\n",
      "✅ data_x_path: ../datasets/casas/ende/kyoto7/9999/npy/3/kyoto7-train-x-0.npy\n",
      "INFO:tensorflow:Restoring parameters from ../datasets/casas/results/ttn/kyoto7/2000_32_512/9999/0/0_19800_gaussians_github_ttn_1.0922673\n",
      "Accuracy: 0.4696132596685083\n",
      "\n",
      "\n",
      "\u001b[34m\u001b[1mmodel saved at: ../datasets/casas/results/ttn/kyoto7/2000_32_512/9999/0/0_best_model\u001b[0m\n",
      "✅ data_x_path: ../datasets/casas/ende/kyoto7/9999/npy/3/kyoto7-train-x-0.npy\n",
      "INFO:tensorflow:Restoring parameters from ../datasets/casas/results/ttn/kyoto7/2000_32_512/9999/0/0_best_model\n",
      "Accuracy: 0.4419889502762431\n",
      "\n",
      "\n",
      "k: 0\tstep: 20000/22000, loss_value: 1.204863429069519\n",
      "\u001b[34m\u001b[1mmodel saved at: ../datasets/casas/results/ttn/kyoto7/2000_32_512/9999/0/0_20900_gaussians_github_ttn_0.88664806\u001b[0m\n",
      "✅ data_x_path: ../datasets/casas/ende/kyoto7/9999/npy/3/kyoto7-train-x-0.npy\n",
      "INFO:tensorflow:Restoring parameters from ../datasets/casas/results/ttn/kyoto7/2000_32_512/9999/0/0_20900_gaussians_github_ttn_0.88664806\n",
      "Accuracy: 0.44751381215469616\n",
      "\n",
      "\n",
      "\u001b[34m\u001b[1mmodel saved at: ../datasets/casas/results/ttn/kyoto7/2000_32_512/9999/0/0_best_model\u001b[0m\n",
      "✅ data_x_path: ../datasets/casas/ende/kyoto7/9999/npy/3/kyoto7-train-x-0.npy\n",
      "INFO:tensorflow:Restoring parameters from ../datasets/casas/results/ttn/kyoto7/2000_32_512/9999/0/0_best_model\n",
      "Accuracy: 0.4585635359116022\n",
      "\n",
      "\n",
      "k: 0\tstep: 21000/22000, loss_value: 0.9508590698242188\n",
      "k: 0\tstep: 22000/22000, loss_value: 1.0145868062973022\n",
      "\u001b[34m\u001b[1mmodel saved at: ../datasets/casas/results/ttn/kyoto7/2000_32_512/9999/0/0_22000_gaussians_github_ttn_1.0145868\u001b[0m\n",
      "✅ data_x_path: ../datasets/casas/ende/kyoto7/9999/npy/3/kyoto7-train-x-0.npy\n",
      "INFO:tensorflow:Restoring parameters from ../datasets/casas/results/ttn/kyoto7/2000_32_512/9999/0/0_22000_gaussians_github_ttn_1.0145868\n"
     ]
    },
    {
     "name": "stdout",
     "output_type": "stream",
     "text": [
      "Accuracy: 0.46408839779005523\n",
      "\n",
      "\n",
      "\u001b[34m\u001b[1mmodel saved at: ../datasets/casas/results/ttn/kyoto7/2000_32_512/9999/0/0_best_model\u001b[0m\n",
      "✅ data_x_path: ../datasets/casas/ende/kyoto7/9999/npy/3/kyoto7-train-x-0.npy\n",
      "INFO:tensorflow:Restoring parameters from ../datasets/casas/results/ttn/kyoto7/2000_32_512/9999/0/0_best_model\n",
      "Accuracy: 0.4419889502762431\n",
      "\n",
      "\n",
      "\u001b[34m\u001b[1mmodel saved at: ../datasets/casas/results/ttn/kyoto7/2000_32_512/9999/0/0_last_model\u001b[0m\n",
      "✅ data_x_path: ../datasets/casas/ende/kyoto7/9999/npy/3/kyoto7-train-x-0.npy\n",
      "INFO:tensorflow:Restoring parameters from ../datasets/casas/results/ttn/kyoto7/2000_32_512/9999/0/0_last_model\n",
      "Accuracy: 0.4585635359116022\n",
      "\n",
      "\n",
      "\u001b[34m\u001b[1mval_acc_json saved at: ../datasets/casas/results/ttn/kyoto7/2000_32_512/9999/0/0_val_acc.json\u001b[0m\n",
      "\u001b[34m\u001b[1mlog saved at: ../datasets/casas/results/ttn/kyoto7/2000_32_512/9999/0/0_train_loss.txt\u001b[0m\n",
      "✅ data_x_path: ../datasets/casas/ende/kyoto7/9999/npy/3/kyoto7-train-x-1.npy\n",
      "k: 1\tstep: 0/22000, loss_value: 1.9561346769332886\n",
      "Create subdir directory: ../datasets/casas/results/ttn/kyoto7/2000_32_512/9999/1...\n",
      "\u001b[34m\u001b[1mmodel saved at: ../datasets/casas/results/ttn/kyoto7/2000_32_512/9999/1/1_0_gaussians_github_ttn_1.9561347\u001b[0m\n",
      "✅ data_x_path: ../datasets/casas/ende/kyoto7/9999/npy/3/kyoto7-train-x-1.npy\n",
      "INFO:tensorflow:Restoring parameters from ../datasets/casas/results/ttn/kyoto7/2000_32_512/9999/1/1_0_gaussians_github_ttn_1.9561347\n",
      "Accuracy: 0.14444444444444443\n",
      "\n",
      "\n",
      "\u001b[34m\u001b[1mmodel saved at: ../datasets/casas/results/ttn/kyoto7/2000_32_512/9999/1/1_best_model\u001b[0m\n",
      "✅ data_x_path: ../datasets/casas/ende/kyoto7/9999/npy/3/kyoto7-train-x-1.npy\n",
      "INFO:tensorflow:Restoring parameters from ../datasets/casas/results/ttn/kyoto7/2000_32_512/9999/1/1_best_model\n",
      "Accuracy: 0.13333333333333333\n",
      "\n",
      "\n",
      "k: 1\tstep: 1000/22000, loss_value: 1.6784353256225586\n",
      "\u001b[34m\u001b[1mmodel saved at: ../datasets/casas/results/ttn/kyoto7/2000_32_512/9999/1/1_1100_gaussians_github_ttn_1.630506\u001b[0m\n",
      "✅ data_x_path: ../datasets/casas/ende/kyoto7/9999/npy/3/kyoto7-train-x-1.npy\n",
      "INFO:tensorflow:Restoring parameters from ../datasets/casas/results/ttn/kyoto7/2000_32_512/9999/1/1_1100_gaussians_github_ttn_1.630506\n",
      "Accuracy: 0.35555555555555557\n",
      "\n",
      "\n",
      "\u001b[34m\u001b[1mmodel saved at: ../datasets/casas/results/ttn/kyoto7/2000_32_512/9999/1/1_best_model\u001b[0m\n",
      "✅ data_x_path: ../datasets/casas/ende/kyoto7/9999/npy/3/kyoto7-train-x-1.npy\n",
      "INFO:tensorflow:Restoring parameters from ../datasets/casas/results/ttn/kyoto7/2000_32_512/9999/1/1_best_model\n",
      "Accuracy: 0.37777777777777777\n",
      "\n",
      "\n",
      "k: 1\tstep: 2000/22000, loss_value: 1.6563762426376343\n",
      "\u001b[34m\u001b[1mmodel saved at: ../datasets/casas/results/ttn/kyoto7/2000_32_512/9999/1/1_2200_gaussians_github_ttn_1.4335145\u001b[0m\n",
      "✅ data_x_path: ../datasets/casas/ende/kyoto7/9999/npy/3/kyoto7-train-x-1.npy\n",
      "INFO:tensorflow:Restoring parameters from ../datasets/casas/results/ttn/kyoto7/2000_32_512/9999/1/1_2200_gaussians_github_ttn_1.4335145\n",
      "Accuracy: 0.39444444444444443\n",
      "\n",
      "\n",
      "\u001b[34m\u001b[1mmodel saved at: ../datasets/casas/results/ttn/kyoto7/2000_32_512/9999/1/1_best_model\u001b[0m\n",
      "✅ data_x_path: ../datasets/casas/ende/kyoto7/9999/npy/3/kyoto7-train-x-1.npy\n",
      "INFO:tensorflow:Restoring parameters from ../datasets/casas/results/ttn/kyoto7/2000_32_512/9999/1/1_best_model\n",
      "Accuracy: 0.4222222222222222\n",
      "\n",
      "\n",
      "k: 1\tstep: 3000/22000, loss_value: 1.3773863315582275\n",
      "\u001b[34m\u001b[1mmodel saved at: ../datasets/casas/results/ttn/kyoto7/2000_32_512/9999/1/1_3300_gaussians_github_ttn_1.3956656\u001b[0m\n",
      "✅ data_x_path: ../datasets/casas/ende/kyoto7/9999/npy/3/kyoto7-train-x-1.npy\n",
      "INFO:tensorflow:Restoring parameters from ../datasets/casas/results/ttn/kyoto7/2000_32_512/9999/1/1_3300_gaussians_github_ttn_1.3956656\n",
      "Accuracy: 0.4222222222222222\n",
      "\n",
      "\n",
      "\u001b[34m\u001b[1mmodel saved at: ../datasets/casas/results/ttn/kyoto7/2000_32_512/9999/1/1_best_model\u001b[0m\n",
      "✅ data_x_path: ../datasets/casas/ende/kyoto7/9999/npy/3/kyoto7-train-x-1.npy\n",
      "INFO:tensorflow:Restoring parameters from ../datasets/casas/results/ttn/kyoto7/2000_32_512/9999/1/1_best_model\n",
      "Accuracy: 0.4166666666666667\n",
      "\n",
      "\n",
      "k: 1\tstep: 4000/22000, loss_value: 1.4858670234680176\n",
      "\u001b[34m\u001b[1mmodel saved at: ../datasets/casas/results/ttn/kyoto7/2000_32_512/9999/1/1_4400_gaussians_github_ttn_1.2629788\u001b[0m\n",
      "✅ data_x_path: ../datasets/casas/ende/kyoto7/9999/npy/3/kyoto7-train-x-1.npy\n",
      "INFO:tensorflow:Restoring parameters from ../datasets/casas/results/ttn/kyoto7/2000_32_512/9999/1/1_4400_gaussians_github_ttn_1.2629788\n",
      "Accuracy: 0.40555555555555556\n",
      "\n",
      "\n",
      "\u001b[34m\u001b[1mmodel saved at: ../datasets/casas/results/ttn/kyoto7/2000_32_512/9999/1/1_best_model\u001b[0m\n",
      "✅ data_x_path: ../datasets/casas/ende/kyoto7/9999/npy/3/kyoto7-train-x-1.npy\n",
      "INFO:tensorflow:Restoring parameters from ../datasets/casas/results/ttn/kyoto7/2000_32_512/9999/1/1_best_model\n",
      "Accuracy: 0.42777777777777776\n",
      "\n",
      "\n",
      "k: 1\tstep: 5000/22000, loss_value: 1.406714916229248\n",
      "\u001b[34m\u001b[1mmodel saved at: ../datasets/casas/results/ttn/kyoto7/2000_32_512/9999/1/1_5500_gaussians_github_ttn_1.6250029\u001b[0m\n",
      "✅ data_x_path: ../datasets/casas/ende/kyoto7/9999/npy/3/kyoto7-train-x-1.npy\n",
      "INFO:tensorflow:Restoring parameters from ../datasets/casas/results/ttn/kyoto7/2000_32_512/9999/1/1_5500_gaussians_github_ttn_1.6250029\n",
      "Accuracy: 0.43333333333333335\n",
      "\n",
      "\n",
      "\u001b[34m\u001b[1mmodel saved at: ../datasets/casas/results/ttn/kyoto7/2000_32_512/9999/1/1_best_model\u001b[0m\n",
      "✅ data_x_path: ../datasets/casas/ende/kyoto7/9999/npy/3/kyoto7-train-x-1.npy\n",
      "INFO:tensorflow:Restoring parameters from ../datasets/casas/results/ttn/kyoto7/2000_32_512/9999/1/1_best_model\n",
      "Accuracy: 0.4388888888888889\n",
      "\n",
      "\n",
      "k: 1\tstep: 6000/22000, loss_value: 1.4632844924926758\n",
      "\u001b[34m\u001b[1mmodel saved at: ../datasets/casas/results/ttn/kyoto7/2000_32_512/9999/1/1_6600_gaussians_github_ttn_1.3373948\u001b[0m\n",
      "✅ data_x_path: ../datasets/casas/ende/kyoto7/9999/npy/3/kyoto7-train-x-1.npy\n",
      "INFO:tensorflow:Restoring parameters from ../datasets/casas/results/ttn/kyoto7/2000_32_512/9999/1/1_6600_gaussians_github_ttn_1.3373948\n",
      "Accuracy: 0.4388888888888889\n",
      "\n",
      "\n",
      "\u001b[34m\u001b[1mmodel saved at: ../datasets/casas/results/ttn/kyoto7/2000_32_512/9999/1/1_best_model\u001b[0m\n",
      "✅ data_x_path: ../datasets/casas/ende/kyoto7/9999/npy/3/kyoto7-train-x-1.npy\n",
      "INFO:tensorflow:Restoring parameters from ../datasets/casas/results/ttn/kyoto7/2000_32_512/9999/1/1_best_model\n",
      "Accuracy: 0.4166666666666667\n",
      "\n",
      "\n",
      "k: 1\tstep: 7000/22000, loss_value: 1.3348959684371948\n",
      "\u001b[34m\u001b[1mmodel saved at: ../datasets/casas/results/ttn/kyoto7/2000_32_512/9999/1/1_7700_gaussians_github_ttn_1.4037911\u001b[0m\n",
      "✅ data_x_path: ../datasets/casas/ende/kyoto7/9999/npy/3/kyoto7-train-x-1.npy\n",
      "INFO:tensorflow:Restoring parameters from ../datasets/casas/results/ttn/kyoto7/2000_32_512/9999/1/1_7700_gaussians_github_ttn_1.4037911\n",
      "Accuracy: 0.45\n",
      "\n",
      "\n",
      "\u001b[34m\u001b[1mmodel saved at: ../datasets/casas/results/ttn/kyoto7/2000_32_512/9999/1/1_best_model\u001b[0m\n",
      "✅ data_x_path: ../datasets/casas/ende/kyoto7/9999/npy/3/kyoto7-train-x-1.npy\n",
      "INFO:tensorflow:Restoring parameters from ../datasets/casas/results/ttn/kyoto7/2000_32_512/9999/1/1_best_model\n",
      "Accuracy: 0.46111111111111114\n",
      "\n",
      "\n",
      "k: 1\tstep: 8000/22000, loss_value: 1.4771993160247803\n",
      "\u001b[34m\u001b[1mmodel saved at: ../datasets/casas/results/ttn/kyoto7/2000_32_512/9999/1/1_8800_gaussians_github_ttn_1.0748434\u001b[0m\n",
      "✅ data_x_path: ../datasets/casas/ende/kyoto7/9999/npy/3/kyoto7-train-x-1.npy\n",
      "INFO:tensorflow:Restoring parameters from ../datasets/casas/results/ttn/kyoto7/2000_32_512/9999/1/1_8800_gaussians_github_ttn_1.0748434\n",
      "Accuracy: 0.4222222222222222\n",
      "\n",
      "\n",
      "\u001b[34m\u001b[1mmodel saved at: ../datasets/casas/results/ttn/kyoto7/2000_32_512/9999/1/1_best_model\u001b[0m\n",
      "✅ data_x_path: ../datasets/casas/ende/kyoto7/9999/npy/3/kyoto7-train-x-1.npy\n",
      "INFO:tensorflow:Restoring parameters from ../datasets/casas/results/ttn/kyoto7/2000_32_512/9999/1/1_best_model\n",
      "Accuracy: 0.45\n",
      "\n",
      "\n",
      "k: 1\tstep: 9000/22000, loss_value: 1.4283020496368408\n",
      "\u001b[34m\u001b[1mmodel saved at: ../datasets/casas/results/ttn/kyoto7/2000_32_512/9999/1/1_9900_gaussians_github_ttn_1.3206809\u001b[0m\n",
      "✅ data_x_path: ../datasets/casas/ende/kyoto7/9999/npy/3/kyoto7-train-x-1.npy\n",
      "INFO:tensorflow:Restoring parameters from ../datasets/casas/results/ttn/kyoto7/2000_32_512/9999/1/1_9900_gaussians_github_ttn_1.3206809\n",
      "Accuracy: 0.42777777777777776\n",
      "\n",
      "\n",
      "\u001b[34m\u001b[1mmodel saved at: ../datasets/casas/results/ttn/kyoto7/2000_32_512/9999/1/1_best_model\u001b[0m\n",
      "✅ data_x_path: ../datasets/casas/ende/kyoto7/9999/npy/3/kyoto7-train-x-1.npy\n",
      "INFO:tensorflow:Restoring parameters from ../datasets/casas/results/ttn/kyoto7/2000_32_512/9999/1/1_best_model\n"
     ]
    },
    {
     "name": "stdout",
     "output_type": "stream",
     "text": [
      "Accuracy: 0.4444444444444444\n",
      "\n",
      "\n",
      "k: 1\tstep: 10000/22000, loss_value: 1.1918021440505981\n",
      "k: 1\tstep: 11000/22000, loss_value: 1.1363801956176758\n",
      "\u001b[34m\u001b[1mmodel saved at: ../datasets/casas/results/ttn/kyoto7/2000_32_512/9999/1/1_11000_gaussians_github_ttn_1.1363802\u001b[0m\n",
      "✅ data_x_path: ../datasets/casas/ende/kyoto7/9999/npy/3/kyoto7-train-x-1.npy\n",
      "INFO:tensorflow:Restoring parameters from ../datasets/casas/results/ttn/kyoto7/2000_32_512/9999/1/1_11000_gaussians_github_ttn_1.1363802\n",
      "Accuracy: 0.4777777777777778\n",
      "\n",
      "\n",
      "\u001b[34m\u001b[1mmodel saved at: ../datasets/casas/results/ttn/kyoto7/2000_32_512/9999/1/1_best_model\u001b[0m\n",
      "✅ data_x_path: ../datasets/casas/ende/kyoto7/9999/npy/3/kyoto7-train-x-1.npy\n",
      "INFO:tensorflow:Restoring parameters from ../datasets/casas/results/ttn/kyoto7/2000_32_512/9999/1/1_best_model\n",
      "Accuracy: 0.45555555555555555\n",
      "\n",
      "\n",
      "k: 1\tstep: 12000/22000, loss_value: 1.2721794843673706\n",
      "\u001b[34m\u001b[1mmodel saved at: ../datasets/casas/results/ttn/kyoto7/2000_32_512/9999/1/1_12100_gaussians_github_ttn_1.1913886\u001b[0m\n",
      "✅ data_x_path: ../datasets/casas/ende/kyoto7/9999/npy/3/kyoto7-train-x-1.npy\n",
      "INFO:tensorflow:Restoring parameters from ../datasets/casas/results/ttn/kyoto7/2000_32_512/9999/1/1_12100_gaussians_github_ttn_1.1913886\n",
      "Accuracy: 0.45\n",
      "\n",
      "\n",
      "\u001b[34m\u001b[1mmodel saved at: ../datasets/casas/results/ttn/kyoto7/2000_32_512/9999/1/1_best_model\u001b[0m\n",
      "✅ data_x_path: ../datasets/casas/ende/kyoto7/9999/npy/3/kyoto7-train-x-1.npy\n",
      "INFO:tensorflow:Restoring parameters from ../datasets/casas/results/ttn/kyoto7/2000_32_512/9999/1/1_best_model\n",
      "Accuracy: 0.42777777777777776\n",
      "\n",
      "\n",
      "k: 1\tstep: 13000/22000, loss_value: 1.2088580131530762\n",
      "\u001b[34m\u001b[1mmodel saved at: ../datasets/casas/results/ttn/kyoto7/2000_32_512/9999/1/1_13200_gaussians_github_ttn_1.1396037\u001b[0m\n",
      "✅ data_x_path: ../datasets/casas/ende/kyoto7/9999/npy/3/kyoto7-train-x-1.npy\n",
      "INFO:tensorflow:Restoring parameters from ../datasets/casas/results/ttn/kyoto7/2000_32_512/9999/1/1_13200_gaussians_github_ttn_1.1396037\n",
      "Accuracy: 0.4388888888888889\n",
      "\n",
      "\n",
      "\u001b[34m\u001b[1mmodel saved at: ../datasets/casas/results/ttn/kyoto7/2000_32_512/9999/1/1_best_model\u001b[0m\n",
      "✅ data_x_path: ../datasets/casas/ende/kyoto7/9999/npy/3/kyoto7-train-x-1.npy\n",
      "INFO:tensorflow:Restoring parameters from ../datasets/casas/results/ttn/kyoto7/2000_32_512/9999/1/1_best_model\n",
      "Accuracy: 0.4388888888888889\n",
      "\n",
      "\n",
      "k: 1\tstep: 14000/22000, loss_value: 1.21890127658844\n",
      "\u001b[34m\u001b[1mmodel saved at: ../datasets/casas/results/ttn/kyoto7/2000_32_512/9999/1/1_14300_gaussians_github_ttn_1.232483\u001b[0m\n",
      "✅ data_x_path: ../datasets/casas/ende/kyoto7/9999/npy/3/kyoto7-train-x-1.npy\n",
      "INFO:tensorflow:Restoring parameters from ../datasets/casas/results/ttn/kyoto7/2000_32_512/9999/1/1_14300_gaussians_github_ttn_1.232483\n",
      "Accuracy: 0.4388888888888889\n",
      "\n",
      "\n",
      "\u001b[34m\u001b[1mmodel saved at: ../datasets/casas/results/ttn/kyoto7/2000_32_512/9999/1/1_best_model\u001b[0m\n",
      "✅ data_x_path: ../datasets/casas/ende/kyoto7/9999/npy/3/kyoto7-train-x-1.npy\n",
      "INFO:tensorflow:Restoring parameters from ../datasets/casas/results/ttn/kyoto7/2000_32_512/9999/1/1_best_model\n",
      "Accuracy: 0.4388888888888889\n",
      "\n",
      "\n",
      "k: 1\tstep: 15000/22000, loss_value: 1.166237235069275\n",
      "\u001b[34m\u001b[1mmodel saved at: ../datasets/casas/results/ttn/kyoto7/2000_32_512/9999/1/1_15400_gaussians_github_ttn_0.95450974\u001b[0m\n",
      "✅ data_x_path: ../datasets/casas/ende/kyoto7/9999/npy/3/kyoto7-train-x-1.npy\n",
      "INFO:tensorflow:Restoring parameters from ../datasets/casas/results/ttn/kyoto7/2000_32_512/9999/1/1_15400_gaussians_github_ttn_0.95450974\n",
      "Accuracy: 0.4388888888888889\n",
      "\n",
      "\n",
      "\u001b[34m\u001b[1mmodel saved at: ../datasets/casas/results/ttn/kyoto7/2000_32_512/9999/1/1_best_model\u001b[0m\n",
      "✅ data_x_path: ../datasets/casas/ende/kyoto7/9999/npy/3/kyoto7-train-x-1.npy\n",
      "INFO:tensorflow:Restoring parameters from ../datasets/casas/results/ttn/kyoto7/2000_32_512/9999/1/1_best_model\n",
      "Accuracy: 0.4888888888888889\n",
      "\n",
      "\n",
      "k: 1\tstep: 16000/22000, loss_value: 1.0247600078582764\n",
      "\u001b[34m\u001b[1mmodel saved at: ../datasets/casas/results/ttn/kyoto7/2000_32_512/9999/1/1_16500_gaussians_github_ttn_1.0144762\u001b[0m\n",
      "✅ data_x_path: ../datasets/casas/ende/kyoto7/9999/npy/3/kyoto7-train-x-1.npy\n",
      "INFO:tensorflow:Restoring parameters from ../datasets/casas/results/ttn/kyoto7/2000_32_512/9999/1/1_16500_gaussians_github_ttn_1.0144762\n",
      "Accuracy: 0.4666666666666667\n",
      "\n",
      "\n",
      "\u001b[34m\u001b[1mmodel saved at: ../datasets/casas/results/ttn/kyoto7/2000_32_512/9999/1/1_best_model\u001b[0m\n",
      "✅ data_x_path: ../datasets/casas/ende/kyoto7/9999/npy/3/kyoto7-train-x-1.npy\n",
      "INFO:tensorflow:Restoring parameters from ../datasets/casas/results/ttn/kyoto7/2000_32_512/9999/1/1_best_model\n",
      "Accuracy: 0.45\n",
      "\n",
      "\n",
      "k: 1\tstep: 17000/22000, loss_value: 0.8939933776855469\n",
      "\u001b[34m\u001b[1mmodel saved at: ../datasets/casas/results/ttn/kyoto7/2000_32_512/9999/1/1_17600_gaussians_github_ttn_1.1930659\u001b[0m\n",
      "✅ data_x_path: ../datasets/casas/ende/kyoto7/9999/npy/3/kyoto7-train-x-1.npy\n",
      "INFO:tensorflow:Restoring parameters from ../datasets/casas/results/ttn/kyoto7/2000_32_512/9999/1/1_17600_gaussians_github_ttn_1.1930659\n",
      "Accuracy: 0.48333333333333334\n",
      "\n",
      "\n",
      "\u001b[34m\u001b[1mmodel saved at: ../datasets/casas/results/ttn/kyoto7/2000_32_512/9999/1/1_best_model\u001b[0m\n",
      "✅ data_x_path: ../datasets/casas/ende/kyoto7/9999/npy/3/kyoto7-train-x-1.npy\n",
      "INFO:tensorflow:Restoring parameters from ../datasets/casas/results/ttn/kyoto7/2000_32_512/9999/1/1_best_model\n",
      "Accuracy: 0.45\n",
      "\n",
      "\n",
      "k: 1\tstep: 18000/22000, loss_value: 1.0382211208343506\n",
      "\u001b[34m\u001b[1mmodel saved at: ../datasets/casas/results/ttn/kyoto7/2000_32_512/9999/1/1_18700_gaussians_github_ttn_1.3279674\u001b[0m\n",
      "✅ data_x_path: ../datasets/casas/ende/kyoto7/9999/npy/3/kyoto7-train-x-1.npy\n",
      "INFO:tensorflow:Restoring parameters from ../datasets/casas/results/ttn/kyoto7/2000_32_512/9999/1/1_18700_gaussians_github_ttn_1.3279674\n",
      "Accuracy: 0.45555555555555555\n",
      "\n",
      "\n",
      "\u001b[34m\u001b[1mmodel saved at: ../datasets/casas/results/ttn/kyoto7/2000_32_512/9999/1/1_best_model\u001b[0m\n",
      "✅ data_x_path: ../datasets/casas/ende/kyoto7/9999/npy/3/kyoto7-train-x-1.npy\n",
      "INFO:tensorflow:Restoring parameters from ../datasets/casas/results/ttn/kyoto7/2000_32_512/9999/1/1_best_model\n",
      "Accuracy: 0.46111111111111114\n",
      "\n",
      "\n",
      "k: 1\tstep: 19000/22000, loss_value: 0.9922952651977539\n",
      "\u001b[34m\u001b[1mmodel saved at: ../datasets/casas/results/ttn/kyoto7/2000_32_512/9999/1/1_19800_gaussians_github_ttn_0.9521822\u001b[0m\n",
      "✅ data_x_path: ../datasets/casas/ende/kyoto7/9999/npy/3/kyoto7-train-x-1.npy\n",
      "INFO:tensorflow:Restoring parameters from ../datasets/casas/results/ttn/kyoto7/2000_32_512/9999/1/1_19800_gaussians_github_ttn_0.9521822\n",
      "Accuracy: 0.46111111111111114\n",
      "\n",
      "\n",
      "\u001b[34m\u001b[1mmodel saved at: ../datasets/casas/results/ttn/kyoto7/2000_32_512/9999/1/1_best_model\u001b[0m\n",
      "✅ data_x_path: ../datasets/casas/ende/kyoto7/9999/npy/3/kyoto7-train-x-1.npy\n",
      "INFO:tensorflow:Restoring parameters from ../datasets/casas/results/ttn/kyoto7/2000_32_512/9999/1/1_best_model\n",
      "Accuracy: 0.4666666666666667\n",
      "\n",
      "\n",
      "k: 1\tstep: 20000/22000, loss_value: 1.0887973308563232\n",
      "\u001b[34m\u001b[1mmodel saved at: ../datasets/casas/results/ttn/kyoto7/2000_32_512/9999/1/1_20900_gaussians_github_ttn_1.0636694\u001b[0m\n",
      "✅ data_x_path: ../datasets/casas/ende/kyoto7/9999/npy/3/kyoto7-train-x-1.npy\n",
      "INFO:tensorflow:Restoring parameters from ../datasets/casas/results/ttn/kyoto7/2000_32_512/9999/1/1_20900_gaussians_github_ttn_1.0636694\n",
      "Accuracy: 0.4666666666666667\n",
      "\n",
      "\n",
      "\u001b[34m\u001b[1mmodel saved at: ../datasets/casas/results/ttn/kyoto7/2000_32_512/9999/1/1_best_model\u001b[0m\n",
      "✅ data_x_path: ../datasets/casas/ende/kyoto7/9999/npy/3/kyoto7-train-x-1.npy\n",
      "INFO:tensorflow:Restoring parameters from ../datasets/casas/results/ttn/kyoto7/2000_32_512/9999/1/1_best_model\n",
      "Accuracy: 0.4666666666666667\n",
      "\n",
      "\n",
      "k: 1\tstep: 21000/22000, loss_value: 0.9298263788223267\n",
      "k: 1\tstep: 22000/22000, loss_value: 0.942339301109314\n",
      "\u001b[34m\u001b[1mmodel saved at: ../datasets/casas/results/ttn/kyoto7/2000_32_512/9999/1/1_22000_gaussians_github_ttn_0.9423393\u001b[0m\n",
      "✅ data_x_path: ../datasets/casas/ende/kyoto7/9999/npy/3/kyoto7-train-x-1.npy\n",
      "INFO:tensorflow:Restoring parameters from ../datasets/casas/results/ttn/kyoto7/2000_32_512/9999/1/1_22000_gaussians_github_ttn_0.9423393\n",
      "Accuracy: 0.4666666666666667\n",
      "\n",
      "\n",
      "\u001b[34m\u001b[1mmodel saved at: ../datasets/casas/results/ttn/kyoto7/2000_32_512/9999/1/1_best_model\u001b[0m\n",
      "✅ data_x_path: ../datasets/casas/ende/kyoto7/9999/npy/3/kyoto7-train-x-1.npy\n",
      "INFO:tensorflow:Restoring parameters from ../datasets/casas/results/ttn/kyoto7/2000_32_512/9999/1/1_best_model\n"
     ]
    },
    {
     "name": "stdout",
     "output_type": "stream",
     "text": [
      "Accuracy: 0.45\n",
      "\n",
      "\n",
      "\u001b[34m\u001b[1mmodel saved at: ../datasets/casas/results/ttn/kyoto7/2000_32_512/9999/1/1_last_model\u001b[0m\n",
      "✅ data_x_path: ../datasets/casas/ende/kyoto7/9999/npy/3/kyoto7-train-x-1.npy\n",
      "INFO:tensorflow:Restoring parameters from ../datasets/casas/results/ttn/kyoto7/2000_32_512/9999/1/1_last_model\n",
      "Accuracy: 0.45\n",
      "\n",
      "\n",
      "\u001b[34m\u001b[1mval_acc_json saved at: ../datasets/casas/results/ttn/kyoto7/2000_32_512/9999/1/1_val_acc.json\u001b[0m\n",
      "\u001b[34m\u001b[1mlog saved at: ../datasets/casas/results/ttn/kyoto7/2000_32_512/9999/1/1_train_loss.txt\u001b[0m\n",
      "✅ data_x_path: ../datasets/casas/ende/kyoto7/9999/npy/3/kyoto7-train-x-2.npy\n",
      "k: 2\tstep: 0/22000, loss_value: 1.9609887599945068\n",
      "Create subdir directory: ../datasets/casas/results/ttn/kyoto7/2000_32_512/9999/2...\n",
      "\u001b[34m\u001b[1mmodel saved at: ../datasets/casas/results/ttn/kyoto7/2000_32_512/9999/2/2_0_gaussians_github_ttn_1.9609888\u001b[0m\n",
      "✅ data_x_path: ../datasets/casas/ende/kyoto7/9999/npy/3/kyoto7-train-x-2.npy\n",
      "INFO:tensorflow:Restoring parameters from ../datasets/casas/results/ttn/kyoto7/2000_32_512/9999/2/2_0_gaussians_github_ttn_1.9609888\n",
      "Accuracy: 0.18333333333333332\n",
      "\n",
      "\n",
      "\u001b[34m\u001b[1mmodel saved at: ../datasets/casas/results/ttn/kyoto7/2000_32_512/9999/2/2_best_model\u001b[0m\n",
      "✅ data_x_path: ../datasets/casas/ende/kyoto7/9999/npy/3/kyoto7-train-x-2.npy\n",
      "INFO:tensorflow:Restoring parameters from ../datasets/casas/results/ttn/kyoto7/2000_32_512/9999/2/2_best_model\n",
      "Accuracy: 0.1388888888888889\n",
      "\n",
      "\n",
      "k: 2\tstep: 1000/22000, loss_value: 1.5744845867156982\n",
      "\u001b[34m\u001b[1mmodel saved at: ../datasets/casas/results/ttn/kyoto7/2000_32_512/9999/2/2_1100_gaussians_github_ttn_1.5574852\u001b[0m\n",
      "✅ data_x_path: ../datasets/casas/ende/kyoto7/9999/npy/3/kyoto7-train-x-2.npy\n",
      "INFO:tensorflow:Restoring parameters from ../datasets/casas/results/ttn/kyoto7/2000_32_512/9999/2/2_1100_gaussians_github_ttn_1.5574852\n",
      "Accuracy: 0.3\n",
      "\n",
      "\n",
      "\u001b[34m\u001b[1mmodel saved at: ../datasets/casas/results/ttn/kyoto7/2000_32_512/9999/2/2_best_model\u001b[0m\n",
      "✅ data_x_path: ../datasets/casas/ende/kyoto7/9999/npy/3/kyoto7-train-x-2.npy\n",
      "INFO:tensorflow:Restoring parameters from ../datasets/casas/results/ttn/kyoto7/2000_32_512/9999/2/2_best_model\n",
      "Accuracy: 0.29444444444444445\n",
      "\n",
      "\n",
      "k: 2\tstep: 2000/22000, loss_value: 1.4380974769592285\n",
      "\u001b[34m\u001b[1mmodel saved at: ../datasets/casas/results/ttn/kyoto7/2000_32_512/9999/2/2_2200_gaussians_github_ttn_1.4692643\u001b[0m\n",
      "✅ data_x_path: ../datasets/casas/ende/kyoto7/9999/npy/3/kyoto7-train-x-2.npy\n",
      "INFO:tensorflow:Restoring parameters from ../datasets/casas/results/ttn/kyoto7/2000_32_512/9999/2/2_2200_gaussians_github_ttn_1.4692643\n",
      "Accuracy: 0.36666666666666664\n",
      "\n",
      "\n",
      "\u001b[34m\u001b[1mmodel saved at: ../datasets/casas/results/ttn/kyoto7/2000_32_512/9999/2/2_best_model\u001b[0m\n",
      "✅ data_x_path: ../datasets/casas/ende/kyoto7/9999/npy/3/kyoto7-train-x-2.npy\n",
      "INFO:tensorflow:Restoring parameters from ../datasets/casas/results/ttn/kyoto7/2000_32_512/9999/2/2_best_model\n",
      "Accuracy: 0.3388888888888889\n",
      "\n",
      "\n",
      "k: 2\tstep: 3000/22000, loss_value: 1.4380574226379395\n",
      "\u001b[34m\u001b[1mmodel saved at: ../datasets/casas/results/ttn/kyoto7/2000_32_512/9999/2/2_3300_gaussians_github_ttn_1.5654488\u001b[0m\n",
      "✅ data_x_path: ../datasets/casas/ende/kyoto7/9999/npy/3/kyoto7-train-x-2.npy\n",
      "INFO:tensorflow:Restoring parameters from ../datasets/casas/results/ttn/kyoto7/2000_32_512/9999/2/2_3300_gaussians_github_ttn_1.5654488\n",
      "Accuracy: 0.36666666666666664\n",
      "\n",
      "\n",
      "\u001b[34m\u001b[1mmodel saved at: ../datasets/casas/results/ttn/kyoto7/2000_32_512/9999/2/2_best_model\u001b[0m\n",
      "✅ data_x_path: ../datasets/casas/ende/kyoto7/9999/npy/3/kyoto7-train-x-2.npy\n",
      "INFO:tensorflow:Restoring parameters from ../datasets/casas/results/ttn/kyoto7/2000_32_512/9999/2/2_best_model\n",
      "Accuracy: 0.35\n",
      "\n",
      "\n",
      "k: 2\tstep: 4000/22000, loss_value: 1.2050197124481201\n",
      "\u001b[34m\u001b[1mmodel saved at: ../datasets/casas/results/ttn/kyoto7/2000_32_512/9999/2/2_4400_gaussians_github_ttn_1.4581118\u001b[0m\n",
      "✅ data_x_path: ../datasets/casas/ende/kyoto7/9999/npy/3/kyoto7-train-x-2.npy\n",
      "INFO:tensorflow:Restoring parameters from ../datasets/casas/results/ttn/kyoto7/2000_32_512/9999/2/2_4400_gaussians_github_ttn_1.4581118\n",
      "Accuracy: 0.37777777777777777\n",
      "\n",
      "\n",
      "\u001b[34m\u001b[1mmodel saved at: ../datasets/casas/results/ttn/kyoto7/2000_32_512/9999/2/2_best_model\u001b[0m\n",
      "✅ data_x_path: ../datasets/casas/ende/kyoto7/9999/npy/3/kyoto7-train-x-2.npy\n",
      "INFO:tensorflow:Restoring parameters from ../datasets/casas/results/ttn/kyoto7/2000_32_512/9999/2/2_best_model\n",
      "Accuracy: 0.3888888888888889\n",
      "\n",
      "\n",
      "k: 2\tstep: 5000/22000, loss_value: 1.3806921243667603\n",
      "\u001b[34m\u001b[1mmodel saved at: ../datasets/casas/results/ttn/kyoto7/2000_32_512/9999/2/2_5500_gaussians_github_ttn_1.4694647\u001b[0m\n",
      "✅ data_x_path: ../datasets/casas/ende/kyoto7/9999/npy/3/kyoto7-train-x-2.npy\n",
      "INFO:tensorflow:Restoring parameters from ../datasets/casas/results/ttn/kyoto7/2000_32_512/9999/2/2_5500_gaussians_github_ttn_1.4694647\n",
      "Accuracy: 0.39444444444444443\n",
      "\n",
      "\n",
      "\u001b[34m\u001b[1mmodel saved at: ../datasets/casas/results/ttn/kyoto7/2000_32_512/9999/2/2_best_model\u001b[0m\n",
      "✅ data_x_path: ../datasets/casas/ende/kyoto7/9999/npy/3/kyoto7-train-x-2.npy\n",
      "INFO:tensorflow:Restoring parameters from ../datasets/casas/results/ttn/kyoto7/2000_32_512/9999/2/2_best_model\n",
      "Accuracy: 0.37222222222222223\n",
      "\n",
      "\n",
      "k: 2\tstep: 6000/22000, loss_value: 1.187194585800171\n",
      "\u001b[34m\u001b[1mmodel saved at: ../datasets/casas/results/ttn/kyoto7/2000_32_512/9999/2/2_6600_gaussians_github_ttn_1.131492\u001b[0m\n",
      "✅ data_x_path: ../datasets/casas/ende/kyoto7/9999/npy/3/kyoto7-train-x-2.npy\n",
      "INFO:tensorflow:Restoring parameters from ../datasets/casas/results/ttn/kyoto7/2000_32_512/9999/2/2_6600_gaussians_github_ttn_1.131492\n",
      "Accuracy: 0.3888888888888889\n",
      "\n",
      "\n",
      "\u001b[34m\u001b[1mmodel saved at: ../datasets/casas/results/ttn/kyoto7/2000_32_512/9999/2/2_best_model\u001b[0m\n",
      "✅ data_x_path: ../datasets/casas/ende/kyoto7/9999/npy/3/kyoto7-train-x-2.npy\n",
      "INFO:tensorflow:Restoring parameters from ../datasets/casas/results/ttn/kyoto7/2000_32_512/9999/2/2_best_model\n",
      "Accuracy: 0.39444444444444443\n",
      "\n",
      "\n",
      "k: 2\tstep: 7000/22000, loss_value: 1.1279425621032715\n",
      "\u001b[34m\u001b[1mmodel saved at: ../datasets/casas/results/ttn/kyoto7/2000_32_512/9999/2/2_7700_gaussians_github_ttn_1.1583397\u001b[0m\n",
      "✅ data_x_path: ../datasets/casas/ende/kyoto7/9999/npy/3/kyoto7-train-x-2.npy\n",
      "INFO:tensorflow:Restoring parameters from ../datasets/casas/results/ttn/kyoto7/2000_32_512/9999/2/2_7700_gaussians_github_ttn_1.1583397\n",
      "Accuracy: 0.4\n",
      "\n",
      "\n",
      "\u001b[34m\u001b[1mmodel saved at: ../datasets/casas/results/ttn/kyoto7/2000_32_512/9999/2/2_best_model\u001b[0m\n",
      "✅ data_x_path: ../datasets/casas/ende/kyoto7/9999/npy/3/kyoto7-train-x-2.npy\n",
      "INFO:tensorflow:Restoring parameters from ../datasets/casas/results/ttn/kyoto7/2000_32_512/9999/2/2_best_model\n",
      "Accuracy: 0.37777777777777777\n",
      "\n",
      "\n",
      "k: 2\tstep: 8000/22000, loss_value: 1.0902807712554932\n",
      "\u001b[34m\u001b[1mmodel saved at: ../datasets/casas/results/ttn/kyoto7/2000_32_512/9999/2/2_8800_gaussians_github_ttn_1.3727849\u001b[0m\n",
      "✅ data_x_path: ../datasets/casas/ende/kyoto7/9999/npy/3/kyoto7-train-x-2.npy\n",
      "INFO:tensorflow:Restoring parameters from ../datasets/casas/results/ttn/kyoto7/2000_32_512/9999/2/2_8800_gaussians_github_ttn_1.3727849\n",
      "Accuracy: 0.3888888888888889\n",
      "\n",
      "\n",
      "\u001b[34m\u001b[1mmodel saved at: ../datasets/casas/results/ttn/kyoto7/2000_32_512/9999/2/2_best_model\u001b[0m\n",
      "✅ data_x_path: ../datasets/casas/ende/kyoto7/9999/npy/3/kyoto7-train-x-2.npy\n",
      "INFO:tensorflow:Restoring parameters from ../datasets/casas/results/ttn/kyoto7/2000_32_512/9999/2/2_best_model\n",
      "Accuracy: 0.40555555555555556\n",
      "\n",
      "\n",
      "k: 2\tstep: 9000/22000, loss_value: 1.4136931896209717\n",
      "\u001b[34m\u001b[1mmodel saved at: ../datasets/casas/results/ttn/kyoto7/2000_32_512/9999/2/2_9900_gaussians_github_ttn_1.4034779\u001b[0m\n",
      "✅ data_x_path: ../datasets/casas/ende/kyoto7/9999/npy/3/kyoto7-train-x-2.npy\n",
      "INFO:tensorflow:Restoring parameters from ../datasets/casas/results/ttn/kyoto7/2000_32_512/9999/2/2_9900_gaussians_github_ttn_1.4034779\n",
      "Accuracy: 0.4166666666666667\n",
      "\n",
      "\n",
      "\u001b[34m\u001b[1mmodel saved at: ../datasets/casas/results/ttn/kyoto7/2000_32_512/9999/2/2_best_model\u001b[0m\n",
      "✅ data_x_path: ../datasets/casas/ende/kyoto7/9999/npy/3/kyoto7-train-x-2.npy\n",
      "INFO:tensorflow:Restoring parameters from ../datasets/casas/results/ttn/kyoto7/2000_32_512/9999/2/2_best_model\n",
      "Accuracy: 0.39444444444444443\n",
      "\n",
      "\n",
      "k: 2\tstep: 10000/22000, loss_value: 1.1184371709823608\n",
      "k: 2\tstep: 11000/22000, loss_value: 1.3188960552215576\n",
      "\u001b[34m\u001b[1mmodel saved at: ../datasets/casas/results/ttn/kyoto7/2000_32_512/9999/2/2_11000_gaussians_github_ttn_1.318896\u001b[0m\n",
      "✅ data_x_path: ../datasets/casas/ende/kyoto7/9999/npy/3/kyoto7-train-x-2.npy\n",
      "INFO:tensorflow:Restoring parameters from ../datasets/casas/results/ttn/kyoto7/2000_32_512/9999/2/2_11000_gaussians_github_ttn_1.318896\n"
     ]
    },
    {
     "name": "stdout",
     "output_type": "stream",
     "text": [
      "Accuracy: 0.4222222222222222\n",
      "\n",
      "\n",
      "\u001b[34m\u001b[1mmodel saved at: ../datasets/casas/results/ttn/kyoto7/2000_32_512/9999/2/2_best_model\u001b[0m\n",
      "✅ data_x_path: ../datasets/casas/ende/kyoto7/9999/npy/3/kyoto7-train-x-2.npy\n",
      "INFO:tensorflow:Restoring parameters from ../datasets/casas/results/ttn/kyoto7/2000_32_512/9999/2/2_best_model\n",
      "Accuracy: 0.37777777777777777\n",
      "\n",
      "\n",
      "k: 2\tstep: 12000/22000, loss_value: 1.2005224227905273\n",
      "\u001b[34m\u001b[1mmodel saved at: ../datasets/casas/results/ttn/kyoto7/2000_32_512/9999/2/2_12100_gaussians_github_ttn_1.2644722\u001b[0m\n",
      "✅ data_x_path: ../datasets/casas/ende/kyoto7/9999/npy/3/kyoto7-train-x-2.npy\n",
      "INFO:tensorflow:Restoring parameters from ../datasets/casas/results/ttn/kyoto7/2000_32_512/9999/2/2_12100_gaussians_github_ttn_1.2644722\n",
      "Accuracy: 0.40555555555555556\n",
      "\n",
      "\n",
      "\u001b[34m\u001b[1mmodel saved at: ../datasets/casas/results/ttn/kyoto7/2000_32_512/9999/2/2_best_model\u001b[0m\n",
      "✅ data_x_path: ../datasets/casas/ende/kyoto7/9999/npy/3/kyoto7-train-x-2.npy\n",
      "INFO:tensorflow:Restoring parameters from ../datasets/casas/results/ttn/kyoto7/2000_32_512/9999/2/2_best_model\n",
      "Accuracy: 0.39444444444444443\n",
      "\n",
      "\n",
      "k: 2\tstep: 13000/22000, loss_value: 0.8177689909934998\n",
      "\u001b[34m\u001b[1mmodel saved at: ../datasets/casas/results/ttn/kyoto7/2000_32_512/9999/2/2_13200_gaussians_github_ttn_1.1866593\u001b[0m\n",
      "✅ data_x_path: ../datasets/casas/ende/kyoto7/9999/npy/3/kyoto7-train-x-2.npy\n",
      "INFO:tensorflow:Restoring parameters from ../datasets/casas/results/ttn/kyoto7/2000_32_512/9999/2/2_13200_gaussians_github_ttn_1.1866593\n",
      "Accuracy: 0.4222222222222222\n",
      "\n",
      "\n",
      "\u001b[34m\u001b[1mmodel saved at: ../datasets/casas/results/ttn/kyoto7/2000_32_512/9999/2/2_best_model\u001b[0m\n",
      "✅ data_x_path: ../datasets/casas/ende/kyoto7/9999/npy/3/kyoto7-train-x-2.npy\n",
      "INFO:tensorflow:Restoring parameters from ../datasets/casas/results/ttn/kyoto7/2000_32_512/9999/2/2_best_model\n",
      "Accuracy: 0.4222222222222222\n",
      "\n",
      "\n",
      "k: 2\tstep: 14000/22000, loss_value: 1.186654806137085\n",
      "\u001b[34m\u001b[1mmodel saved at: ../datasets/casas/results/ttn/kyoto7/2000_32_512/9999/2/2_14300_gaussians_github_ttn_1.1692951\u001b[0m\n",
      "✅ data_x_path: ../datasets/casas/ende/kyoto7/9999/npy/3/kyoto7-train-x-2.npy\n",
      "INFO:tensorflow:Restoring parameters from ../datasets/casas/results/ttn/kyoto7/2000_32_512/9999/2/2_14300_gaussians_github_ttn_1.1692951\n",
      "Accuracy: 0.40555555555555556\n",
      "\n",
      "\n",
      "\u001b[34m\u001b[1mmodel saved at: ../datasets/casas/results/ttn/kyoto7/2000_32_512/9999/2/2_best_model\u001b[0m\n",
      "✅ data_x_path: ../datasets/casas/ende/kyoto7/9999/npy/3/kyoto7-train-x-2.npy\n",
      "INFO:tensorflow:Restoring parameters from ../datasets/casas/results/ttn/kyoto7/2000_32_512/9999/2/2_best_model\n",
      "Accuracy: 0.4166666666666667\n",
      "\n",
      "\n",
      "k: 2\tstep: 15000/22000, loss_value: 1.2135426998138428\n"
     ]
    }
   ],
   "source": [
    "%%time\n",
    "dict_cus[\"distance_int\"] = 9999\n",
    "train_ttn(dict_cus)"
   ]
  },
  {
   "cell_type": "markdown",
   "metadata": {
    "pycharm": {
     "name": "#%% md\n"
    }
   },
   "source": [
    "```bash\n",
    "\n",
    "```"
   ]
  },
  {
   "cell_type": "code",
   "execution_count": null,
   "metadata": {
    "pycharm": {
     "name": "#%%\n"
    }
   },
   "outputs": [],
   "source": []
  },
  {
   "cell_type": "markdown",
   "metadata": {
    "pycharm": {
     "name": "#%% md\n"
    }
   },
   "source": [
    "# <a id='C'>C</a>"
   ]
  },
  {
   "cell_type": "code",
   "execution_count": null,
   "metadata": {
    "pycharm": {
     "name": "#%%\n"
    }
   },
   "outputs": [],
   "source": [
    "%%time\n",
    "dict_cus[\"distance_int\"] = 999\n",
    "train_ttn(dict_cus)"
   ]
  },
  {
   "cell_type": "markdown",
   "metadata": {
    "pycharm": {
     "name": "#%% md\n"
    }
   },
   "source": [
    "```bash\n",
    "\n",
    "```"
   ]
  },
  {
   "cell_type": "code",
   "execution_count": null,
   "metadata": {
    "pycharm": {
     "name": "#%%\n"
    }
   },
   "outputs": [],
   "source": []
  },
  {
   "cell_type": "markdown",
   "metadata": {
    "pycharm": {
     "name": "#%% md\n"
    }
   },
   "source": [
    "# <a id='constrain_1'>CS_1</a>"
   ]
  },
  {
   "cell_type": "code",
   "execution_count": null,
   "metadata": {
    "pycharm": {
     "name": "#%%\n"
    }
   },
   "outputs": [],
   "source": [
    "%%time\n",
    "dict_cus[\"distance_int\"] = 1\n",
    "train_ttn(dict_cus)"
   ]
  },
  {
   "cell_type": "markdown",
   "metadata": {
    "pycharm": {
     "name": "#%% md\n"
    }
   },
   "source": [
    "```bash\n",
    "\n",
    "```"
   ]
  },
  {
   "cell_type": "code",
   "execution_count": null,
   "metadata": {
    "pycharm": {
     "name": "#%%\n"
    }
   },
   "outputs": [],
   "source": []
  },
  {
   "cell_type": "markdown",
   "metadata": {
    "pycharm": {
     "name": "#%% md\n"
    }
   },
   "source": [
    "# <a id='constrain_2'>CS_2</a>"
   ]
  },
  {
   "cell_type": "code",
   "execution_count": null,
   "metadata": {
    "pycharm": {
     "name": "#%%\n"
    }
   },
   "outputs": [],
   "source": [
    "%%time\n",
    "dict_cus[\"distance_int\"] = 2\n",
    "train_ttn(dict_cus)"
   ]
  },
  {
   "cell_type": "markdown",
   "metadata": {
    "pycharm": {
     "name": "#%% md\n"
    }
   },
   "source": [
    "```bash\n",
    "\n",
    "```"
   ]
  },
  {
   "cell_type": "code",
   "execution_count": null,
   "metadata": {
    "pycharm": {
     "name": "#%%\n"
    }
   },
   "outputs": [],
   "source": []
  },
  {
   "cell_type": "markdown",
   "metadata": {
    "pycharm": {
     "name": "#%% md\n"
    }
   },
   "source": [
    "# <a id='constrain_3'>CS_3</a>"
   ]
  },
  {
   "cell_type": "code",
   "execution_count": null,
   "metadata": {
    "pycharm": {
     "name": "#%%\n"
    }
   },
   "outputs": [],
   "source": [
    "%%time\n",
    "dict_cus[\"distance_int\"] = 3\n",
    "train_ttn(dict_cus)"
   ]
  },
  {
   "cell_type": "markdown",
   "metadata": {
    "pycharm": {
     "name": "#%% md\n"
    }
   },
   "source": [
    "```bash\n",
    "\n",
    "```"
   ]
  },
  {
   "cell_type": "code",
   "execution_count": null,
   "metadata": {
    "pycharm": {
     "name": "#%%\n"
    }
   },
   "outputs": [],
   "source": []
  },
  {
   "cell_type": "markdown",
   "metadata": {
    "pycharm": {
     "name": "#%% md\n"
    }
   },
   "source": [
    "# <a id='constrain_4'>CS_4</a>"
   ]
  },
  {
   "cell_type": "code",
   "execution_count": null,
   "metadata": {
    "pycharm": {
     "name": "#%%\n"
    }
   },
   "outputs": [],
   "source": [
    "%%time\n",
    "dict_cus[\"distance_int\"] = 4\n",
    "train_ttn(dict_cus)"
   ]
  },
  {
   "cell_type": "markdown",
   "metadata": {
    "pycharm": {
     "name": "#%% md\n"
    }
   },
   "source": [
    "```bash\n",
    "\n",
    "```"
   ]
  },
  {
   "cell_type": "code",
   "execution_count": null,
   "metadata": {
    "pycharm": {
     "name": "#%%\n"
    }
   },
   "outputs": [],
   "source": []
  },
  {
   "cell_type": "markdown",
   "metadata": {
    "pycharm": {
     "name": "#%% md\n"
    }
   },
   "source": [
    "# <a id='constrain_5'>CS_5</a>"
   ]
  },
  {
   "cell_type": "code",
   "execution_count": null,
   "metadata": {
    "pycharm": {
     "name": "#%%\n"
    }
   },
   "outputs": [],
   "source": [
    "%%time\n",
    "dict_cus[\"distance_int\"] = 5\n",
    "train_ttn(dict_cus)"
   ]
  },
  {
   "cell_type": "markdown",
   "metadata": {
    "pycharm": {
     "name": "#%% md\n"
    }
   },
   "source": [
    "```bash\n",
    "\n",
    "```"
   ]
  },
  {
   "cell_type": "code",
   "execution_count": null,
   "metadata": {
    "pycharm": {
     "name": "#%%\n"
    }
   },
   "outputs": [],
   "source": []
  },
  {
   "cell_type": "markdown",
   "metadata": {
    "pycharm": {
     "name": "#%% md\n"
    }
   },
   "source": [
    "# <a id='statics'>statics</a>"
   ]
  },
  {
   "cell_type": "code",
   "execution_count": null,
   "metadata": {
    "pycharm": {
     "name": "#%%\n"
    }
   },
   "outputs": [],
   "source": [
    "dict_cus[\"num_classes\"] = 0\n",
    "dict_cus[\"num_train\"] = 0\n",
    "\n",
    "from configuration import configure\n",
    "configure.parameters_dict = general.Merge(configure.parameters_dict, dict_cus)\n",
    "weights_dir = general.getWeightsDir(configure.parameters_dict, 2)\n",
    "general.showResult(weights_dir)"
   ]
  },
  {
   "cell_type": "code",
   "execution_count": null,
   "metadata": {
    "pycharm": {
     "name": "#%%\n"
    }
   },
   "outputs": [],
   "source": []
  }
 ],
 "metadata": {
  "kernelspec": {
   "display_name": "Python 3",
   "language": "python",
   "name": "python3"
  },
  "language_info": {
   "codemirror_mode": {
    "name": "ipython",
    "version": 3
   },
   "file_extension": ".py",
   "mimetype": "text/x-python",
   "name": "python",
   "nbconvert_exporter": "python",
   "pygments_lexer": "ipython3",
   "version": "3.6.13"
  }
 },
 "nbformat": 4,
 "nbformat_minor": 1
}
