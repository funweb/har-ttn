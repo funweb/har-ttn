{
 "cells": [
  {
   "cell_type": "markdown",
   "metadata": {
    "pycharm": {
     "name": "#%% md\n"
    }
   },
   "source": [
    "# file name meaning\n",
    "\n",
    "eg. 100_cairo_2000_1024_32.ipynb\n",
    "\n",
    "`[tag]_[dataset_name]_[epochs/maxIters]_[data_length/seq_len]_[batch_size]`"
   ]
  },
  {
   "cell_type": "code",
   "execution_count": 1,
   "metadata": {
    "pycharm": {
     "name": "#%%\n"
    }
   },
   "outputs": [
    {
     "name": "stderr",
     "output_type": "stream",
     "text": [
      "/home/musk/anaconda3/envs/HARedit/lib/python3.6/site-packages/tensorflow/python/framework/dtypes.py:523: FutureWarning: Passing (type, 1) or '1type' as a synonym of type is deprecated; in a future version of numpy, it will be understood as (type, (1,)) / '(1,)type'.\n",
      "  _np_qint8 = np.dtype([(\"qint8\", np.int8, 1)])\n",
      "/home/musk/anaconda3/envs/HARedit/lib/python3.6/site-packages/tensorflow/python/framework/dtypes.py:524: FutureWarning: Passing (type, 1) or '1type' as a synonym of type is deprecated; in a future version of numpy, it will be understood as (type, (1,)) / '(1,)type'.\n",
      "  _np_quint8 = np.dtype([(\"quint8\", np.uint8, 1)])\n",
      "/home/musk/anaconda3/envs/HARedit/lib/python3.6/site-packages/tensorflow/python/framework/dtypes.py:525: FutureWarning: Passing (type, 1) or '1type' as a synonym of type is deprecated; in a future version of numpy, it will be understood as (type, (1,)) / '(1,)type'.\n",
      "  _np_qint16 = np.dtype([(\"qint16\", np.int16, 1)])\n",
      "/home/musk/anaconda3/envs/HARedit/lib/python3.6/site-packages/tensorflow/python/framework/dtypes.py:526: FutureWarning: Passing (type, 1) or '1type' as a synonym of type is deprecated; in a future version of numpy, it will be understood as (type, (1,)) / '(1,)type'.\n",
      "  _np_quint16 = np.dtype([(\"quint16\", np.uint16, 1)])\n",
      "/home/musk/anaconda3/envs/HARedit/lib/python3.6/site-packages/tensorflow/python/framework/dtypes.py:527: FutureWarning: Passing (type, 1) or '1type' as a synonym of type is deprecated; in a future version of numpy, it will be understood as (type, (1,)) / '(1,)type'.\n",
      "  _np_qint32 = np.dtype([(\"qint32\", np.int32, 1)])\n",
      "/home/musk/anaconda3/envs/HARedit/lib/python3.6/site-packages/tensorflow/python/framework/dtypes.py:532: FutureWarning: Passing (type, 1) or '1type' as a synonym of type is deprecated; in a future version of numpy, it will be understood as (type, (1,)) / '(1,)type'.\n",
      "  np_resource = np.dtype([(\"resource\", np.ubyte, 1)])\n"
     ]
    }
   ],
   "source": [
    "from train_network_synthetic import train_ttn\n",
    "\n",
    "from configuration import general\n",
    "import os\n",
    "from configuration.configure import JUPYTER_TOKEN\n",
    "\n",
    "\n",
    "nb_name_file = general.ipy_nb_name(JUPYTER_TOKEN[\"token_lists\"])"
   ]
  },
  {
   "cell_type": "code",
   "execution_count": 2,
   "metadata": {
    "pycharm": {
     "name": "#%%\n"
    }
   },
   "outputs": [
    {
     "data": {
      "text/plain": [
       "{'num': '291',\n",
       " 'dataset_name': 'milan',\n",
       " 'maxIters': 2000,\n",
       " 'seq_len': 512,\n",
       " 'batch_size': 32}"
      ]
     },
     "metadata": {},
     "output_type": "display_data"
    }
   ],
   "source": [
    "theNotebook = nb_name_file.split('_')\n",
    "assert len(theNotebook) == 5, 'The number of parameters should be 5'\n",
    "\n",
    "global title_param\n",
    "title_param = {\n",
    "    'num': theNotebook[0],\n",
    "    'dataset_name': theNotebook[1],\n",
    "    'maxIters': int(theNotebook[2]),\n",
    "    'seq_len': int(theNotebook[3]),\n",
    "    'batch_size': int(theNotebook[4]),\n",
    "}\n",
    "\n",
    "# assert title_param['dataset'] in ['cairo', 'milan', 'kyoto7', 'kyoto8', 'kyoto11'], 'Please correct the dataset name！'\n",
    "# assert title_param['model_name'] in ['WCNN','LSTM'], 'The method is wrong. Please correct it！'\n",
    "# assert title_param['optimizer'] in ['rms', 'adagrad'], 'The optimizer is wrong. Please correct it！'\n",
    "# assert title_param['calculation_unit'] in ['0', '1', '2'], 'Error in calculation unit selection, please correct！'\n",
    "\n",
    "display(title_param)"
   ]
  },
  {
   "cell_type": "code",
   "execution_count": 3,
   "metadata": {
    "pycharm": {
     "name": "#%%\n"
    }
   },
   "outputs": [
    {
     "data": {
      "text/plain": [
       "{'dataset_name': 'milan',\n",
       " 'maxIters': 2000,\n",
       " 'seq_len': 512,\n",
       " 'batch_size': 32,\n",
       " 'num': '291'}"
      ]
     },
     "execution_count": 3,
     "metadata": {},
     "output_type": "execute_result"
    }
   ],
   "source": [
    "dict_cus = {\n",
    "    \"dataset_name\": \"\",\n",
    "    \"maxIters\": \"\",  # 100000\n",
    "    \"seq_len\": \"\",\n",
    "    \"batch_size\": \"\",\n",
    "}\n",
    "\n",
    "dict_cus = general.Merge(dict_cus, title_param)\n",
    "dict_cus"
   ]
  },
  {
   "cell_type": "code",
   "execution_count": 4,
   "metadata": {
    "pycharm": {
     "name": "#%%\n"
    }
   },
   "outputs": [
    {
     "name": "stdout",
     "output_type": "stream",
     "text": [
      "GPU used: [0, 0], final choose: 0\n"
     ]
    }
   ],
   "source": [
    "import tensorflow as tf\n",
    "\n",
    "calculation_unit = general.getAvailableId()\n",
    "os.environ[\"CUDA_VISIBLE_DEVICES\"] = calculation_unit\n",
    "\n",
    "if calculation_unit != \"-1\":\n",
    "    config = tf.ConfigProto()\n",
    "    config.gpu_options.allow_growth = True\n",
    "    session = tf.Session(config=config)\n",
    "\n",
    "os.environ['TF_CPP_MIN_LOG_LEVEL'] = '3'"
   ]
  },
  {
   "cell_type": "code",
   "execution_count": null,
   "metadata": {
    "pycharm": {
     "name": "#%%\n"
    }
   },
   "outputs": [],
   "source": []
  },
  {
   "cell_type": "markdown",
   "metadata": {
    "pycharm": {
     "name": "#%% md\n"
    }
   },
   "source": [
    "[origin](#origin)\n",
    "\n",
    "[C](#constrain)\n",
    "\n",
    "[CS_1](#constrain_1)\n",
    "\n",
    "[CS_2](#constrain_2)\n",
    "\n",
    "[CS_3](#constrain_3)\n",
    "\n",
    "[CS_4](#constrain_4)\n",
    "\n",
    "[CS_5](#constrain_5)\n",
    "\n",
    "[statics](#statics)"
   ]
  },
  {
   "cell_type": "markdown",
   "metadata": {
    "pycharm": {
     "name": "#%% md\n"
    }
   },
   "source": [
    "# <a id='origin'>origin</a>"
   ]
  },
  {
   "cell_type": "code",
   "execution_count": null,
   "metadata": {
    "pycharm": {
     "name": "#%%\n"
    }
   },
   "outputs": [
    {
     "name": "stdout",
     "output_type": "stream",
     "text": [
      "✅ data_x_path: ../datasets/casas/ende/milan/9999/npy/3/milan-train-x-0.npy\n",
      "WARNING:tensorflow:From /home/musk/project/paperEdit/haredit-ttn/network_ttn_synthetic.py:31: calling reduce_mean (from tensorflow.python.ops.math_ops) with keep_dims is deprecated and will be removed in a future version.\n",
      "Instructions for updating:\n",
      "keep_dims is deprecated, use keepdims instead\n",
      "WARNING:tensorflow:From /home/musk/project/paperEdit/haredit-ttn/network_ttn_synthetic.py:32: calling reduce_sum (from tensorflow.python.ops.math_ops) with keep_dims is deprecated and will be removed in a future version.\n",
      "Instructions for updating:\n",
      "keep_dims is deprecated, use keepdims instead\n",
      "WARNING:tensorflow:From /home/musk/project/paperEdit/haredit-ttn/network_ttn_synthetic.py:78: softmax_cross_entropy_with_logits (from tensorflow.python.ops.nn_ops) is deprecated and will be removed in a future version.\n",
      "Instructions for updating:\n",
      "\n",
      "Future major versions of TensorFlow will allow gradients to flow\n",
      "into the labels input on backprop by default.\n",
      "\n",
      "See `tf.nn.softmax_cross_entropy_with_logits_v2`.\n",
      "\n",
      "WARNING:tensorflow:From /home/musk/anaconda3/envs/HARedit/lib/python3.6/site-packages/tensorflow/python/util/tf_should_use.py:189: initialize_all_variables (from tensorflow.python.ops.variables) is deprecated and will be removed after 2017-03-02.\n",
      "Instructions for updating:\n",
      "Use `tf.global_variables_initializer` instead.\n",
      "k: 0\tstep: 0/168000, loss_value: 2.3170955181121826\n",
      "Create subdir directory: ../datasets/casas/results/ttn/milan/2000_32_512/9999/0...\n",
      "\u001b[34m\u001b[1mmodel saved at: ../datasets/casas/results/ttn/milan/2000_32_512/9999/0/0_0_gaussians_github_ttn_2.3170955\u001b[0m\n",
      "✅ data_x_path: ../datasets/casas/ende/milan/9999/npy/3/milan-train-x-0.npy\n",
      "INFO:tensorflow:Restoring parameters from ../datasets/casas/results/ttn/milan/2000_32_512/9999/0/0_0_gaussians_github_ttn_2.3170955\n",
      "Accuracy: 0.07338769458858414\n",
      "\n",
      "\n",
      "\u001b[34m\u001b[1mmodel saved at: ../datasets/casas/results/ttn/milan/2000_32_512/9999/0/0_best_model\u001b[0m\n",
      "✅ data_x_path: ../datasets/casas/ende/milan/9999/npy/3/milan-train-x-0.npy\n",
      "INFO:tensorflow:Restoring parameters from ../datasets/casas/results/ttn/milan/2000_32_512/9999/0/0_best_model\n",
      "Accuracy: 0.06745737583395107\n",
      "\n",
      "\n",
      "k: 0\tstep: 1000/168000, loss_value: 1.6628844738006592\n",
      "k: 0\tstep: 2000/168000, loss_value: 1.3556047677993774\n",
      "k: 0\tstep: 3000/168000, loss_value: 1.2845714092254639\n",
      "k: 0\tstep: 4000/168000, loss_value: 1.7760982513427734\n",
      "k: 0\tstep: 5000/168000, loss_value: 1.3973782062530518\n",
      "k: 0\tstep: 6000/168000, loss_value: 1.5443780422210693\n",
      "k: 0\tstep: 7000/168000, loss_value: 1.280967354774475\n",
      "k: 0\tstep: 8000/168000, loss_value: 1.193988561630249\n",
      "\u001b[34m\u001b[1mmodel saved at: ../datasets/casas/results/ttn/milan/2000_32_512/9999/0/0_8400_gaussians_github_ttn_2.04033\u001b[0m\n",
      "✅ data_x_path: ../datasets/casas/ende/milan/9999/npy/3/milan-train-x-0.npy\n",
      "INFO:tensorflow:Restoring parameters from ../datasets/casas/results/ttn/milan/2000_32_512/9999/0/0_8400_gaussians_github_ttn_2.04033\n",
      "Accuracy: 0.44180874722016306\n",
      "\n",
      "\n",
      "\u001b[34m\u001b[1mmodel saved at: ../datasets/casas/results/ttn/milan/2000_32_512/9999/0/0_best_model\u001b[0m\n",
      "✅ data_x_path: ../datasets/casas/ende/milan/9999/npy/3/milan-train-x-0.npy\n",
      "INFO:tensorflow:Restoring parameters from ../datasets/casas/results/ttn/milan/2000_32_512/9999/0/0_best_model\n",
      "Accuracy: 0.44106745737583397\n",
      "\n",
      "\n",
      "k: 0\tstep: 9000/168000, loss_value: 1.560377597808838\n",
      "k: 0\tstep: 10000/168000, loss_value: 1.5316358804702759\n",
      "k: 0\tstep: 11000/168000, loss_value: 1.3096429109573364\n",
      "k: 0\tstep: 12000/168000, loss_value: 1.2146464586257935\n",
      "k: 0\tstep: 13000/168000, loss_value: 1.536086082458496\n",
      "k: 0\tstep: 14000/168000, loss_value: 1.4029799699783325\n",
      "k: 0\tstep: 15000/168000, loss_value: 1.822386622428894\n",
      "k: 0\tstep: 16000/168000, loss_value: 1.4611890316009521\n",
      "\u001b[34m\u001b[1mmodel saved at: ../datasets/casas/results/ttn/milan/2000_32_512/9999/0/0_16800_gaussians_github_ttn_1.605479\u001b[0m\n",
      "✅ data_x_path: ../datasets/casas/ende/milan/9999/npy/3/milan-train-x-0.npy\n",
      "INFO:tensorflow:Restoring parameters from ../datasets/casas/results/ttn/milan/2000_32_512/9999/0/0_16800_gaussians_github_ttn_1.605479\n",
      "Accuracy: 0.4395848776871757\n",
      "\n",
      "\n",
      "\u001b[34m\u001b[1mmodel saved at: ../datasets/casas/results/ttn/milan/2000_32_512/9999/0/0_best_model\u001b[0m\n",
      "✅ data_x_path: ../datasets/casas/ende/milan/9999/npy/3/milan-train-x-0.npy\n",
      "INFO:tensorflow:Restoring parameters from ../datasets/casas/results/ttn/milan/2000_32_512/9999/0/0_best_model\n",
      "Accuracy: 0.44106745737583397\n",
      "\n",
      "\n",
      "k: 0\tstep: 17000/168000, loss_value: 1.375553846359253\n",
      "k: 0\tstep: 18000/168000, loss_value: 1.4900977611541748\n",
      "k: 0\tstep: 19000/168000, loss_value: 1.3784124851226807\n",
      "k: 0\tstep: 20000/168000, loss_value: 1.2221074104309082\n",
      "k: 0\tstep: 21000/168000, loss_value: 1.6191675662994385\n",
      "k: 0\tstep: 22000/168000, loss_value: 1.286838412284851\n",
      "k: 0\tstep: 23000/168000, loss_value: 1.5866740942001343\n",
      "k: 0\tstep: 24000/168000, loss_value: 1.1796603202819824\n",
      "k: 0\tstep: 25000/168000, loss_value: 1.4885717630386353\n",
      "\u001b[34m\u001b[1mmodel saved at: ../datasets/casas/results/ttn/milan/2000_32_512/9999/0/0_25200_gaussians_github_ttn_1.2520412\u001b[0m\n",
      "✅ data_x_path: ../datasets/casas/ende/milan/9999/npy/3/milan-train-x-0.npy\n",
      "INFO:tensorflow:Restoring parameters from ../datasets/casas/results/ttn/milan/2000_32_512/9999/0/0_25200_gaussians_github_ttn_1.2520412\n",
      "Accuracy: 0.4573758339510749\n",
      "\n",
      "\n",
      "\u001b[34m\u001b[1mmodel saved at: ../datasets/casas/results/ttn/milan/2000_32_512/9999/0/0_best_model\u001b[0m\n",
      "✅ data_x_path: ../datasets/casas/ende/milan/9999/npy/3/milan-train-x-0.npy\n",
      "INFO:tensorflow:Restoring parameters from ../datasets/casas/results/ttn/milan/2000_32_512/9999/0/0_best_model\n",
      "Accuracy: 0.4477390659747961\n",
      "\n",
      "\n",
      "k: 0\tstep: 26000/168000, loss_value: 1.6460705995559692\n",
      "k: 0\tstep: 27000/168000, loss_value: 1.212845802307129\n",
      "k: 0\tstep: 28000/168000, loss_value: 1.1874183416366577\n",
      "k: 0\tstep: 29000/168000, loss_value: 1.3877766132354736\n",
      "k: 0\tstep: 30000/168000, loss_value: 1.498737096786499\n",
      "k: 0\tstep: 31000/168000, loss_value: 1.614767074584961\n",
      "k: 0\tstep: 32000/168000, loss_value: 0.8518077731132507\n",
      "k: 0\tstep: 33000/168000, loss_value: 1.227454423904419\n",
      "\u001b[34m\u001b[1mmodel saved at: ../datasets/casas/results/ttn/milan/2000_32_512/9999/0/0_33600_gaussians_github_ttn_1.5793169\u001b[0m\n",
      "✅ data_x_path: ../datasets/casas/ende/milan/9999/npy/3/milan-train-x-0.npy\n",
      "INFO:tensorflow:Restoring parameters from ../datasets/casas/results/ttn/milan/2000_32_512/9999/0/0_33600_gaussians_github_ttn_1.5793169\n",
      "Accuracy: 0.44996293550778355\n",
      "\n",
      "\n",
      "\u001b[34m\u001b[1mmodel saved at: ../datasets/casas/results/ttn/milan/2000_32_512/9999/0/0_best_model\u001b[0m\n",
      "✅ data_x_path: ../datasets/casas/ende/milan/9999/npy/3/milan-train-x-0.npy\n",
      "INFO:tensorflow:Restoring parameters from ../datasets/casas/results/ttn/milan/2000_32_512/9999/0/0_best_model\n",
      "Accuracy: 0.458117123795404\n",
      "\n",
      "\n",
      "k: 0\tstep: 34000/168000, loss_value: 1.2679715156555176\n",
      "k: 0\tstep: 35000/168000, loss_value: 1.6127413511276245\n",
      "k: 0\tstep: 36000/168000, loss_value: 1.7200853824615479\n",
      "k: 0\tstep: 37000/168000, loss_value: 1.266841173171997\n",
      "k: 0\tstep: 38000/168000, loss_value: 1.0154995918273926\n",
      "k: 0\tstep: 39000/168000, loss_value: 1.6626698970794678\n",
      "k: 0\tstep: 40000/168000, loss_value: 1.4571359157562256\n",
      "k: 0\tstep: 41000/168000, loss_value: 1.18917977809906\n",
      "k: 0\tstep: 42000/168000, loss_value: 1.3607103824615479\n",
      "\u001b[34m\u001b[1mmodel saved at: ../datasets/casas/results/ttn/milan/2000_32_512/9999/0/0_42000_gaussians_github_ttn_1.3607104\u001b[0m\n",
      "✅ data_x_path: ../datasets/casas/ende/milan/9999/npy/3/milan-train-x-0.npy\n",
      "INFO:tensorflow:Restoring parameters from ../datasets/casas/results/ttn/milan/2000_32_512/9999/0/0_42000_gaussians_github_ttn_1.3607104\n",
      "Accuracy: 0.45441067457375833\n",
      "\n",
      "\n",
      "\u001b[34m\u001b[1mmodel saved at: ../datasets/casas/results/ttn/milan/2000_32_512/9999/0/0_best_model\u001b[0m\n",
      "✅ data_x_path: ../datasets/casas/ende/milan/9999/npy/3/milan-train-x-0.npy\n",
      "INFO:tensorflow:Restoring parameters from ../datasets/casas/results/ttn/milan/2000_32_512/9999/0/0_best_model\n",
      "Accuracy: 0.46627131208302447\n",
      "\n",
      "\n",
      "k: 0\tstep: 43000/168000, loss_value: 1.1189279556274414\n",
      "k: 0\tstep: 44000/168000, loss_value: 1.2866296768188477\n",
      "k: 0\tstep: 45000/168000, loss_value: 1.6721229553222656\n",
      "k: 0\tstep: 46000/168000, loss_value: 1.4490642547607422\n",
      "k: 0\tstep: 47000/168000, loss_value: 1.2733745574951172\n"
     ]
    },
    {
     "name": "stdout",
     "output_type": "stream",
     "text": [
      "k: 0\tstep: 48000/168000, loss_value: 1.3803203105926514\n",
      "k: 0\tstep: 49000/168000, loss_value: 1.591033697128296\n",
      "k: 0\tstep: 50000/168000, loss_value: 1.0892870426177979\n",
      "\u001b[34m\u001b[1mmodel saved at: ../datasets/casas/results/ttn/milan/2000_32_512/9999/0/0_50400_gaussians_github_ttn_1.3173242\u001b[0m\n",
      "✅ data_x_path: ../datasets/casas/ende/milan/9999/npy/3/milan-train-x-0.npy\n",
      "INFO:tensorflow:Restoring parameters from ../datasets/casas/results/ttn/milan/2000_32_512/9999/0/0_50400_gaussians_github_ttn_1.3173242\n",
      "Accuracy: 0.458117123795404\n",
      "\n",
      "\n",
      "\u001b[34m\u001b[1mmodel saved at: ../datasets/casas/results/ttn/milan/2000_32_512/9999/0/0_best_model\u001b[0m\n",
      "✅ data_x_path: ../datasets/casas/ende/milan/9999/npy/3/milan-train-x-0.npy\n",
      "INFO:tensorflow:Restoring parameters from ../datasets/casas/results/ttn/milan/2000_32_512/9999/0/0_best_model\n",
      "Accuracy: 0.45218680504077097\n",
      "\n",
      "\n",
      "k: 0\tstep: 51000/168000, loss_value: 1.4821903705596924\n",
      "k: 0\tstep: 52000/168000, loss_value: 1.261807918548584\n",
      "k: 0\tstep: 53000/168000, loss_value: 1.4486241340637207\n",
      "k: 0\tstep: 54000/168000, loss_value: 1.1185342073440552\n",
      "k: 0\tstep: 55000/168000, loss_value: 1.41986083984375\n",
      "k: 0\tstep: 56000/168000, loss_value: 1.4481868743896484\n",
      "k: 0\tstep: 57000/168000, loss_value: 1.3781406879425049\n",
      "k: 0\tstep: 58000/168000, loss_value: 1.3374558687210083\n",
      "\u001b[34m\u001b[1mmodel saved at: ../datasets/casas/results/ttn/milan/2000_32_512/9999/0/0_58800_gaussians_github_ttn_1.2263701\u001b[0m\n",
      "✅ data_x_path: ../datasets/casas/ende/milan/9999/npy/3/milan-train-x-0.npy\n",
      "INFO:tensorflow:Restoring parameters from ../datasets/casas/results/ttn/milan/2000_32_512/9999/0/0_58800_gaussians_github_ttn_1.2263701\n",
      "Accuracy: 0.47071905114899926\n",
      "\n",
      "\n",
      "\u001b[34m\u001b[1mmodel saved at: ../datasets/casas/results/ttn/milan/2000_32_512/9999/0/0_best_model\u001b[0m\n",
      "✅ data_x_path: ../datasets/casas/ende/milan/9999/npy/3/milan-train-x-0.npy\n",
      "INFO:tensorflow:Restoring parameters from ../datasets/casas/results/ttn/milan/2000_32_512/9999/0/0_best_model\n",
      "Accuracy: 0.47516679021497404\n",
      "\n",
      "\n",
      "k: 0\tstep: 59000/168000, loss_value: 1.3274242877960205\n",
      "k: 0\tstep: 60000/168000, loss_value: 1.4736394882202148\n",
      "k: 0\tstep: 61000/168000, loss_value: 1.5617659091949463\n",
      "k: 0\tstep: 62000/168000, loss_value: 1.329787254333496\n",
      "k: 0\tstep: 63000/168000, loss_value: 1.4965975284576416\n",
      "k: 0\tstep: 64000/168000, loss_value: 1.0712639093399048\n",
      "k: 0\tstep: 65000/168000, loss_value: 1.1696288585662842\n",
      "k: 0\tstep: 66000/168000, loss_value: 1.717385172843933\n",
      "k: 0\tstep: 67000/168000, loss_value: 1.3693761825561523\n",
      "\u001b[34m\u001b[1mmodel saved at: ../datasets/casas/results/ttn/milan/2000_32_512/9999/0/0_67200_gaussians_github_ttn_1.0411125\u001b[0m\n",
      "✅ data_x_path: ../datasets/casas/ende/milan/9999/npy/3/milan-train-x-0.npy\n",
      "INFO:tensorflow:Restoring parameters from ../datasets/casas/results/ttn/milan/2000_32_512/9999/0/0_67200_gaussians_github_ttn_1.0411125\n",
      "Accuracy: 0.4714603409933284\n",
      "\n",
      "\n",
      "\u001b[34m\u001b[1mmodel saved at: ../datasets/casas/results/ttn/milan/2000_32_512/9999/0/0_best_model\u001b[0m\n",
      "✅ data_x_path: ../datasets/casas/ende/milan/9999/npy/3/milan-train-x-0.npy\n",
      "INFO:tensorflow:Restoring parameters from ../datasets/casas/results/ttn/milan/2000_32_512/9999/0/0_best_model\n",
      "Accuracy: 0.4699777613046701\n",
      "\n",
      "\n",
      "k: 0\tstep: 68000/168000, loss_value: 1.3894035816192627\n",
      "k: 0\tstep: 69000/168000, loss_value: 0.9451878666877747\n",
      "k: 0\tstep: 70000/168000, loss_value: 1.4746112823486328\n",
      "k: 0\tstep: 71000/168000, loss_value: 1.3882086277008057\n",
      "k: 0\tstep: 72000/168000, loss_value: 1.1792702674865723\n"
     ]
    }
   ],
   "source": [
    "%%time\n",
    "dict_cus[\"distance_int\"] = 9999\n",
    "train_ttn(dict_cus)"
   ]
  },
  {
   "cell_type": "markdown",
   "metadata": {
    "pycharm": {
     "name": "#%% md\n"
    }
   },
   "source": [
    "```bash\n",
    "\n",
    "```"
   ]
  },
  {
   "cell_type": "code",
   "execution_count": null,
   "metadata": {
    "pycharm": {
     "name": "#%%\n"
    }
   },
   "outputs": [],
   "source": []
  },
  {
   "cell_type": "markdown",
   "metadata": {
    "pycharm": {
     "name": "#%% md\n"
    }
   },
   "source": [
    "# <a id='C'>C</a>"
   ]
  },
  {
   "cell_type": "code",
   "execution_count": null,
   "metadata": {
    "pycharm": {
     "name": "#%%\n"
    }
   },
   "outputs": [],
   "source": [
    "%%time\n",
    "dict_cus[\"distance_int\"] = 999\n",
    "train_ttn(dict_cus)"
   ]
  },
  {
   "cell_type": "markdown",
   "metadata": {
    "pycharm": {
     "name": "#%% md\n"
    }
   },
   "source": [
    "```bash\n",
    "\n",
    "```"
   ]
  },
  {
   "cell_type": "code",
   "execution_count": null,
   "metadata": {
    "pycharm": {
     "name": "#%%\n"
    }
   },
   "outputs": [],
   "source": []
  },
  {
   "cell_type": "markdown",
   "metadata": {
    "pycharm": {
     "name": "#%% md\n"
    }
   },
   "source": [
    "# <a id='constrain_1'>CS_1</a>"
   ]
  },
  {
   "cell_type": "code",
   "execution_count": null,
   "metadata": {
    "pycharm": {
     "name": "#%%\n"
    }
   },
   "outputs": [],
   "source": [
    "%%time\n",
    "dict_cus[\"distance_int\"] = 1\n",
    "train_ttn(dict_cus)"
   ]
  },
  {
   "cell_type": "markdown",
   "metadata": {
    "pycharm": {
     "name": "#%% md\n"
    }
   },
   "source": [
    "```bash\n",
    "\n",
    "```"
   ]
  },
  {
   "cell_type": "code",
   "execution_count": null,
   "metadata": {
    "pycharm": {
     "name": "#%%\n"
    }
   },
   "outputs": [],
   "source": []
  },
  {
   "cell_type": "markdown",
   "metadata": {
    "pycharm": {
     "name": "#%% md\n"
    }
   },
   "source": [
    "# <a id='constrain_2'>CS_2</a>"
   ]
  },
  {
   "cell_type": "code",
   "execution_count": null,
   "metadata": {
    "pycharm": {
     "name": "#%%\n"
    }
   },
   "outputs": [],
   "source": [
    "%%time\n",
    "dict_cus[\"distance_int\"] = 2\n",
    "train_ttn(dict_cus)"
   ]
  },
  {
   "cell_type": "markdown",
   "metadata": {
    "pycharm": {
     "name": "#%% md\n"
    }
   },
   "source": [
    "```bash\n",
    "\n",
    "```"
   ]
  },
  {
   "cell_type": "code",
   "execution_count": null,
   "metadata": {
    "pycharm": {
     "name": "#%%\n"
    }
   },
   "outputs": [],
   "source": []
  },
  {
   "cell_type": "markdown",
   "metadata": {
    "pycharm": {
     "name": "#%% md\n"
    }
   },
   "source": [
    "# <a id='constrain_3'>CS_3</a>"
   ]
  },
  {
   "cell_type": "code",
   "execution_count": null,
   "metadata": {
    "pycharm": {
     "name": "#%%\n"
    }
   },
   "outputs": [],
   "source": [
    "%%time\n",
    "dict_cus[\"distance_int\"] = 3\n",
    "train_ttn(dict_cus)"
   ]
  },
  {
   "cell_type": "markdown",
   "metadata": {
    "pycharm": {
     "name": "#%% md\n"
    }
   },
   "source": [
    "```bash\n",
    "\n",
    "```"
   ]
  },
  {
   "cell_type": "code",
   "execution_count": null,
   "metadata": {
    "pycharm": {
     "name": "#%%\n"
    }
   },
   "outputs": [],
   "source": []
  },
  {
   "cell_type": "markdown",
   "metadata": {
    "pycharm": {
     "name": "#%% md\n"
    }
   },
   "source": [
    "# <a id='constrain_4'>CS_4</a>"
   ]
  },
  {
   "cell_type": "code",
   "execution_count": null,
   "metadata": {
    "pycharm": {
     "name": "#%%\n"
    }
   },
   "outputs": [],
   "source": [
    "%%time\n",
    "dict_cus[\"distance_int\"] = 4\n",
    "train_ttn(dict_cus)"
   ]
  },
  {
   "cell_type": "markdown",
   "metadata": {
    "pycharm": {
     "name": "#%% md\n"
    }
   },
   "source": [
    "```bash\n",
    "\n",
    "```"
   ]
  },
  {
   "cell_type": "code",
   "execution_count": null,
   "metadata": {
    "pycharm": {
     "name": "#%%\n"
    }
   },
   "outputs": [],
   "source": []
  },
  {
   "cell_type": "markdown",
   "metadata": {
    "pycharm": {
     "name": "#%% md\n"
    }
   },
   "source": [
    "# <a id='constrain_5'>CS_5</a>"
   ]
  },
  {
   "cell_type": "code",
   "execution_count": null,
   "metadata": {
    "pycharm": {
     "name": "#%%\n"
    }
   },
   "outputs": [],
   "source": [
    "%%time\n",
    "dict_cus[\"distance_int\"] = 5\n",
    "train_ttn(dict_cus)"
   ]
  },
  {
   "cell_type": "markdown",
   "metadata": {
    "pycharm": {
     "name": "#%% md\n"
    }
   },
   "source": [
    "```bash\n",
    "\n",
    "```"
   ]
  },
  {
   "cell_type": "code",
   "execution_count": null,
   "metadata": {
    "pycharm": {
     "name": "#%%\n"
    }
   },
   "outputs": [],
   "source": []
  },
  {
   "cell_type": "markdown",
   "metadata": {
    "pycharm": {
     "name": "#%% md\n"
    }
   },
   "source": [
    "# <a id='statics'>statics</a>"
   ]
  },
  {
   "cell_type": "code",
   "execution_count": null,
   "metadata": {
    "pycharm": {
     "name": "#%%\n"
    }
   },
   "outputs": [],
   "source": [
    "dict_cus[\"num_classes\"] = 0\n",
    "dict_cus[\"num_train\"] = 0\n",
    "\n",
    "from configuration import configure\n",
    "configure.parameters_dict = general.Merge(configure.parameters_dict, dict_cus)\n",
    "weights_dir = general.getWeightsDir(configure.parameters_dict, 2)\n",
    "general.showResult(weights_dir)"
   ]
  },
  {
   "cell_type": "code",
   "execution_count": null,
   "metadata": {
    "pycharm": {
     "name": "#%%\n"
    }
   },
   "outputs": [],
   "source": []
  }
 ],
 "metadata": {
  "kernelspec": {
   "display_name": "Python 3",
   "language": "python",
   "name": "python3"
  },
  "language_info": {
   "codemirror_mode": {
    "name": "ipython",
    "version": 3
   },
   "file_extension": ".py",
   "mimetype": "text/x-python",
   "name": "python",
   "nbconvert_exporter": "python",
   "pygments_lexer": "ipython3",
   "version": "3.6.13"
  }
 },
 "nbformat": 4,
 "nbformat_minor": 1
}
